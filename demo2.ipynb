{
 "cells": [
  {
   "cell_type": "markdown",
   "metadata": {},
   "source": [
    "## Inverse Cooking: Recipe Generation from Food Images"
   ]
  },
  {
   "cell_type": "code",
   "execution_count": null,
   "metadata": {
    "pycharm": {
     "is_executing": true,
     "name": "#%%\n"
    }
   },
   "outputs": [
    {
     "name": "stdout",
     "text": [
      "23231 1488\n",
      "loaded model\n",
      "Elapsed time: 2.8895721435546875\n",
      "{'000018c8a5': [], '000033e39b': [], '000035f7ed': [], '00003a70b1': ['http://img.sndimg.com/food/image/upload/w_512,h_512,c_fit,fl_progressive,q_95/v1/img/recipes/47/91/49/picaYYmb9.jpg', 'http://img.sndimg.com/food/image/upload/w_512,h_512,c_fit,fl_progressive,q_95/v1/img/recipes/47/91/49/picpy37SW.jpg', 'http://img.sndimg.com/food/image/upload/w_512,h_512,c_fit,fl_progressive,q_95/v1/img/recipes/47/91/49/picX9CNE2.jpg'], '00004320bb': [], '0000631d90': [], '000075604a': ['https://img-global.cpcdn.com/001_recipes/5806945844854784/0x0/photo.jpg'], '00007bfd16': ['http://img.sndimg.com/food/image/upload/w_512,h_512,c_fit,fl_progressive,q_95/v1/img/recipes/40/86/94/picNQPjbC.jpg', 'http://img.sndimg.com/food/image/upload/w_512,h_512,c_fit,fl_progressive,q_95/v1/img/recipes/40/86/94/picjXIJN8.jpg'], '000095fc1d': ['http://tastykitchen.com/recipes/wp-content/uploads/sites/2/2011/06/IMG_2692-630x420-410x615.jpg'], '0000973574': [], '0000a4bcf6': [], '0000b1e2b5': ['http://assets.epicurious.com/photos/5609a4d662fa7a9917c25748/master/pass/351294_hires.jpg'], '0000c79afb': ['http://img.sndimg.com/food/image/upload/w_512,h_512,c_fit,fl_progressive,q_95/v1/img/recipes/30/53/85/picZAmxgu.jpg'], '0000ed95f8': [], '00010379bf': ['https://img-global.cpcdn.com/001_recipes/5205549177110528/0x0/photo.jpg'], '000106ec3c': [], '00010c7867': ['http://img.sndimg.com/food/image/upload/w_512,h_512,c_fit,fl_progressive,q_95/v1/img/recipes/37/19/14/pic8wSA2x.jpg', 'http://img.sndimg.com/food/image/upload/w_512,h_512,c_fit,fl_progressive,q_95/v1/img/recipes/37/19/14/piczTZER2.jpg'], '00010d44c7': ['http://img.sndimg.com/food/image/upload/w_512,h_512,c_fit,fl_progressive,q_95/v1/img/recipes/30/40/6/30406.jpg'], '00011e0b2c': [], '00011fc1f9': [], '000128a538': [], '00013266c9': ['https://img-global.cpcdn.com/001_photo_reports/4904504583520256/0x0/photo.jpg'], '00015b5a39': [], '00016355e6': ['http://tastykitchen.com/recipes/wp-content/uploads/sites/2/2013/09/Banana-Cream-Pie-Smoothie-410x291.jpg'], '0001678f7a': [], '00016d71a4': [], '00018371f2': ['http://assets.kraftfoods.com/recipe_images/182098-182099.jpg'], '0001960f61': [], '00019675ca': [], '0001a2f336': [], '0001bdeec0': [], '0001cba765': [], '0001d356b6': [], '0001d6acb7': [], '0001d81db6': [], '000238353f': ['http://www.lovefood.com/images/content/body/plait1.jpg'], '0002491373': [], '00025af750': [], '00027b61de': [], '00029df38f': [], '00029f71f7': ['https://img-global.cpcdn.com/001_photo_reports/6008901292523520/0x0/photo.jpg', 'https://img-global.cpcdn.com/001_photo_reports/4743408963289088/0x0/photo.jpg'], '0002a82634': ['http://assets.kraftfoods.com/recipe_images/Popcorn-Trail-Mix-61178.jpg'], '0002e15d76': [], '0002ed1338': [], '0003132d05': [], '000320b7ce': ['http://www.landolakes.com/assets/images/recipe/orig/14745.jpg'], '000328f1ed': [], '00032d5bcd': [], '00033f624d': ['https://img-global.cpcdn.com/001_recipes/4558674072698880/0x0/photo.jpg'], '00034ad6cc': ['http://img.sndimg.com/food/image/upload/w_512,h_512,c_fit,fl_progressive,q_95/v1/img/recipes/68/54/3/picqcqXAo.jpg', 'http://img.sndimg.com/food/image/upload/w_512,h_512,c_fit,fl_progressive,q_95/v1/img/recipes/68/54/3/pic5bplCD.jpg', 'http://img.sndimg.com/food/image/upload/w_512,h_512,c_fit,fl_progressive,q_95/v1/img/recipes/68/54/3/pic3255r0.jpg']}\n",
      "['http://img.sndimg.com/food/image/upload/w_512,h_512,c_fit,fl_progressive,q_95/v1/img/recipes/47/91/49/picaYYmb9.jpg', 'http://img.sndimg.com/food/image/upload/w_512,h_512,c_fit,fl_progressive,q_95/v1/img/recipes/47/91/49/picpy37SW.jpg', 'http://img.sndimg.com/food/image/upload/w_512,h_512,c_fit,fl_progressive,q_95/v1/img/recipes/47/91/49/picX9CNE2.jpg', 'https://img-global.cpcdn.com/001_recipes/5806945844854784/0x0/photo.jpg', 'http://img.sndimg.com/food/image/upload/w_512,h_512,c_fit,fl_progressive,q_95/v1/img/recipes/40/86/94/picNQPjbC.jpg', 'http://img.sndimg.com/food/image/upload/w_512,h_512,c_fit,fl_progressive,q_95/v1/img/recipes/40/86/94/picjXIJN8.jpg', 'http://tastykitchen.com/recipes/wp-content/uploads/sites/2/2011/06/IMG_2692-630x420-410x615.jpg', 'http://assets.epicurious.com/photos/5609a4d662fa7a9917c25748/master/pass/351294_hires.jpg', 'http://img.sndimg.com/food/image/upload/w_512,h_512,c_fit,fl_progressive,q_95/v1/img/recipes/30/53/85/picZAmxgu.jpg', 'https://img-global.cpcdn.com/001_recipes/5205549177110528/0x0/photo.jpg', 'http://img.sndimg.com/food/image/upload/w_512,h_512,c_fit,fl_progressive,q_95/v1/img/recipes/37/19/14/pic8wSA2x.jpg', 'http://img.sndimg.com/food/image/upload/w_512,h_512,c_fit,fl_progressive,q_95/v1/img/recipes/37/19/14/piczTZER2.jpg', 'http://img.sndimg.com/food/image/upload/w_512,h_512,c_fit,fl_progressive,q_95/v1/img/recipes/30/40/6/30406.jpg', 'https://img-global.cpcdn.com/001_photo_reports/4904504583520256/0x0/photo.jpg', 'http://tastykitchen.com/recipes/wp-content/uploads/sites/2/2013/09/Banana-Cream-Pie-Smoothie-410x291.jpg', 'http://assets.kraftfoods.com/recipe_images/182098-182099.jpg', 'http://www.lovefood.com/images/content/body/plait1.jpg', 'https://img-global.cpcdn.com/001_photo_reports/6008901292523520/0x0/photo.jpg', 'https://img-global.cpcdn.com/001_photo_reports/4743408963289088/0x0/photo.jpg', 'http://assets.kraftfoods.com/recipe_images/Popcorn-Trail-Mix-61178.jpg', 'http://www.landolakes.com/assets/images/recipe/orig/14745.jpg', 'https://img-global.cpcdn.com/001_recipes/4558674072698880/0x0/photo.jpg', 'http://img.sndimg.com/food/image/upload/w_512,h_512,c_fit,fl_progressive,q_95/v1/img/recipes/68/54/3/picqcqXAo.jpg', 'http://img.sndimg.com/food/image/upload/w_512,h_512,c_fit,fl_progressive,q_95/v1/img/recipes/68/54/3/pic5bplCD.jpg', 'http://img.sndimg.com/food/image/upload/w_512,h_512,c_fit,fl_progressive,q_95/v1/img/recipes/68/54/3/pic3255r0.jpg']\n",
      "['00003a70b1', '00003a70b1', '00003a70b1', '000075604a', '00007bfd16', '00007bfd16', '000095fc1d', '0000b1e2b5', '0000c79afb', '00010379bf', '00010c7867', '00010c7867', '00010d44c7', '00013266c9', '00016355e6', '00018371f2', '000238353f', '00029f71f7', '00029f71f7', '0002a82634', '000320b7ce', '00033f624d', '00034ad6cc', '00034ad6cc', '00034ad6cc']\n",
      "['cheese', 'onion', 'pepper', 'potato', 'milk', 'salt', 'butter', 'cream']\n",
      "{}\n",
      "['potato', 'cheese', 'butter', 'pepper', 'onion', 'cream', 'milk', 'salt']\n",
      "{'00003a70b1': ['cheese', 'onion', 'pepper', 'potato', 'milk', 'salt', 'butter', 'cream']}\n",
      "['cheese', 'pepper', 'onion', 'egg', 'potato', 'salt', 'milk', 'cream', 'butter']\n",
      "{'00003a70b1': ['potato', 'cheese', 'butter', 'pepper', 'onion', 'cream', 'milk', 'salt']}\n"
     ],
     "output_type": "stream"
    },
    {
     "name": "stderr",
     "text": [
      "/Users/luisrita/PycharmProjects/HyperFoods/venv/lib/python3.6/site-packages/torch/nn/functional.py:52: UserWarning: size_average and reduce args will be deprecated, please use reduction='none' instead.\n",
      "  warnings.warn(warning.format(ret))\n"
     ],
     "output_type": "stream"
    },
    {
     "data": {
      "text/plain": "<Figure size 640x480 with 1 Axes>"
     },
     "metadata": {},
     "output_type": "display_data"
    },
    {
     "data": {
      "text/plain": "<Figure size 640x480 with 1 Axes>"
     },
     "metadata": {},
     "output_type": "display_data"
    },
    {
     "data": {
      "text/plain": "<Figure size 640x480 with 1 Axes>"
     },
     "metadata": {},
     "output_type": "display_data"
    }
   ],
   "source": [
    "from demo import demo_func\n",
    "\n",
    "demo_func()"
   ]
  }
 ],
 "metadata": {
  "kernelspec": {
   "display_name": "Python 3",
   "language": "python",
   "name": "python3"
  },
  "language_info": {
   "codemirror_mode": {
    "name": "ipython",
    "version": 3
   },
   "file_extension": ".py",
   "mimetype": "text/x-python",
   "name": "python",
   "nbconvert_exporter": "python",
   "pygments_lexer": "ipython3",
   "version": "3.6.8"
  },
  "pycharm": {
   "stem_cell": {
    "cell_type": "raw",
    "source": [],
    "metadata": {
     "collapsed": false
    }
   }
  }
 },
 "nbformat": 4,
 "nbformat_minor": 2
}