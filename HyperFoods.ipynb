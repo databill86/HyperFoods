{
 "cells": [
  {
   "cell_type": "markdown",
   "metadata": {
    "pycharm": {
     "is_executing": false,
     "name": "#%% md\n"
    }
   },
   "source": [
    "# HyperFoods: Machine intelligent mapping of cancer-beating molecules in foods\n",
    "\n",
    "## Recipe Retrieval w/ Higher Number Anti-Cancer Molecules\n",
    "\n",
    "Each recipe had all the ingredients concatenated in single string. It was used the ingredients vocabulary of the dataset\n",
    "to filter what were and what weren't ingredient names in each string. Finally, it was calculated the sum of the number\n",
    "of anti-cancer molecules present in each recipe using the table food_compound.csv. A DataFrame object was created so that\n",
    "it not ony shows us the ID of each recipe, but also the number of anti-cancer molecules, along with an URL to the recipe's\n",
    "location online."
   ]
  },
  {
   "cell_type": "markdown",
   "metadata": {
    "pycharm": {
     "name": "#%% md\n"
    }
   },
   "source": [
    "## Importing Modules\n",
    "\n",
    "Importing libraries installed using PyPI and functions present in scripts created in for this project."
   ]
  },
  {
   "cell_type": "code",
   "execution_count": null,
   "metadata": {
    "pycharm": {
     "is_executing": false,
     "name": "#%%\n"
    }
   },
   "outputs": [],
   "source": [
    "# ---------------------------- Data Management ----------------------------\n",
    "# pandas is an open source library providing high-performance, easy-to-use data structures and data \n",
    "# analysis tools for the Python programming language.\n",
    "\n",
    "import pandas\n",
    "\n",
    "# ---------------------------- Scientific Operations ----------------------------\n",
    "# NumPy is the fundamental package for scientific computing with Python. It contains among other things: a powerful \n",
    "# N-dimensional array object, sophisticated (broadcasting) functions, tools for integrating C/C++ and Fortran code, \n",
    "# useful linear algebra, Fourier transform, and random number capabilities.\n",
    "\n",
    "import numpy\n",
    "\n",
    "# ---------------------------- Write & Read JSON Files ----------------------------\n",
    "# Python has a built-in package which can be used to work with JSON data.\n",
    "\n",
    "import json\n",
    "\n",
    "# ---------------------------- Pickling ----------------------------\n",
    "# The pickle module implements binary protocols for serializing and de-serializing a Python object structure. “Pickling”\n",
    "# is the process whereby a Python object hierarchy is converted into a byte stream, and “unpickling” is the inverse \n",
    "# operation, whereby a byte stream (from a binary file or bytes-like object) is converted back into an object hierarchy.\n",
    "\n",
    "import pickle\n",
    "\n",
    "# ------------------------------------- Word2Vec -------------------------------------\n",
    "# Word2Vec is a group of related models that are used to produce word embeddings. These models are shallow, two-layer neural\n",
    "# networks that are trained to reconstruct linguistic contexts of words. Word2vec takes as its input a large corpus of\n",
    "# text and produces a vector space, typically of several hundred dimensions, with each unique word in the corpus being\n",
    "# assigned a corresponding vector in the space. Word vectors are positioned in the vector space such that words that\n",
    "# share common contexts in the corpus are located close to one another in the space.\n",
    "# Gensim is a Python library for topic modelling, document indexing and similarity retrieval with large corpora. Target\n",
    "# audience is the natural language processing (NLP) and information retrieval (IR) community.\n",
    "\n",
    "import gensim\n",
    "from gensim.models import Word2Vec\n",
    "\n",
    "# -------------------------- Dimensionality Reduction Tools --------------------------\n",
    "# Scikit-learn (also known as sklearn) is a free software machine learning library for the\n",
    "# Python programming language.It features various classification, regression and clustering algorithms including \n",
    "# support vector machines, random forests, gradient boosting, k-means and DBSCAN, and is designed to interoperate with\n",
    "# the Python numerical and scientific libraries NumPy and SciPy.\n",
    "# Principal component analysis (PCA) - Linear dimensionality reduction using Singular Value Decomposition of the data to\n",
    "# project it to a lower dimensional space. The input data is centered but not scaled for each feature before applying \n",
    "# the SVD.\n",
    "# t-distributed Stochastic Neighbor Embedding (t-SNE) - It is a tool to visualize high-dimensional data. It converts \n",
    "# similarities between data points to joint probabilities and tries to minimize the Kullback-Leibler divergence between\n",
    "# the joint probabilities of the low-dimensional embedding and the high-dimensional data. t-SNE has a cost function that\n",
    "# is not convex, i.e. with different initializations we can get different results.\n",
    "\n",
    "from sklearn.decomposition import PCA\n",
    "from sklearn.manifold import TSNE\n",
    "\n",
    "# ------------------------------ Check File Existance -------------------------------\n",
    "# The main purpose of the OS module is to interact with the operating system. Its primary use consists in \n",
    "# creating folders, removing folders, moving folders, and sometimes changing the working directory.\n",
    "\n",
    "from os import path\n",
    "\n",
    "# ------------------------ Designed Visualization Functions -------------------------\n",
    "# Matplotlib is a Python 2D plotting library which produces publication quality figures in a variety of hardcopy formats\n",
    "# and interactive environments across platforms. Matplotlib can be used in Python scripts, the Python and IPython\n",
    "# shells, the Jupyter notebook, web application servers, and four graphical user interface toolkits.\n",
    "# Plotly's Python graphing library makes interactive, publication-quality graphs. You can use it to make line plots, \n",
    "# scatter plots, area charts, bar charts, error bars, box plots, histograms, heatmaps, subplots, multiple-axes, polar \n",
    "# charts, and bubble charts.\n",
    "# Seaborn is a Python data visualization library based on matplotlib. It provides a high-level interface for drawing\n",
    "# attractive and informative statistical graphics.\n",
    "\n",
    "from algorithms.view.matplotlib_designed import matplotlib_function\n",
    "from algorithms.view.plotly_designed import plotly_function\n",
    "from algorithms.view.seaborn_designed import seaborn_function\n",
    "\n",
    "# ------------------------ Retrieving Ingredients, Units and Quantities -------------------------\n",
    "\n",
    "from algorithms.parsing.ingredient_quantities import ingredient_quantities\n",
    "\n",
    "# ------------------------ Create Distance Matrix -------------------------\n",
    "# SciPy is a free and open-source Python library used for scientific and technical computing. SciPy contains modules for\n",
    "# optimization, linear algebra, integration, interpolation, special functions, FFT, signal and image processing, ODE\n",
    "# solvers and other tasks common in science and engineering.\n",
    "# distance_matrix returns the matrix of all pair-wise distances.\n",
    "\n",
    "from scipy.spatial import distance_matrix\n",
    "\n",
    "# ------------------------ Clustering Algorithms -------------------------\n",
    "#\n",
    "\n",
    "from clustering.infomapAlgorithm import infomap_function # Infomap algorithm detects communities in large networks with the map equation framework.\n",
    "from sklearn.cluster import DBSCAN # DBSCAN\n",
    "from sklearn.cluster import MeanShift # Meanshift\n",
    "import community # Louvain\n",
    "\n",
    "# ------------------------ Jupyter Notebook Widgets -------------------------\n",
    "# Interactive HTML widgets for Jupyter notebooks and the IPython kernel.\n",
    "\n",
    "import ipywidgets as w\n",
    "from IPython.core.display import display\n",
    "from IPython.display import Image\n",
    "\n",
    "# ------------------------ IoU Score -------------------------\n",
    "# The Jaccard index, also known as Intersection over Union and the Jaccard similarity coefficient (originally given the\n",
    "# French name coefficient de communauté by Paul Jaccard), is a statistic used for gauging the similarity and diversity \n",
    "# of sample sets. The Jaccard coefficient measures similarity between finite sample sets, and is defined as the size of \n",
    "# the intersection divided by the size of the union of the sample sets.\n",
    "# Function implemented during this project.\n",
    "\n",
    "from benchmark.iou_designed import iou_function\n",
    "\n",
    "# ------------------------ F1 Score -------------------------\n",
    "# The F1 score can be interpreted as a weighted average of the precision and recall, where an F1 score reaches its best\n",
    "# value at 1 and worst score at 0. The relative contribution of precision and recall to the F1 score are equal. The \n",
    "# formula for the F1 score is: F1 = 2 * (precision * recall) / (precision + recall)\n",
    "\n",
    "from sklearn.preprocessing import MultiLabelBinarizer\n",
    "from sklearn.metrics import f1_score\n",
    "\n",
    "# ------------------------ API Requests -------------------------\n",
    "# The requests library is the de facto standard for making HTTP requests in Python. It abstracts the complexities of\n",
    "# making requests behind a beautiful, simple API so that you can focus on interacting with services and consuming data \n",
    "# in your application.\n",
    "\n",
    "import requests\n",
    "\n",
    "# ------------------------ RegEx -------------------------\n",
    "# A RegEx, or Regular Expression, is a sequence of characters that forms a search pattern.\n",
    "# RegEx can be used to check if a string contains the specified search pattern.\n",
    "# Python has a built-in package called re, which can be used to work with Regular Expressions.\n",
    "\n",
    "import re\n",
    "\n",
    "# ------------------------ Inflect -------------------------\n",
    "# Correctly generate plurals, singular nouns, ordinals, indefinite articles; convert numbers to words.\n",
    "\n",
    "import inflect\n",
    "\n",
    "# ------------------------ Parse URLs -------------------------\n",
    "# This module defines a standard interface to break Uniform Resource Locator (URL) strings up in components (addressing\n",
    "# scheme, network location, path etc.), to combine the components back into a URL string, and to convert a “relative URL”\n",
    "# to an absolute URL given a “base URL.”\n",
    "\n",
    "from urllib.parse import urlparse\n",
    "\n",
    "# ------------------------ Embedding HTML -------------------------\n",
    "# Public API for display tools in IPython.\n",
    "\n",
    "from IPython.display import HTML\n",
    "\n",
    "# ------------------------ Creating Graph -------------------------\n",
    "# NetworkX is a Python package for the creation, manipulation, and study of the structure, dynamics, and functions of \n",
    "# complex networks.\n",
    "\n",
    "import networkx"
   ]
  },
  {
   "cell_type": "markdown",
   "metadata": {},
   "source": [
    "## Recipe1M+ Dataset"
   ]
  },
  {
   "cell_type": "code",
   "execution_count": null,
   "metadata": {
    "pycharm": {
     "is_executing": false,
     "name": "#%%\n"
    }
   },
   "outputs": [],
   "source": [
    "# ---------------------------- Importing Dataset ----------------------------\n",
    "\n",
    "f = open('./data/recipe1M+/layer11.json')\n",
    "recipes_data = (json.load(f))#[0:100000]\n",
    "f.close()\n",
    "\n",
    "id_ingredients = {}\n",
    "id_url = {}\n",
    "   \n",
    "for recipe in recipes_data:\n",
    "\n",
    "    id_ingredients[recipe[\"id\"]] = []\n",
    "    id_url[recipe[\"id\"]] = recipe[\"url\"]\n",
    "    \n",
    "    for index, ingredient in enumerate(recipe[\"ingredients\"]):\n",
    "        id_ingredients[recipe[\"id\"]].append({\"id\": index, \"ingredient\": (ingredient[\"text\"]).lower()})\n",
    "\n",
    "# ---------------------------- Details Recipe1M+ ----------------------------\n",
    "\n",
    "# Online websites parsed to retrieve recipes.\n",
    "\n",
    "recipe_databases = []\n",
    "\n",
    "for key, value in id_url.items():\n",
    "    \n",
    "    parsed_uri = urlparse(value)\n",
    "    result = '{uri.scheme}://{uri.netloc}'.format(uri=parsed_uri)\n",
    "    \n",
    "    recipe_databases.append(result)\n",
    "\n",
    "list(set(recipe_databases)) # The common approach to get a unique collection of items is to use a set. Sets are \n",
    "# unordered collections of distinct objects. To create a set from any iterable, you can simply pass it to the built-in\n",
    "# set() function. If you later need a real list again, you can similarly pass the set to the list() function.\n",
    "\n",
    "with open('./data/allRecipeDatabases.txt', 'w') as f:\n",
    "    for item in list(set(recipe_databases)):\n",
    "        f.write(\"%s\\n\" % item)"
   ]
  },
  {
   "cell_type": "markdown",
   "metadata": {},
   "source": [
    "### Recipe1M+ Dataset Errors Corrected"
   ]
  },
  {
   "cell_type": "code",
   "execution_count": null,
   "metadata": {
    "pycharm": {
     "is_executing": false,
     "name": "#%%\n"
    }
   },
   "outputs": [],
   "source": [
    "import json\n",
    "import re\n",
    "\n",
    "# ---------------------------- Importing Raw Recipe Dataset ----------------------------\n",
    "\n",
    "f = open('./data/recipe1M+/layer11.json')\n",
    "original_recipes_data = (json.load(f))[0:10]\n",
    "f.close()"
   ]
  },
  {
   "cell_type": "code",
   "execution_count": null,
   "outputs": [],
   "source": [
    "# ---------------------------- Deleting Non-English/Empty Recipes ----------------------------\n",
    "\n",
    "import json\n",
    "import re\n",
    "                    \n",
    "#from textblob import TextBlob\n",
    "from langdetect import detect\n",
    "\n",
    "modified_modified_recipes_data = []\n",
    "\n",
    "for key, recipe in enumerate(original_recipes_data):\n",
    "    \n",
    "    for ingredient in original_recipes_data[key][\"ingredients\"]:\n",
    "        \n",
    "        if len(ingredient[\"text\"].split(\" \")) > 5:\n",
    "                                                        \n",
    "            #b = TextBlob(modified_recipes_data[key][\"instructions\"][0][\"text\"])\n",
    "        \n",
    "            print(detect(ingredient[\"text\"] + \"a\"))\n",
    "            if detect(ingredient[\"text\"] + \"a\") == \"en\":\n",
    "            #if b.detect_language() == \"en\":\n",
    "                #print(\"en\")\n",
    "        \n",
    "                modified_modified_recipes_data.append(recipe)\n",
    "                \n",
    "            break\n",
    "            "
   ],
   "metadata": {
    "collapsed": false,
    "pycharm": {
     "name": "#%%     \n",
     "is_executing": false
    }
   }
  },
  {
   "cell_type": "code",
   "execution_count": null,
   "outputs": [],
   "source": [
    "# ---------------------------- Correcting Fractions in Food.com ----------------------------\n",
    "\n",
    "relative_units = {\"cup\": 240, \"cups\": 240, \"c.\": 240, \"tablespoon\": 15, \"tablespoons\": 15, \"bar\": 150, \"bars\": 150, \"lump\": 5, \"lumps\": 5, \"piece\": 25, \"pieces\": 25, \"portion\": 100, \"portions\": 100, \"slice\": 10, \"slices\": 10, \"teaspoon\": 5, \"teaspoons\": 5, \"tbls\": 15, \"tsp\": 5, \"jar\": 250, \"jars\": 250, \"pinch\": 1, \"pinches\": 1, \"dash\": 1, \"can\": 330, \"box\": 250, \"boxes\": 250, \"small\": 250, \"medium\": 500, \"large\": 750, \"big\": 750, \"sprig\": 0.1, \"sprigs\": 0.1, \"bunch\": 100, \"bunches\": 100, \"leaves\": 0.1, \"packs\": 100, \"packages\": 100, \"pck\": 100, \"pcks\": 100, \"stalk\": 0.1}\n",
    "\n",
    "modified_recipes_data = original_recipes_data\n",
    "\n",
    "#print(original_recipes_data)\n",
    "\n",
    "for key, recipe in enumerate(original_recipes_data):\n",
    "    \n",
    "    if (\".food.com\" or \"/food.com\") in recipe[\"url\"]:\n",
    "        \n",
    "        for key2, ingredient in enumerate(recipe[\"ingredients\"]):\n",
    "            \n",
    "            if re.search(r\"[1-5][1-9]\", ingredient[\"text\"]):\n",
    "                \n",
    "                number = re.search(r\"[1-5][1-9]\", ingredient[\"text\"]).group()\n",
    "                \n",
    "                split_ingredient_list = (ingredient[\"text\"].split(\" \"))\n",
    "                \n",
    "                for index in range(len(split_ingredient_list) - 1):\n",
    "                                        \n",
    "                    if split_ingredient_list[index] == number and split_ingredient_list[index + 1] in list(relative_units.keys()):\n",
    "                        \n",
    "                        split_ingredient = split_ingredient_list[index][0] + \"/\" + split_ingredient_list[index][1]\n",
    "                        split_ingredient = \"\".join(split_ingredient)\n",
    "                        \n",
    "                        split_ingredient_list[index] = split_ingredient\n",
    "                        split_ingredient_list = \" \".join(split_ingredient_list)\n",
    "                        \n",
    "                        modified_recipes_data[key][\"ingredients\"][key2][\"text\"] = split_ingredient_list\n",
    "                        "
   ],
   "metadata": {
    "collapsed": false,
    "pycharm": {
     "name": "#%%\n"
    }
   }
  },
  {
   "cell_type": "code",
   "execution_count": null,
   "outputs": [],
   "source": [
    "# ---------------------------- Exporting Corrected Recipe Dataset ----------------------------\n",
    "\n",
    "with open('./data/recipe1M+/layer11_corrected.json', 'w') as json_file:\n",
    "    \n",
    "    json.dump(modified_modified_recipes_data, json_file)\n",
    "    "
   ],
   "metadata": {
    "collapsed": false,
    "pycharm": {
     "name": "#%%\n",
     "is_executing": false
    }
   }
  },
  {
   "cell_type": "code",
   "execution_count": null,
   "outputs": [],
   "source": [
    "from langdetect import detect\n",
    "\n",
    "try:\n",
    "    print(detect(\"m 1, 5 . . ( )\"))\n",
    "    \n",
    "except ValueError:\n",
    "    print(\"wrong\")"
   ],
   "metadata": {
    "collapsed": false,
    "pycharm": {
     "name": "#%%\n",
     "is_executing": false
    }
   }
  },
  {
   "cell_type": "markdown",
   "metadata": {},
   "source": [
    "## Natural Language Processing"
   ]
  },
  {
   "cell_type": "markdown",
   "metadata": {
    "pycharm": {
     "name": "#%% md\n"
    }
   },
   "source": [
    "### Creating Units Vocabulary"
   ]
  },
  {
   "cell_type": "code",
   "execution_count": null,
   "metadata": {
    "pycharm": {
     "is_executing": false,
     "name": "#%%\n"
    }
   },
   "outputs": [],
   "source": [
    "import json\n",
    "import re\n",
    "import inflect\n",
    "import pickle\n",
    "import string \n",
    "\n",
    "p = inflect.engine()\n",
    "\n",
    "with open('./vocabulary/ingr_vocab.pkl', 'rb') as f: # Includes every ingredient present in the dataset.\n",
    "    ingredients_list = pickle.load(f)\n",
    "\n",
    "f = open('./data/recipe1M+/layer11.json')\n",
    "original_recipes_data = (json.load(f))#[0:100000]\n",
    "f.close()\n",
    "\n",
    "units_list_temp = {}\n",
    "\n",
    "def get_units(ingredient_text_input, number_input):\n",
    "    \n",
    "    split_ingredient_list2 = ingredient_text_input.replace(\"/\", \" \").replace(\"-\", \" \").translate({ord(ii): None for ii in string.punctuation.replace(\".\", \"\")}).lower().split(\" \")\n",
    "    print(split_ingredient_list2)\n",
    "    \n",
    "    for number_input_it in number_input:\n",
    "        \n",
    "        for iji in range(len(split_ingredient_list2) - 1):\n",
    "                                            \n",
    "            if split_ingredient_list2[iji] == number_input_it and re.search(r\"[0-9]\", split_ingredient_list2[iji + 1]) is None and re.search(r\".\\b\", split_ingredient_list2[iji + 1]) is None:\n",
    "                            \n",
    "                units_list_temp[split_ingredient_list2[iji + 1]] = True\n",
    "                break\n",
    "\n",
    "for original_recipes_data_it in original_recipes_data:\n",
    "        \n",
    "        for ingredient_it in original_recipes_data_it[\"ingredients\"]:\n",
    "                        \n",
    "            # search_number = re.search(r\"\\d\", ingredient_text)\n",
    "            \n",
    "            number_array = re.findall(r\"\\d\", ingredient_it[\"text\"])\n",
    "            \n",
    "            if number_array:\n",
    "                \n",
    "                # search_number.group() # [0-9]|[0-9][0-9]|[0-9][0-9][0-9]|[0-9][0-9][0-9][0-9]                \n",
    "                get_units(ingredient_it[\"text\"], number_array)\n",
    "                \n",
    "units_list = list(units_list_temp.keys())\n",
    "units_list.sort()\n",
    "\n",
    "print(units_list)\n",
    "\n",
    "# Save a dictionary into a txt file.\n",
    "with open('./vocabulary/units_list.txt', 'w') as f:\n",
    "    for item in units_list:\n",
    "        if item != \"<end>\" and item != \"<pad>\":\n",
    "            f.write(\"%s\\n\" % item)\n",
    "            \n",
    "#for jj, ingredients_list_it in enumerate(ingredients_list):\n",
    "                    \n",
    "                    #if predicted_unit in ingredients_list_it or predicted_unit in p.plural(ingredients_list_it):\n",
    "                \n",
    "                        #break\n",
    "                \n",
    "                    #elif jj == len(ingredients_list) - 1:"
   ]
  },
  {
   "cell_type": "code",
   "execution_count": null,
   "outputs": [],
   "source": [
    "import pickle\n",
    "import inflect\n",
    "\n",
    "p = inflect.engine()\n",
    "\n",
    "with open('./vocabulary/ingr_vocab.pkl', 'rb') as f: # Includes every ingredient present in the dataset.\n",
    "    ingredients_list = pickle.load(f)  \n",
    "\n",
    "lineList = [line.rstrip('\\n') for line in open('./vocabulary/units_list.txt')]\n",
    "  \n",
    "print(lineList)"
   ],
   "metadata": {
    "collapsed": false,
    "pycharm": {
     "name": "#%%\n",
     "is_executing": false
    }
   }
  },
  {
   "cell_type": "code",
   "execution_count": null,
   "outputs": [],
   "source": [
    "final_units = []\n",
    "\n",
    "for unit in lineList:\n",
    "\n",
    "    for index, ingredients_list_it in enumerate(ingredients_list):\n",
    "                        \n",
    "        if unit == ingredients_list_it or unit == p.plural(ingredients_list_it):\n",
    "                    \n",
    "            break\n",
    "                    \n",
    "        elif index == len(ingredients_list) - 1:\n",
    "            \n",
    "            final_units.append(unit)\n",
    "\n",
    "print(len(final_units))"
   ],
   "metadata": {
    "collapsed": false,
    "pycharm": {
     "name": "#%%\n",
     "is_executing": false
    }
   }
  },
  {
   "cell_type": "code",
   "execution_count": null,
   "outputs": [],
   "source": [
    "# Save a dictionary into a txt file.\n",
    "with open('./vocabulary/units_list_final.txt', 'w') as f:\n",
    "    for item in final_units:\n",
    "        if item != \"<end>\" and item != \"<pad>\":\n",
    "            f.write(\"%s\\n\" % item)\n",
    "            "
   ],
   "metadata": {
    "collapsed": false,
    "pycharm": {
     "name": "#%%\n",
     "is_executing": false
    }
   }
  },
  {
   "cell_type": "code",
   "execution_count": null,
   "outputs": [],
   "source": [
    "import nltk\n",
    "#nltk.download()\n",
    "from nltk.corpus import stopwords\n",
    "from nltk.corpus import wordnet\n",
    "import webcolors\n",
    "\n",
    "food = wordnet.synset('food.n.02')\n",
    "\n",
    "print(\"red\" in webcolors.CSS3_NAMES_TO_HEX)\n",
    "\n",
    "with open(\"./vocabulary/units_list_final - cópia.txt\") as f:\n",
    "    content = f.readlines()\n",
    "# you may also want to remove whitespace characters like `\\n` at the end of each line\n",
    "lines = [x.strip() for x in content] \n",
    "\n",
    "filtered_stopwords = [word for word in lines if word not in stopwords.words('english')]\n",
    "filtered_verbs_adjectives_adverbs = []\n",
    "\n",
    "for w in filtered_stopwords:\n",
    "    if wordnet.synsets(w) and wordnet.synsets(w)[0].pos() != \"v\" and wordnet.synsets(w)[0].pos() != \"a\" and wordnet.synsets(w)[0].pos() != \"r\" and w not in webcolors.CSS3_NAMES_TO_HEX and w not in list(set([w for s in food.closure(lambda s:s.hyponyms()) for w in s.lemma_names()])):\n",
    "        filtered_verbs_adjectives_adverbs.append(w)\n",
    "    elif wordnet.synsets(w) == []:\n",
    "        filtered_verbs_adjectives_adverbs.append(w)\n",
    "\n",
    "print(filtered_stopwords)\n",
    "print(len(lines))\n",
    "print(len(filtered_stopwords))\n",
    "print(len(filtered_verbs_adjectives_adverbs))\n",
    "\n",
    "# Save a dictionary into a txt file.\n",
    "with open('./vocabulary/units_list_final_filtered.txt', 'w') as f:\n",
    "    for item in filtered_verbs_adjectives_adverbs:\n",
    "        if item != \"<end>\" and item != \"<pad>\":\n",
    "            f.write(\"%s\\n\" % item)\n",
    "            "
   ],
   "metadata": {
    "collapsed": false,
    "pycharm": {
     "name": "#%%\n",
     "is_executing": false
    }
   }
  },
  {
   "cell_type": "code",
   "execution_count": null,
   "outputs": [],
   "source": [
    "from nltk.corpus import wordnet as wn\n",
    "\n",
    "food = wn.synset('food.n.02')\n",
    "len(list(set([w for s in food.closure(lambda s:s.hyponyms()) for w in s.lemma_names()])))\n",
    "list(set([w for s in food.closure(lambda s:s.hyponyms()) for w in s.lemma_names()]))"
   ],
   "metadata": {
    "collapsed": false,
    "pycharm": {
     "name": "#%%\n",
     "is_executing": false
    }
   }
  },
  {
   "cell_type": "code",
   "execution_count": null,
   "outputs": [],
   "source": [
    "from textblob import TextBlob\n",
    "\n",
    "b = TextBlob(\"En una procesadora o batidora mescla el queso crema, pistachos, y 1 de los ajos\")\n",
    "b.detect_language()"
   ],
   "metadata": {
    "collapsed": false,
    "pycharm": {
     "name": "#%% \n",
     "is_executing": false
    }
   }
  },
  {
   "cell_type": "markdown",
   "metadata": {
    "pycharm": {
     "name": "#%% md\n"
    }
   },
   "source": [
    "### Retrieving Ingredients, Units and Quantities from Recipe1M+"
   ]
  },
  {
   "cell_type": "code",
   "execution_count": null,
   "metadata": {
    "pycharm": {
     "is_executing": false,
     "name": "#%%\n"
    }
   },
   "outputs": [],
   "source": [
    "import json\n",
    "import pickle\n",
    "\n",
    "# ---------------------------- Creating Vocabulary to Import Units ----------------------------\n",
    "\n",
    "absolute_units = {\"litre\": 1000, \"litres\": 1000, \"ounce\": 28, \"ounces\": 28, \"gram\": 1, \"grams\": 1, \"grm\": 1, \"kg\": 1000, \"kilograms\": 1000, \"ml\": 1, \"millilitres\": 1, \"oz\": 28, \"l\": 1000, \"g\": 1, \"lbs\": 454, \"pint\": 568, \"pints\": 568, \"lb\": 454, \"gallon\": 4546, \"gal\": 4546, \"quart\": 1137, \"quarts\": 1137}\n",
    "relative_units = {\"cup\": 240, \"cups\": 240, \"c.\": 240, \"tablespoon\": 15, \"tablespoons\": 15, \"bar\": 150, \"bars\": 150, \"lump\": 5, \"lumps\": 5, \"piece\": 25, \"pieces\": 25, \"portion\": 100, \"portions\": 100, \"slice\": 10, \"slices\": 10, \"teaspoon\": 5, \"teaspoons\": 5, \"tbls\": 15, \"tsp\": 5, \"jar\": 250, \"jars\": 250, \"pinch\": 1, \"pinches\": 1, \"dash\": 1, \"can\": 330, \"box\": 250, \"boxes\": 250, \"small\": 250, \"medium\": 500, \"large\": 750, \"big\": 750, \"sprig\": 0.1, \"sprigs\": 0.1, \"bunch\": 100, \"bunches\": 100, \"leaves\": 0.1, \"packs\": 100, \"packages\": 100, \"pck\": 100, \"pcks\": 100, \"stalk\": 0.1}\n",
    "\n",
    "# ---------------------------- Save a dictionary into a txt file ----------------------------\n",
    "\n",
    "with open('./vocabulary/absolute_units.json', 'w') as json_file:\n",
    "    json.dump(absolute_units, json_file)\n",
    "    \n",
    "with open('./vocabulary/relative_units.json', 'w') as json_file:\n",
    "    json.dump(relative_units, json_file)\n",
    "    \n",
    "# ---------------------------- Importing and Exporting as Text File Ingredient's Vocabulary ----------------------------\n",
    "\n",
    "# Reading ingredients vocabulary.\n",
    "# with open('./vocabulary/instr_vocab.pkl', 'rb') as f: # Includes every ingredient, cooking vocabulary and punctuation signals necessary to describe a recipe in the dataset.\n",
    "with open('./vocabulary/ingr_vocab.pkl', 'rb') as f: # Includes every ingredient present in the dataset.\n",
    "    ingredients_list = pickle.load(f) # Using vocabulary ingredients to retrieve the ones present in the recipes.\n",
    "    \n",
    "# Save a dictionary into a txt file.\n",
    "with open('./vocabulary/ingr_vocab.txt', 'w') as f:\n",
    "    for item in ingredients_list:\n",
    "        if item != \"<end>\" and item != \"<pad>\":\n",
    "            f.write(\"%s\\n\" % item)\n",
    "    \n",
    "# ---------------------------- Importing Ingredients, Units and Quantities ----------------------------\n",
    "    \n",
    "relative_units.update(absolute_units)\n",
    "units_list_dict = relative_units\n",
    "\n",
    "ingrs_quants_units_final = {}\n",
    "\n",
    "for recipe in recipes_data:\n",
    "    \n",
    "    ingrs_quants_units_final[recipe[\"id\"]] = ingredient_quantities(recipe, ingredients_list, units_list_dict)\n",
    "        \n",
    "# Exporting data for testing\n",
    "#with open('./data/test/new_id_ingredients_tokenized_position.json', 'w') as json_file:\n",
    "    #json.dump(new_id_ingredients_tokenized_position, json_file)\n",
    "    \n",
    "#with open('./data/test/id_ingredients.json', 'w') as json_file:\n",
    "    #json.dump(id_ingredients, json_file)"
   ]
  },
  {
   "cell_type": "code",
   "execution_count": null,
   "outputs": [],
   "source": [
    "new_id_ingredients_tokenized = {}\n",
    "\n",
    "for key, value in ingrs_quants_units_final.items():\n",
    "    \n",
    "    new_id_ingredients_tokenized[key] = []\n",
    "    \n",
    "    for value2 in value:\n",
    "        \n",
    "        new_id_ingredients_tokenized[key].append(value2[\"ingredient\"])\n",
    "        \n",
    "print(new_id_ingredients_tokenized)"
   ],
   "metadata": {
    "collapsed": false,
    "pycharm": {
     "name": "#%%\n",
     "is_executing": false
    }
   }
  },
  {
   "cell_type": "markdown",
   "source": [
    "### Retrieving Cooking Processes from Recipe1M+"
   ],
   "metadata": {
    "collapsed": false
   }
  },
  {
   "cell_type": "code",
   "execution_count": null,
   "outputs": [],
   "source": [],
   "metadata": {
    "collapsed": false,
    "pycharm": {
     "name": "#%%\n"
    }
   }
  },
  {
   "cell_type": "markdown",
   "metadata": {},
   "source": [
    "### Ingredients -> Vector (Word2Vec)\n",
    "\n",
    "Converting ingredients into 50 dimensional vectors to facilitate "
   ]
  },
  {
   "cell_type": "code",
   "execution_count": null,
   "metadata": {
    "jupyter": {
     "outputs_hidden": false
    },
    "pycharm": {
     "is_executing": false,
     "name": "#%%\n"
    }
   },
   "outputs": [],
   "source": [
    "# Ingredients are converted into vectors and, by averaging the ones belonging to the same recipe, a vector for the\n",
    "# recipe is obtained.\n",
    "\n",
    "if path.exists(\"./trained_models/model.bin\"):\n",
    "    \n",
    "    corpus = new_id_ingredients_tokenized.values()\n",
    "    \n",
    "    model = Word2Vec(corpus, min_count=1,size= 50,workers=3, window =10, sg = 0)\n",
    "\n",
    "    words = list(model.wv.vocab)\n",
    "\n",
    "# By default, the model is saved in a binary format to save space.\n",
    "    model.wv.save_word2vec_format('./trained_models/model.bin')\n",
    "\n",
    "# Save the learned model in ASCII format and review the contents\n",
    "    model.wv.save_word2vec_format('./trained_models/model.txt', binary=False)\n",
    "\n",
    "else:\n",
    "    \n",
    "    model = gensim.models.KeyedVectors.load_word2vec_format('./trained_models/model.bin', binary=True) # Saved model can then be loaded again by calling the Word2Vec.load() function.\n",
    "    "
   ]
  },
  {
   "cell_type": "markdown",
   "metadata": {},
   "source": [
    "### Ingredients -> Vector (Every vector component corresponds to a word)"
   ]
  },
  {
   "cell_type": "code",
   "execution_count": null,
   "metadata": {
    "pycharm": {
     "name": "#%%\n",
     "is_executing": false
    }
   },
   "outputs": [],
   "source": []
  },
  {
   "cell_type": "markdown",
   "metadata": {},
   "source": [
    "### Recipes -> Vector (Word2Vec)\n",
    "\n",
    "Representing recipes in their vectorized way by taking the average of the vectors of the ingredients present."
   ]
  },
  {
   "cell_type": "code",
   "execution_count": null,
   "metadata": {
    "pycharm": {
     "is_executing": false,
     "name": "#%%\n"
    }
   },
   "outputs": [],
   "source": [
    "new_id_ingredients_tokenized_keys = new_id_ingredients_tokenized.keys()\n",
    "\n",
    "id_ingreVectorized = {}\n",
    "id_recipe = {}\n",
    "\n",
    "for recipe_id in new_id_ingredients_tokenized_keys:\n",
    "    \n",
    "    id_ingreVectorized[recipe_id] = []\n",
    "    \n",
    "    for recipe_ingr in new_id_ingredients_tokenized[recipe_id]:\n",
    "        \n",
    "        id_ingreVectorized[recipe_id].append(model[recipe_ingr])\n",
    "\n",
    "    id_recipe[recipe_id] = sum(id_ingreVectorized[recipe_id])/len(new_id_ingredients_tokenized[recipe_id])\n",
    "    "
   ]
  },
  {
   "cell_type": "markdown",
   "metadata": {},
   "source": [
    "### Recipes -> Vector (Every vector component corresponds to a word)"
   ]
  },
  {
   "cell_type": "code",
   "execution_count": null,
   "metadata": {
    "pycharm": {
     "name": "#%%\n",
     "is_executing": false
    }
   },
   "outputs": [],
   "source": []
  },
  {
   "cell_type": "markdown",
   "metadata": {},
   "source": [
    "### Dimensionality Reduction (Ingredients)\n",
    "\n",
    "PCA and T-SNE intended to decrease the dimensionality (50) of the vectors representing ingredients, so that they can be \n",
    "plotted in visualizable way."
   ]
  },
  {
   "cell_type": "code",
   "execution_count": null,
   "metadata": {
    "pycharm": {
     "is_executing": false,
     "name": "#%%\n"
    }
   },
   "outputs": [],
   "source": [
    "X_ingredients = model[model.wv.vocab]\n",
    "\n",
    "print(X_ingredients)\n",
    "\n",
    "# ---------------------------- PCA ----------------------------\n",
    "X_ingredients_embedded1 = PCA(n_components=2).fit_transform(X_ingredients)\n",
    "\n",
    "# ---------------------------- T-SNE ----------------------------\n",
    "X_ingredients_embedded2 = TSNE(n_components=2).fit_transform(X_ingredients)"
   ]
  },
  {
   "cell_type": "markdown",
   "metadata": {},
   "source": [
    "### Clustering Ingredients\n",
    "\n",
    "Finding groups of ingredients that most often co-occur in the same recipes."
   ]
  },
  {
   "cell_type": "code",
   "execution_count": null,
   "metadata": {
    "pycharm": {
     "is_executing": false,
     "name": "#%%\n"
    }
   },
   "outputs": [],
   "source": [
    "# ---------------------------- Build Distance Dataframe & Networkx Graph ----------------------------\n",
    "\n",
    "data = list(X_ingredients_embedded1) # list(X_ingredients_embedded1) / model[model.wv.vocab]\n",
    "ctys = list(model.wv.vocab)\n",
    "df = pandas.DataFrame(data, index=ctys)\n",
    "\n",
    "distances = (pandas.DataFrame(distance_matrix(df.values, df.values), index=df.index, columns=df.index)).rdiv(1) # Creating dataframe from distance matrix between ingredient vectors.\n",
    "# G = networkx.from_pandas_adjacency(distances) # Creating networkx graph from pandas dataframe.\n",
    "X = numpy.array(df.values) # Creating numpy array from pandas dataframe.\n",
    "\n",
    "# ---------------------------- Clustering ----------------------------\n",
    "\n",
    "# Mean Shift\n",
    "\n",
    "#  ingredientModule = MeanShift().fit(X).labels_\n",
    "\n",
    "# Density-Based Spatial Clustering of Applications with Noise (DBSCAN)\n",
    "\n",
    "# ingredientModule = DBSCAN(eps=0.3, min_samples=2).fit(X).labels_ # Noisy samples are given the label -1.\n",
    "\n",
    "# Louvain\n",
    "\n",
    "# ingredientModule = list((community.best_partition(G)).values())\n",
    "\n",
    "# Infomap\n",
    "\n",
    "ingredientModule = infomap_function(distances, ctys)"
   ]
  },
  {
   "cell_type": "markdown",
   "metadata": {},
   "source": [
    "### Number of Times Ingredients are used in Recipes\n",
    "\n",
    "Retrieving how often different ingredients are used across the recipe dataset."
   ]
  },
  {
   "cell_type": "code",
   "execution_count": null,
   "metadata": {
    "pycharm": {
     "is_executing": false,
     "name": "#%%\n"
    }
   },
   "outputs": [],
   "source": [
    "ingredients_count = {}\n",
    "\n",
    "for ingredient in ingredients_list:\n",
    "\n",
    "    if \"_\" in ingredient:\n",
    "        ingredients_count[ingredient.replace(\"_\", \" \")] = 0\n",
    "        continue\n",
    "\n",
    "    ingredients_count[ingredient] = 0 # In case there is no _\n",
    "\n",
    "for recipe in recipes_data:\n",
    "        \n",
    "    for recipe_standardized in ingrs_quants_units_final[recipe[\"id\"]]:\n",
    "        \n",
    "        ingredients_count[recipe_standardized[\"ingredient\"]] = ingredients_count[recipe_standardized[\"ingredient\"]] + recipe_standardized[\"quantity\"]\n",
    "\n",
    "# -------------------------------\n",
    "\n",
    "ingredientSize = {}\n",
    "markerSizeConstant = 1\n",
    "\n",
    "for ingredient_vocabulary in list(model.wv.vocab):\n",
    "    \n",
    "    ingredientSize[ingredient_vocabulary] = markerSizeConstant*ingredients_count[ingredient_vocabulary]\n",
    "    \n",
    "ingredientSize = list(ingredientSize.values())\n",
    "\n",
    "print(ingredientSize)"
   ]
  },
  {
   "cell_type": "markdown",
   "metadata": {},
   "source": [
    "###  PCA & T-SNE Visualization (Ingredients)\n",
    "\n",
    "Although some informamation was inevitably lost, a pair of the most variable components was used. <br>\n",
    "Size of each marker is proportional to the number of times the ingredient is used in the recipe dataset. <br>\n",
    "Markers with a similar color group ingredients that are usually used together in the recipe dataset."
   ]
  },
  {
   "cell_type": "code",
   "execution_count": null,
   "metadata": {
    "jupyter": {
     "outputs_hidden": false
    },
    "pycharm": {
     "is_executing": false,
     "name": "#%%\n"
    }
   },
   "outputs": [],
   "source": [
    "# ---------------------------- Matplotlib ----------------------------\n",
    "matplotlib_function(X_ingredients_embedded1, X_ingredients_embedded2, list(model.wv.vocab), ingredientModule, ingredientSize, \"Ingredients\")"
   ]
  },
  {
   "cell_type": "code",
   "execution_count": null,
   "metadata": {
    "pycharm": {
     "is_executing": false,
     "name": "#%%\n"
    }
   },
   "outputs": [],
   "source": [
    "# ---------------------------- Plotly ----------------------------\n",
    "plotly_function(X_ingredients_embedded1, X_ingredients_embedded2, list(model.wv.vocab), ingredientModule, ingredientSize, \"true\", \"Ingredients\")\n",
    "\n",
    "# Toggle Button for Labels\n",
    "toggle = w.ToggleButton(description='No Labels')\n",
    "out = w.Output(layout=w.Layout(border = '1px solid black'))\n",
    "\n",
    "def fun(obj):\n",
    "    with out:\n",
    "        if obj['new']:  \n",
    "            plotly_function(X_ingredients_embedded1, X_ingredients_embedded2, list(model.wv.vocab), ingredientModule, ingredientSize, \"false\")\n",
    "        else:\n",
    "            plotly_function(X_ingredients_embedded1, X_ingredients_embedded2, list(model.wv.vocab), ingredientModule, ingredientSize, \"true\")\n",
    "\n",
    "toggle.observe(fun, 'value')\n",
    "display(toggle)\n",
    "display(out)\n",
    "\n",
    "# (Run in localhost to visualize it)"
   ]
  },
  {
   "cell_type": "code",
   "execution_count": null,
   "metadata": {
    "pycharm": {
     "is_executing": false,
     "name": "#%%\n"
    }
   },
   "outputs": [],
   "source": [
    "# ---------------------------- Seaborn ----------------------------\n",
    "seaborn_function(X_ingredients_embedded1, X_ingredients_embedded2, list(model.wv.vocab), ingredientModule, ingredientSize)"
   ]
  },
  {
   "cell_type": "markdown",
   "metadata": {},
   "source": [
    "### Dimensionality Reduction (Recipes)\n",
    "\n",
    "PCA and T-SNE intended to decrease the dimensionality (50) of the vectors representing recipes, so that they can be \n",
    "plotted in visualizable way. Although some informamation was inevitably lost, a pair of the most variale components was used."
   ]
  },
  {
   "cell_type": "code",
   "execution_count": null,
   "metadata": {
    "pycharm": {
     "is_executing": false,
     "name": "#%%\n"
    }
   },
   "outputs": [],
   "source": [
    "# ---------------------------- PCA ----------------------------\n",
    "X_recipes_embedded1 = PCA(n_components=2).fit_transform(list(id_recipe.values()))\n",
    "\n",
    "# ---------------------------- T-SNE ----------------------------\n",
    "X_recipes_embedded2 = TSNE(n_components=2).fit_transform(list(id_recipe.values()))"
   ]
  },
  {
   "cell_type": "markdown",
   "metadata": {},
   "source": [
    "### Clustering Recipes\n",
    "\n",
    "Finding groups of recipes that most correspond to different types of cuisine."
   ]
  },
  {
   "cell_type": "code",
   "execution_count": null,
   "metadata": {
    "pycharm": {
     "is_executing": false,
     "name": "#%%\n"
    }
   },
   "outputs": [],
   "source": [
    "# ---------------------------- Build Distance Dataframe & Networkx Graph ----------------------------\n",
    "\n",
    "data = list(X_recipes_embedded1) # list(X_recipes_embedded1) / id_recipe.values()\n",
    "ctys = id_recipe.keys()\n",
    "df = pandas.DataFrame(data, index=ctys)\n",
    "\n",
    "distances = (pandas.DataFrame(distance_matrix(df.values, df.values), index=df.index, columns=df.index)).rdiv(1)\n",
    "# G = networkx.from_pandas_adjacency(distances) # Creating networkx graph from pandas dataframe.\n",
    "X = numpy.array(df.values) # Creating numpy array from pandas dataframe.\n",
    "\n",
    "# ---------------------------- Clustering ----------------------------\n",
    "\n",
    "# Mean Shift\n",
    "\n",
    "recipeModules = MeanShift().fit(X).labels_\n",
    "\n",
    "# Density-Based Spatial Clustering of Applications with Noise (DBSCAN)\n",
    "\n",
    "# recipeModules = DBSCAN(eps=0.3, min_samples=2).fit(X).labels_ # Noisy samples are given the label -1.\n",
    "\n",
    "# Louvain\n",
    "\n",
    "# recipeModules = list((community.best_partition(G)).values())\n",
    "\n",
    "# Infomap\n",
    "\n",
    "# recipeModules = infomap_function(1./distances, ctys)"
   ]
  },
  {
   "cell_type": "markdown",
   "metadata": {},
   "source": [
    "### Number of Ingredients in each Recipe\n",
    "\n",
    "Calculated so that the size of each recipe marker could be proportional to the number of ingredients present."
   ]
  },
  {
   "cell_type": "code",
   "execution_count": null,
   "metadata": {
    "pycharm": {
     "is_executing": false,
     "name": "#%%\n"
    }
   },
   "outputs": [],
   "source": [
    "numberIngredients = []\n",
    "markerSizeConstant = 1\n",
    "\n",
    "for key, value in new_id_ingredients_tokenized.items():\n",
    "    \n",
    "    numberIngredients.append(markerSizeConstant*len(value))\n",
    "\n",
    "print(numberIngredients)"
   ]
  },
  {
   "cell_type": "markdown",
   "metadata": {},
   "source": [
    "### PCA & T-SNE Visualization\n",
    "\n",
    "Size of each marker is proportional to the number of ingredients a given recipe contains. <br>\n",
    "Markers with a similar color group recipes that contain the higher number of common ingredients."
   ]
  },
  {
   "cell_type": "code",
   "execution_count": null,
   "metadata": {
    "pycharm": {
     "is_executing": false,
     "name": "#%%\n"
    }
   },
   "outputs": [],
   "source": [
    "# ---------------------------- Matplotlib ----------------------------\n",
    "matplotlib_function(X_recipes_embedded1, X_recipes_embedded2, list(id_recipe.keys()), recipeModules, numberIngredients, \"Recipes\")"
   ]
  },
  {
   "cell_type": "code",
   "execution_count": null,
   "metadata": {
    "pycharm": {
     "is_executing": false,
     "name": "#%%\n"
    }
   },
   "outputs": [],
   "source": [
    "# ---------------------------- Plotly ----------------------------\n",
    "plotly_function(X_recipes_embedded1, X_recipes_embedded2, list(id_recipe.keys()), recipeModules, numberIngredients, \"true\", \"Recipes\")\n",
    "\n",
    "toggle = w.ToggleButton(description='No Labels')\n",
    "\n",
    "out = w.Output(layout=w.Layout(border = '1px solid black'))\n",
    "\n",
    "def fun(obj):\n",
    "    with out:\n",
    "        if obj['new']:  \n",
    "            plotly_function(X_recipes_embedded1, X_recipes_embedded2, list(id_recipe.keys()), recipeModules, numberIngredients, \"false\")\n",
    "        else:\n",
    "            plotly_function(X_recipes_embedded1, X_recipes_embedded2, list(id_recipe.keys()), recipeModules, numberIngredients, \"true\")\n",
    "\n",
    "toggle.observe(fun, 'value')\n",
    "display(toggle)\n",
    "display(out)\n",
    "\n",
    "# (Run in localhost to be able to visualize it)"
   ]
  },
  {
   "cell_type": "code",
   "execution_count": null,
   "metadata": {
    "pycharm": {
     "is_executing": false,
     "name": "#%%\n"
    }
   },
   "outputs": [],
   "source": [
    "# ---------------------------- Seaborn ----------------------------\n",
    "seaborn_function(X_recipes_embedded1, X_recipes_embedded2, list(id_recipe.keys()), recipeModules, numberIngredients)"
   ]
  },
  {
   "cell_type": "markdown",
   "metadata": {},
   "source": [
    "### Importing Anticancer Ingredients\n",
    "\n",
    "Getting the anticancer ingredients and the number of anticancer molecules each one contain. Further data processing to \n",
    "facilitate analysis."
   ]
  },
  {
   "cell_type": "code",
   "execution_count": null,
   "metadata": {
    "pycharm": {
     "name": "#%%\n",
     "is_executing": false
    }
   },
   "outputs": [],
   "source": [
    "ac_data = pandas.read_csv(\"./data/food_compound.csv\", delimiter = \",\")\n",
    "ac_data.head()\n",
    "\n",
    "# Selecting Useful Anti-Cancer Ingredients Columns\n",
    "\n",
    "ac_data_mod = ac_data[['Common Name', 'Number of CBMs']]\n",
    "ac_data_mod\n",
    "\n",
    "#  Dropping Nan Rows from Anti-Cancer Ingredients Table\n",
    "\n",
    "ac_data_mod.replace(\"\", numpy.nan)\n",
    "ac_data_mod = ac_data_mod.dropna()\n",
    "ac_data_mod\n",
    "\n",
    "# Converting DataFrame to Dictionary\n",
    "\n",
    "ingredient_anticancer = {}\n",
    "\n",
    "for index, row in ac_data_mod.iterrows():\n",
    "    \n",
    "    ingredient_anticancer[row['Common Name'].lower()] = row['Number of CBMs']"
   ]
  },
  {
   "cell_type": "markdown",
   "metadata": {},
   "source": [
    "### Recipes -> Score\n",
    "\n",
    "Calculating the score of each recipe taking into account the number of cancer-beating molecules. <br>\n",
    "Data Source: Veselkov, K., Gonzalez, G., Aljifri, S. et al. HyperFoods: Machine intelligent mapping of cancer-beating molecules in foods. Sci Rep 9, 9237 (2019) doi:10.1038/s41598-019-45349-y"
   ]
  },
  {
   "cell_type": "code",
   "execution_count": null,
   "metadata": {
    "pycharm": {
     "is_executing": false,
     "name": "#%%\n"
    }
   },
   "outputs": [],
   "source": [
    "recipe_cancerscore = {}\n",
    "recipe_weight = {}\n",
    "\n",
    "for key, value in ingrs_quants_units_final.items():\n",
    "    \n",
    "    recipe_weight[key] = 0\n",
    "    \n",
    "    for recipe_standardized in value:\n",
    "        \n",
    "        recipe_weight[key] = recipe_weight[key] + recipe_standardized[\"quantity (ml)\"]\n",
    "        \n",
    "recipe_weight\n",
    "\n",
    "# ----------------------\n",
    "\n",
    "recipe_cancerscore = {}\n",
    "ingredient_anticancer_keys = list(ingredient_anticancer.keys())\n",
    "\n",
    "for key, value in ingrs_quants_units_final.items():\n",
    "    \n",
    "    recipe_cancerscore[key] = 0\n",
    "    \n",
    "    for recipe_standardized in value:\n",
    "        \n",
    "        for ingredient_anticancer_iterable in ingredient_anticancer_keys:\n",
    "            \n",
    "            if recipe_standardized[\"ingredient\"] in ingredient_anticancer_iterable:\n",
    "        \n",
    "                recipe_cancerscore[key] = recipe_cancerscore[key] + ingredient_anticancer[ingredient_anticancer_iterable]*(recipe_standardized[\"quantity (ml)\"])/(recipe_weight[key])\n",
    "                \n",
    "                break"
   ]
  },
  {
   "cell_type": "markdown",
   "metadata": {},
   "source": [
    "### Best Recipes Decreasing Order\n",
    "\n",
    "Printing, in a decreasing order, the recipes with a bigger number of cancer-beating molecules. "
   ]
  },
  {
   "cell_type": "code",
   "execution_count": null,
   "metadata": {
    "pycharm": {
     "is_executing": false,
     "name": "#%%\n"
    }
   },
   "outputs": [],
   "source": [
    "res1 = pandas.DataFrame.from_dict(recipe_cancerscore, orient='index', columns=['Anticancer Molecules/Number Ingredients'])\n",
    "res2 = pandas.DataFrame.from_dict(id_url, orient='index', columns=['Recipe URL'])\n",
    "\n",
    "pandas.set_option('display.max_colwidth', 1000)\n",
    "\n",
    "pandas.concat([res1, res2], axis=1).reindex(res1.index).sort_values(by=['Anticancer Molecules/Number Ingredients'], ascending=False).head()\n",
    "\n",
    "# Creating a dataframe object from listoftuples\n",
    "# pandas.DataFrame(recipe_cancerscore_dataframe)"
   ]
  },
  {
   "cell_type": "markdown",
   "metadata": {},
   "source": [
    "## Recipes -> Nutritional Information\n",
    "\n",
    "Retrieving nutritional information for each ingredient present in the recipe dataset. <br>\n",
    "Overall recipe score will be calculated taking into account not only the number of cancer-beating molecules, but also\n",
    "nutrtional content. <br>\n",
    "Data Source: U.S. Department of Agriculture, Agricultural Research Service. FoodData Central, 2019. fdc.nal.usda.gov."
   ]
  },
  {
   "cell_type": "code",
   "execution_count": 2,
   "metadata": {
    "pycharm": {
     "is_executing": false,
     "name": "#%%\n"
    }
   },
   "outputs": [
    {
     "name": "stdout",
     "text": [
      "['macaroni', 'cheese', 'celery', 'pimentos', 'mayonnaise', 'vinegar', 'salt', 'dill', 'onion']\n"
     ],
     "output_type": "stream"
    }
   ],
   "source": [
    "import pickle\n",
    "with open('./vocabulary/ingr_vocab.pkl', 'rb') as f: # Includes every ingredient present in the dataset.\n",
    "    ingredients_list = pickle.load(f)[1:10]\n",
    "    \n",
    "print(ingredients_list)"
   ]
  },
  {
   "cell_type": "code",
   "execution_count": 4,
   "outputs": [
    {
     "data": {
      "text/plain": "{0: [{'foodSearchCriteria': {'generalSearchInput': 'macaroni',\n    'pageNumber': 1,\n    'requireAllWords': False},\n   'totalHits': 3366,\n   'currentPage': 1,\n   'totalPages': 68,\n   'foods': [{'fdcId': 508135,\n     'description': 'MACARONI',\n     'dataType': 'Branded',\n     'gtinUpc': '688267169380',\n     'publishedDate': '2019-04-01',\n     'brandOwner': 'Ahold USA, Inc.',\n     'ingredients': 'COOKED PENNE PASTA (PASTA [SEMOLINA, DURUM FLOUR, NIACIN, IRON {FERROUS SULFATE}, THIAMIN MONONITRATE, RIBOFLAVIN, FOLIC ACID], CANOLA OIL, EXTRA VIRGIN OLIVE OIL), CHEESE SAUCE (MILK, SHARP WHITE CHEDDAR CHEESE [PASTEURIZED MILK, CHEESE CULTURE, SALT, ENZYMES], BUTTER, STARCH, SUGAR, SALT, PEPPER), MOZZARELLA AND AMERICAN CHEESE BLEND (PASTEURIZED PROCESS CHEESE [LOW MOISTURE PART-SKIM MOZZARELLA CHEESE {PASTEURIZED MILK, CHEESE CULTURE, SALT, ENZYMES}, CHEDDAR CHEESE {PASTEURIZED MILK, CHEESE CULTURE, SALT, ENZYMES}, CREAM, WATER, SODIUM PHOSPHATE, SALT], POTATO STARCH AND POWDERED CELLULOSE [TO PREVENT CAKING], NATAMYCIN [A NATURAL MOLD INHIBITOR]), CHEDDAR AND MONTEREY JACK CHEESE BLEND (CHEDDAR CHEESE [PASTEURIZED MILK, CHEESE CULTURE, SALT, ENZYMES, ANNATTO {VEGETABLE COLOR}], MONTEREY JACK CHEESE [PASTEURIZED MILK, CHEESE CULTURE, SALT, ENZYMES], POTATO STARCH AND POWDERED CELLULOSE [TO PREVENT CAKING], NATAMYCIN [A NATURAL MOLD INHIBITOR]), MILD CHEDDAR CHEESE (CHEDDAR CHEESE [PASTEURIZED MILK, CHEESE CULTURE, SALT, ENZYMES, ANNATTO {VEGETABLE COLOR}], POTATO STARCH AND POWDERED CELLULOSE [TO PREVENT CAKING], NATAMYCIN [A NATURAL MOLD INHIBITOR]).',\n     'allHighlightFields': '',\n     'score': 778.36755},\n    {'fdcId': 467627,\n     'description': 'MACARONI',\n     'dataType': 'Branded',\n     'gtinUpc': '8005121000818',\n     'publishedDate': '2019-04-01',\n     'brandOwner': 'Molini e Pastificio F. Divella SpA',\n     'ingredients': 'DURUM WHEAT SEMOLINA',\n     'allHighlightFields': '',\n     'score': 778.36755},\n    {'fdcId': 341134,\n     'description': 'Macaroni, creamed',\n     'additionalDescriptions': 'macaroni cooked in milk; Noodles Romanoff; Lipton Chicken Broccoli Noodles and Sauce',\n     'dataType': 'Survey (FNDDS)',\n     'foodCode': '58147310',\n     'publishedDate': '2019-04-01',\n     'allHighlightFields': '<b>Includes</b>: <em>macaroni</em> cooked in milk; Noodles Romanoff; Lipton Chicken Broccoli Noodles and Sauce',\n     'score': 329.24994},\n    {'fdcId': 341110,\n     'description': 'Macaroni or noodles with cheese',\n     'additionalDescriptions': 'macaroni casserole, NFS; macaroni and cheese, NFS; from home recipe, ready-to-eat, or frozen',\n     'dataType': 'Survey (FNDDS)',\n     'foodCode': '58145110',\n     'publishedDate': '2019-04-01',\n     'allHighlightFields': '<b>Includes</b>: <em>macaroni</em> casserole, NFS; <em>macaroni</em> and cheese, NFS; from home recipe, ready-to-eat, or frozen',\n     'score': 300.0654},\n    {'fdcId': 341137,\n     'description': 'Macaroni, creamed, with vegetables',\n     'dataType': 'Survey (FNDDS)',\n     'foodCode': '58147350',\n     'publishedDate': '2019-04-01',\n     'allHighlightFields': '',\n     'score': 287.38803},\n    {'fdcId': 172259,\n     'description': 'Babyfood, macaroni and cheese, toddler',\n     'dataType': 'SR Legacy',\n     'ndbNumber': '3048',\n     'publishedDate': '2019-04-01',\n     'allHighlightFields': '',\n     'score': 260.69336},\n    {'fdcId': 173325,\n     'description': 'Macaroni and Cheese, canned entree',\n     'dataType': 'SR Legacy',\n     'ndbNumber': '22247',\n     'publishedDate': '2019-04-01',\n     'allHighlightFields': '',\n     'score': 260.69336},\n    {'fdcId': 173337,\n     'description': 'Macaroni and Cheese, canned, microwavable',\n     'dataType': 'SR Legacy',\n     'ndbNumber': '22919',\n     'publishedDate': '2019-04-01',\n     'allHighlightFields': '',\n     'score': 260.69336},\n    {'fdcId': 173342,\n     'description': 'Macaroni and cheese, frozen entree',\n     'dataType': 'SR Legacy',\n     'ndbNumber': '22970',\n     'publishedDate': '2019-04-01',\n     'allHighlightFields': '',\n     'score': 260.69336},\n    {'fdcId': 341121,\n     'description': 'Macaroni or noodles with cheese and egg',\n     'dataType': 'Survey (FNDDS)',\n     'foodCode': '58145170',\n     'publishedDate': '2019-04-01',\n     'allHighlightFields': '',\n     'score': 260.69336},\n    {'fdcId': 341117,\n     'description': 'Macaroni or noodles with cheese and meat',\n     'additionalDescriptions': 'beef; pork or ham',\n     'dataType': 'Survey (FNDDS)',\n     'foodCode': '58145135',\n     'publishedDate': '2019-04-01',\n     'allHighlightFields': '',\n     'score': 260.69336},\n    {'fdcId': 341119,\n     'description': 'Macaroni or noodles with cheese and tomato',\n     'dataType': 'Survey (FNDDS)',\n     'foodCode': '58145140',\n     'publishedDate': '2019-04-01',\n     'allHighlightFields': '',\n     'score': 260.69336},\n    {'fdcId': 341116,\n     'description': 'Macaroni or noodles with cheese and tuna',\n     'additionalDescriptions': \"Tuna Helper Cheesy Noodles 'n' Tuna; Tuna Helper Tuna Au gratin\",\n     'dataType': 'Survey (FNDDS)',\n     'foodCode': '58145120',\n     'publishedDate': '2019-04-01',\n     'allHighlightFields': '',\n     'score': 260.69336},\n    {'fdcId': 341113,\n     'description': 'Macaroni or noodles with cheese, canned',\n     'additionalDescriptions': 'Franco-American',\n     'dataType': 'Survey (FNDDS)',\n     'foodCode': '58145113',\n     'publishedDate': '2019-04-01',\n     'allHighlightFields': '',\n     'score': 260.69336},\n    {'fdcId': 341135,\n     'description': 'Macaroni or noodles, creamed, with cheese',\n     'additionalDescriptions': 'fettucine alfredo',\n     'dataType': 'Survey (FNDDS)',\n     'foodCode': '58147330',\n     'publishedDate': '2019-04-01',\n     'allHighlightFields': '',\n     'score': 260.69336},\n    {'fdcId': 341155,\n     'description': 'Macaroni or pasta salad with cheese',\n     'additionalDescriptions': 'made with assorted vegetables and any dressing',\n     'dataType': 'Survey (FNDDS)',\n     'foodCode': '58148180',\n     'publishedDate': '2019-04-01',\n     'allHighlightFields': '',\n     'score': 260.69336},\n    {'fdcId': 341154,\n     'description': 'Macaroni or pasta salad with chicken',\n     'additionalDescriptions': 'made with assorted vegetables and any dressing',\n     'dataType': 'Survey (FNDDS)',\n     'foodCode': '58148170',\n     'publishedDate': '2019-04-01',\n     'allHighlightFields': '',\n     'score': 260.69336},\n    {'fdcId': 341149,\n     'description': 'Macaroni or pasta salad with egg',\n     'additionalDescriptions': 'made with assorted vegetables and any dressing',\n     'dataType': 'Survey (FNDDS)',\n     'foodCode': '58148120',\n     'publishedDate': '2019-04-01',\n     'allHighlightFields': '',\n     'score': 260.69336},\n    {'fdcId': 341156,\n     'description': 'Macaroni or pasta salad with meat',\n     'additionalDescriptions': 'made with assorted vegetables and any dressing',\n     'dataType': 'Survey (FNDDS)',\n     'foodCode': '58148550',\n     'publishedDate': '2019-04-01',\n     'allHighlightFields': '',\n     'score': 260.69336},\n    {'fdcId': 341152,\n     'description': 'Macaroni or pasta salad with shrimp',\n     'additionalDescriptions': 'made with assorted vegetables and any dressing',\n     'dataType': 'Survey (FNDDS)',\n     'foodCode': '58148150',\n     'publishedDate': '2019-04-01',\n     'allHighlightFields': '',\n     'score': 260.69336},\n    {'fdcId': 341150,\n     'description': 'Macaroni or pasta salad with tuna',\n     'additionalDescriptions': 'made with assorted vegetables and any dressing',\n     'dataType': 'Survey (FNDDS)',\n     'foodCode': '58148130',\n     'publishedDate': '2019-04-01',\n     'allHighlightFields': '',\n     'score': 260.69336},\n    {'fdcId': 168904,\n     'description': 'Macaroni, vegetable, enriched, cooked',\n     'dataType': 'SR Legacy',\n     'ndbNumber': '20106',\n     'publishedDate': '2019-04-01',\n     'allHighlightFields': '',\n     'score': 260.69336},\n    {'fdcId': 168903,\n     'description': 'Macaroni, vegetable, enriched, dry',\n     'dataType': 'SR Legacy',\n     'ndbNumber': '20105',\n     'publishedDate': '2019-04-01',\n     'allHighlightFields': '',\n     'score': 260.69336},\n    {'fdcId': 341355,\n     'description': 'Macaroni and cheese (diet frozen meal)',\n     'additionalDescriptions': 'Lean Cuisine Macaroni and Cheese',\n     'dataType': 'Survey (FNDDS)',\n     'foodCode': '58302000',\n     'publishedDate': '2019-04-01',\n     'allHighlightFields': '<b>Includes</b>: Lean Cuisine <em>Macaroni</em> and Cheese',\n     'score': 253.29716},\n    {'fdcId': 169849,\n     'description': \"CRACKER BARREL, macaroni n' cheese\",\n     'commonNames': 'macaroni and cheese, family style',\n     'dataType': 'SR Legacy',\n     'ndbNumber': '36040',\n     'publishedDate': '2019-04-01',\n     'allHighlightFields': '<b>Common Names</b>: <em>macaroni</em> and cheese, family style',\n     'score': 247.30444},\n    {'fdcId': 172270,\n     'description': 'Babyfood, dinner, macaroni and cheese, junior',\n     'dataType': 'SR Legacy',\n     'ndbNumber': '3090',\n     'publishedDate': '2019-04-01',\n     'allHighlightFields': '',\n     'score': 238.55087},\n    {'fdcId': 173503,\n     'description': 'Babyfood, dinner, macaroni and cheese, strained',\n     'dataType': 'SR Legacy',\n     'ndbNumber': '3089',\n     'publishedDate': '2019-04-01',\n     'allHighlightFields': '',\n     'score': 238.55087},\n    {'fdcId': 338098,\n     'description': 'Beef and macaroni with cheese sauce (mixture)',\n     'additionalDescriptions': \"Hamburger Helper Cheddar'n Bacon; Hamburger Helper Nacho Cheese\",\n     'dataType': 'Survey (FNDDS)',\n     'foodCode': '27212050',\n     'publishedDate': '2019-04-01',\n     'allHighlightFields': '',\n     'score': 238.55087},\n    {'fdcId': 338100,\n     'description': 'Chili con carne with beans and macaroni',\n     'dataType': 'Survey (FNDDS)',\n     'foodCode': '27212120',\n     'publishedDate': '2019-04-01',\n     'allHighlightFields': '',\n     'score': 238.55087},\n    {'fdcId': 341416,\n     'description': 'Macaroni and cheese, baby food, strained',\n     'additionalDescriptions': \"Earth's Best Dinner; Gerber Second Foods Dinner\",\n     'dataType': 'Survey (FNDDS)',\n     'foodCode': '58508000',\n     'publishedDate': '2019-04-01',\n     'allHighlightFields': '',\n     'score': 238.55087},\n    {'fdcId': 341417,\n     'description': 'Macaroni and cheese, baby food, toddler',\n     'additionalDescriptions': 'Gerber Graduates Pasta Shells and Cheese',\n     'dataType': 'Survey (FNDDS)',\n     'foodCode': '58508300',\n     'publishedDate': '2019-04-01',\n     'allHighlightFields': '',\n     'score': 238.55087},\n    {'fdcId': 341122,\n     'description': 'Macaroni or noodles with cheese and chicken or turkey',\n     'dataType': 'Survey (FNDDS)',\n     'foodCode': '58145190',\n     'publishedDate': '2019-04-01',\n     'allHighlightFields': '',\n     'score': 238.55087},\n    {'fdcId': 341111,\n     'description': 'Macaroni or noodles with cheese, from restaurant',\n     'additionalDescriptions': 'fast food; other place',\n     'dataType': 'Survey (FNDDS)',\n     'foodCode': '58145111',\n     'publishedDate': '2019-04-01',\n     'allHighlightFields': '',\n     'score': 238.55087},\n    {'fdcId': 169776,\n     'description': 'Macaroni or noodles with cheese, microwaveable, unprepared',\n     'dataType': 'SR Legacy',\n     'ndbNumber': '32016',\n     'publishedDate': '2019-04-01',\n     'allHighlightFields': '',\n     'score': 238.55087},\n    {'fdcId': 341136,\n     'description': 'Macaroni or noodles, creamed, with cheese and tuna',\n     'additionalDescriptions': 'Tuna Helper Fettuccine Alfredo',\n     'dataType': 'Survey (FNDDS)',\n     'foodCode': '58147340',\n     'publishedDate': '2019-04-01',\n     'allHighlightFields': '',\n     'score': 238.55087},\n    {'fdcId': 341151,\n     'description': 'Macaroni or pasta salad with crab meat',\n     'additionalDescriptions': 'made with assorted vegetables and any dressing',\n     'dataType': 'Survey (FNDDS)',\n     'foodCode': '58148140',\n     'publishedDate': '2019-04-01',\n     'allHighlightFields': '',\n     'score': 238.55087},\n    {'fdcId': 341153,\n     'description': 'Macaroni or pasta salad with tuna and egg',\n     'additionalDescriptions': 'made with assorted vegetables and any dressing',\n     'dataType': 'Survey (FNDDS)',\n     'foodCode': '58148160',\n     'publishedDate': '2019-04-01',\n     'allHighlightFields': '',\n     'score': 238.55087},\n    {'fdcId': 341140,\n     'description': 'Macaroni or pasta salad, made with mayonnaise',\n     'additionalDescriptions': 'made with assorted vegetables; Betty Crocker Suddenly Salad; NS as to type of dressing',\n     'dataType': 'Survey (FNDDS)',\n     'foodCode': '58148110',\n     'publishedDate': '2019-04-01',\n     'allHighlightFields': '',\n     'score': 238.55087},\n    {'fdcId': 341420,\n     'description': 'Macaroni with vegetables, baby food, strained',\n     'additionalDescriptions': 'Gerber Tender Harvest Pasta Primavera',\n     'dataType': 'Survey (FNDDS)',\n     'foodCode': '58509200',\n     'publishedDate': '2019-04-01',\n     'allHighlightFields': '',\n     'score': 238.55087},\n    {'fdcId': 340325,\n     'description': 'Macaroni, cooked, fat added in cooking',\n     'additionalDescriptions': 'cavatoni ricci; bows; twirls; spirals; pasta, NS as to type; lasagna noodles; orzo; ziti; rotini; shells; wagon wheels; cart wheels; manicotti; rigatoni; mostaccioli',\n     'dataType': 'Survey (FNDDS)',\n     'foodCode': '56101030',\n     'publishedDate': '2019-04-01',\n     'allHighlightFields': '',\n     'score': 238.55087},\n    {'fdcId': 340324,\n     'description': 'Macaroni, cooked, fat not added in cooking',\n     'additionalDescriptions': 'lasagna noodles; orzo; ziti; rotini; shells; wagon wheels; cart wheels; manicotti; rigatoni; mostaccioli; cavatoni; ricci; bows; twirls; spirals; pasta, NS as to type',\n     'dataType': 'Survey (FNDDS)',\n     'foodCode': '56101010',\n     'publishedDate': '2019-04-01',\n     'allHighlightFields': '',\n     'score': 238.55087},\n    {'fdcId': 340334,\n     'description': 'Macaroni, cooked, vegetable, fat added in cooking',\n     'additionalDescriptions': 'tricolor vegetable macaroni',\n     'dataType': 'Survey (FNDDS)',\n     'foodCode': '56104020',\n     'publishedDate': '2019-04-01',\n     'allHighlightFields': '<b>Includes</b>: tricolor vegetable <em>macaroni</em>',\n     'score': 236.4954},\n    {'fdcId': 340333,\n     'description': 'Macaroni, cooked, vegetable, fat not added in cooking',\n     'additionalDescriptions': 'tricolor vegetable macaroni',\n     'dataType': 'Survey (FNDDS)',\n     'foodCode': '56104010',\n     'publishedDate': '2019-04-01',\n     'allHighlightFields': '<b>Includes</b>: tricolor vegetable <em>macaroni</em>',\n     'score': 236.4954},\n    {'fdcId': 341413,\n     'description': 'Macaroni, tomatoes, and beef, baby food, strained',\n     'additionalDescriptions': 'Beech-Nut Stage 2 Macaroni and Beef Dinner; Gerber Second Foods Dinner',\n     'dataType': 'Survey (FNDDS)',\n     'foodCode': '58503010',\n     'publishedDate': '2019-04-01',\n     'allHighlightFields': '<b>Includes</b>: Beech-Nut Stage 2 <em>Macaroni</em> and Beef Dinner; Gerber Second Foods Dinner',\n     'score': 228.52419},\n    {'fdcId': 341414,\n     'description': 'Macaroni, tomatoes, and beef, baby food, junior',\n     'additionalDescriptions': 'Beech-Nut Stage 3 Macaroni and Beef Dinner; Gerber Third Foods Dinner; Gerber Third Foods Lasagna',\n     'dataType': 'Survey (FNDDS)',\n     'foodCode': '58503020',\n     'publishedDate': '2019-04-01',\n     'allHighlightFields': '<b>Includes</b>: Beech-Nut Stage 3 <em>Macaroni</em> and Beef Dinner; Gerber Third Foods Dinner; Gerber Third Foods Lasagna',\n     'score': 227.1262},\n    {'fdcId': 340332,\n     'description': 'Macaroni, cooked, vegetable, NS as to fat added in cooking',\n     'additionalDescriptions': 'tricolor vegetable macaroni',\n     'dataType': 'Survey (FNDDS)',\n     'foodCode': '56104000',\n     'publishedDate': '2019-04-01',\n     'allHighlightFields': '<b>Includes</b>: tricolor vegetable <em>macaroni</em>',\n     'score': 220.86377},\n    {'fdcId': 173491,\n     'description': 'Babyfood, dinner, macaroni and tomato and beef, junior',\n     'dataType': 'SR Legacy',\n     'ndbNumber': '3045',\n     'publishedDate': '2019-04-01',\n     'allHighlightFields': '',\n     'score': 219.88766},\n    {'fdcId': 173490,\n     'description': 'Babyfood, dinner, macaroni and tomato and beef, strained',\n     'dataType': 'SR Legacy',\n     'ndbNumber': '3044',\n     'publishedDate': '2019-04-01',\n     'allHighlightFields': '',\n     'score': 219.88766},\n    {'fdcId': 168078,\n     'description': \"DENNY'S, macaroni & cheese, from kid's menu\",\n     'commonNames': 'family style',\n     'dataType': 'SR Legacy',\n     'ndbNumber': '36613',\n     'publishedDate': '2019-04-01',\n     'allHighlightFields': '',\n     'score': 219.88766},\n    {'fdcId': 172965,\n     'description': 'Macaroni and cheese loaf, chicken, pork and beef',\n     'dataType': 'SR Legacy',\n     'ndbNumber': '7940',\n     'publishedDate': '2019-04-01',\n     'allHighlightFields': '',\n     'score': 219.88766}]}],\n 1: [{'foodSearchCriteria': {'generalSearchInput': 'cheese',\n    'pageNumber': 1,\n    'requireAllWords': False},\n   'totalHits': 34288,\n   'currentPage': 1,\n   'totalPages': 686,\n   'foods': [{'fdcId': 357068,\n     'description': 'CHEESE',\n     'dataType': 'Branded',\n     'gtinUpc': '769087000616',\n     'publishedDate': '2019-04-01',\n     'brandOwner': 'Quesos La Ricura',\n     'ingredients': 'CULTURED PASTEURIZED MILK, SALT, SORBIC ACID AND RENNET AND NATAMYCIN. ',\n     'allHighlightFields': '',\n     'score': 349.18002},\n    {'fdcId': 506463,\n     'description': 'CHEESE',\n     'dataType': 'Branded',\n     'gtinUpc': '817944010640',\n     'publishedDate': '2019-04-01',\n     'brandOwner': \"Murray's Products LLC\",\n     'ingredients': \"PASTEURIZED COWS' MILK, SALT, CULTURES, ENZYMES.\",\n     'allHighlightFields': '',\n     'score': 349.18002},\n    {'fdcId': 500747,\n     'description': 'CHEESE',\n     'dataType': 'Branded',\n     'gtinUpc': '899285000115',\n     'publishedDate': '2019-04-01',\n     'brandOwner': 'New York Pizzeria',\n     'ingredients': \"CRUST: WATER, RICE FLOUR, POTATO STARCH, OLIVE OIL, HONEY, TAPIOCA FLOUR, FRESH YEAST, SALT. SAUCE: TOMATO PUREE (TOMATOES, SALT AND CITRIC ACID), WATER, PIZZA SAUCE MIX (OREGANO, DRIED BASIL, SALT, SUGAR, DRIED GARLIC), EXTRA VIRGIN OLIVE OIL, ONIONS, DEHYDRATED ROMANO CHEESE (PASTEURIZED CULTURED COW'S MILK, SALT, ENZYMES), PARSLEY, BASIL. CHEESE: WHOLE MILK MOZZARELLA CHEESE (PASTEURIZED MILK, CHEESE CULTURES, SALT, ENZYMES), OREGANO.\",\n     'allHighlightFields': '<b>Ingredients</b>: , SUGAR, DRIED GARLIC), EXTRA VIRGIN OLIVE OIL, ONIONS, DEHYDRATED ROMANO <em>CHEESE</em> (PASTEURIZED CULTURED',\n     'score': 349.18002},\n    {'fdcId': 453744,\n     'description': 'CHEESE',\n     'dataType': 'Branded',\n     'gtinUpc': '868802000105',\n     'publishedDate': '2019-04-01',\n     'brandOwner': 'Triad Mfg. KY LLC.',\n     'ingredients': 'CHEDDAR CHEESE ((AGED OVER 120 DAYS) PASTEURIZED MILK, CHEESE CULTURE, SALT, ENZYME, WATER, WHEY, CREAM, SALT, GUAR GUM, SORBIC ACID (TO PROTECT FLAVOR), ANNATTO (COLOR)), BEER, GARLIC, HOT SAUCE (DISTILLED VINEGAR, RED PEPPER, SALT), ONION, SPICES.',\n     'allHighlightFields': '<b>Ingredients</b>: CHEDDAR <em>CHEESE</em> ((AGED OVER 120 DAYS) PASTEURIZED MILK, <em>CHEESE</em> CULTURE, SALT, ENZYME, WATER, WHEY',\n     'score': 349.18002},\n    {'fdcId': 566821,\n     'description': 'CHEESE',\n     'dataType': 'Branded',\n     'gtinUpc': '070852992686',\n     'publishedDate': '2019-04-01',\n     'brandOwner': 'Clover Stornetta Farms, Inc.',\n     'ingredients': 'CULTURED PASTEURIZED MILK, SALT, NON-ANIMAL ENZYMES, ANNATTO (COLOR), POTATO STARCH, CORN STARCH, POWDERED CELLULOSE (ADDED TO PREVENT CAKING).',\n     'allHighlightFields': '',\n     'score': 349.18002},\n    {'fdcId': 566072,\n     'description': 'CHEESE',\n     'dataType': 'Branded',\n     'gtinUpc': '078742263083',\n     'publishedDate': '2019-04-01',\n     'brandOwner': 'Wal-Mart Stores, Inc.',\n     'ingredients': 'ENRICHED YELLOW CORN (YELLOW CORN, THIAMINE MONONITRATE, RIBOFLAVIN, NIACIN, FERROUS SULFATE, FOLIC ACID), VEGETABLE OIL (CONTAINS ONE OR MORE OF THE FOLLOWING: CORN, SUNFLOWER, OR CANOLA OIL), WHEY, SALT, COCONUT OIL, MALTODEXTRIN, MONOSODIUM GLUTAMATE, CHEDDAR CHEESE (PASTEURIZED MILK, CREAM, SALT, CULTURES, NONFAT MILK, ENZYMES), DIPOTASSIUM PHOSPHATE, POTASSIUM CHLORIDE, NATURAL AND ARTIFICIAL FLAVORS, CITRIC ACID, LACTIC ACID, YELLOW 6, YELLOW 5.',\n     'allHighlightFields': '<b>Ingredients</b>: , SALT, COCONUT OIL, MALTODEXTRIN, MONOSODIUM GLUTAMATE, CHEDDAR <em>CHEESE</em> (PASTEURIZED MILK, CREAM',\n     'score': 349.18002},\n    {'fdcId': 575437,\n     'description': 'CHEESE',\n     'dataType': 'Branded',\n     'gtinUpc': '078742267890',\n     'publishedDate': '2019-04-01',\n     'brandOwner': 'Wal-Mart Stores, Inc.',\n     'ingredients': 'PASTEURIZED MILK, CHEESE CULTURE, SALT, ENZYMES.',\n     'allHighlightFields': '<b>Ingredients</b>: PASTEURIZED MILK, <em>CHEESE</em> CULTURE, SALT, ENZYMES.',\n     'score': 349.18002},\n    {'fdcId': 508576,\n     'description': 'CHEESE',\n     'dataType': 'Branded',\n     'gtinUpc': '856274005056',\n     'publishedDate': '2019-04-01',\n     'brandOwner': 'Kool Tart',\n     'ingredients': 'WATER, CORN SYRUP, CREAM CHEESE (PASTEURIZED CULTURED MILK AND CREAM) SALT, STABILIZERS XANTHAN GUM, CAROB BEAN, AND/OR GUAR GUMS) SUGAR, MODIFIED CORN STARCH, CONTAINS 2% OR LESS THE FOLLOWING: SALT, TITANIUM DIOXIDE, SOUDIUM BENZOATE AND POTASSIUM SORBATE F.D.&C YELLOW NO.5 AND 6.',\n     'allHighlightFields': '<b>Ingredients</b>: WATER, CORN SYRUP, CREAM <em>CHEESE</em> (PASTEURIZED CULTURED MILK AND CREAM) SALT, STABILIZERS XANTHAN GUM',\n     'score': 349.18002},\n    {'fdcId': 506474,\n     'description': 'CHEESE',\n     'dataType': 'Branded',\n     'gtinUpc': '850276005014',\n     'publishedDate': '2019-04-01',\n     'brandOwner': 'Great Lakes Beer Cheese LLC',\n     'ingredients': 'CHEDDAR CHEESE, (PASTEURIZED MILK, CHEESE CULTURE, SALT, ENZYME, WATER, REDUCED LACTOSE WHEY CREAM, SKIM MILK), SORBIC ACID (TO PROTECT FLAVOR), GUAR GUM, LACTIC ACID, ANNATTO (COLOR), BEER, WORCESTERSHIRE SAUCE, (DISTILLED VINEGAR, MOLASSES, CORN SYRUP, WATER, SALT, SPICES, ANCHOVY PUREE, NATURAL FLAVOR, TAMARIND) GARLIC POWDER, ARTIFICIAL FLAVOR, ONION POWDER, AGED CAYENNE PEPPER SAUCE (AGED CEYENNE PEPPERS, VINEGAR, WATER, SALT, GARLIC, GARLIC POWDER), CAYENNE PEPPER.',\n     'allHighlightFields': '<b>Brand Owner</b>: Great Lakes Beer <em>Cheese</em> LLC<br/><b>Ingredients</b>: CHEDDAR <em>CHEESE</em>, (PASTEURIZED MILK, <em>CHEESE</em> CULTURE, SALT, ENZYME, WATER, REDUCED LACTOSE WHEY CREAM',\n     'score': 349.18002},\n    {'fdcId': 500370,\n     'description': 'CHEESE',\n     'dataType': 'Branded',\n     'gtinUpc': '217260803726',\n     'publishedDate': '2019-04-01',\n     'brandOwner': 'GOURMET',\n     'ingredients': 'GRUYERE CHEESE AND CHEESE (PASTEURIZED MILK, CULTURES, SALT, RENNET), WATER, MILK PROTEIN, BUTTER, WHEY PRODUCT, DISODIUM PHOSPHATES AND POLYPHOSPHATES (EMULSIFYING SALTS), SALT.',\n     'allHighlightFields': '<b>Ingredients</b>: GRUYERE <em>CHEESE</em> AND <em>CHEESE</em> (PASTEURIZED MILK, CULTURES, SALT, RENNET), WATER, MILK PROTEIN, BUTTER',\n     'score': 349.18002},\n    {'fdcId': 516484,\n     'description': 'CHEESE',\n     'dataType': 'Branded',\n     'gtinUpc': '814857020018',\n     'publishedDate': '2019-04-01',\n     'brandOwner': 'GRANA PADANO',\n     'ingredients': \"PART-SKIMMED COW'S MILK, CHEESE CULTURES, SALT, RENNET, EGG WHITE LYSOZYME.\",\n     'allHighlightFields': \"<b>Ingredients</b>: PART-SKIMMED COW'S MILK, <em>CHEESE</em> CULTURES, SALT, RENNET, EGG WHITE LYSOZYME.\",\n     'score': 349.18002},\n    {'fdcId': 436242,\n     'description': 'CHEESE',\n     'dataType': 'Branded',\n     'gtinUpc': '099482420574',\n     'publishedDate': '2019-04-01',\n     'brandOwner': 'Whole Foods Market, Inc.',\n     'ingredients': 'CULTURED PASTEURIZED ORGANIC MILK, SALT, MICROBIAL ENZYMES.',\n     'allHighlightFields': '',\n     'score': 349.18002},\n    {'fdcId': 515803,\n     'description': 'CHEESE',\n     'dataType': 'Branded',\n     'gtinUpc': '688267173844',\n     'publishedDate': '2019-04-01',\n     'brandOwner': 'COMTE',\n     'ingredients': \"RAW COW'S MILK, LACTIC STARTERS, SALT, RENNET.\",\n     'allHighlightFields': '',\n     'score': 349.18002},\n    {'fdcId': 554504,\n     'description': 'CHEESE',\n     'dataType': 'Branded',\n     'gtinUpc': '073866210166',\n     'publishedDate': '2019-04-01',\n     'brandOwner': 'Kings Super Markets Inc',\n     'ingredients': 'PASTEURIZED MILK, CHEESE CULTURES, SALT, ENZYMES, ANNATTO (IF COLORED).',\n     'allHighlightFields': '<b>Ingredients</b>: PASTEURIZED MILK, <em>CHEESE</em> CULTURES, SALT, ENZYMES, ANNATTO (IF COLORED).',\n     'score': 349.18002},\n    {'fdcId': 395244,\n     'description': 'CHEESE',\n     'dataType': 'Branded',\n     'gtinUpc': '031142526752',\n     'publishedDate': '2019-04-01',\n     'brandOwner': 'Belgioioso Cheese, Inc.',\n     'ingredients': 'CRAFTED FROM CULTURED MILK, ENZYMES, SALT.',\n     'allHighlightFields': '<b>Brand Owner</b>: Belgioioso <em>Cheese</em>, Inc.',\n     'score': 349.18002},\n    {'fdcId': 380873,\n     'description': 'CHEESE',\n     'dataType': 'Branded',\n     'gtinUpc': '041497085880',\n     'publishedDate': '2019-04-01',\n     'brandOwner': 'Weis Markets, Inc.',\n     'ingredients': 'AMERICAN CHEESE (MILK, CHEESE CULTURES, SLAT, ENZYMES), WATER, SKIM MILK CHEESE (SKIM MILK, CHEESE CULTURES, SALT, ENZYMES), WHEY, MILK PROTEIN CONCENTRATE, SODIUM CITRATE, SALT, SORBIC ACID AS A PRESERVATIVE, ANNATTO AND OLEORESIN PAPRIKA (COLOR).',\n     'allHighlightFields': '<b>Ingredients</b>: AMERICAN <em>CHEESE</em> (MILK, <em>CHEESE</em> CULTURES, SLAT, ENZYMES), WATER, SKIM MILK <em>CHEESE</em> (SKIM MILK, <em>CHEESE</em>',\n     'score': 349.18002},\n    {'fdcId': 359337,\n     'description': 'CHEESE',\n     'dataType': 'Branded',\n     'gtinUpc': '769087002603',\n     'publishedDate': '2019-04-01',\n     'brandOwner': 'Quesos La Ricura',\n     'ingredients': 'CULTURED PASTEURIZED MILK, SALT, SORBIC ACID AND RENNET. ',\n     'allHighlightFields': '',\n     'score': 349.18002},\n    {'fdcId': 562057,\n     'description': 'CHEESE',\n     'dataType': 'Branded',\n     'gtinUpc': '075925299853',\n     'publishedDate': '2019-04-01',\n     'brandOwner': 'Milton G. Waldbaum Company',\n     'ingredients': 'COLBY AND MONTEREY JACK CHEESE (PASTEURIZED MILK, CHEESE CULTURE, SALT, ENZYMES, ANNATTO COLOR), POTATO STARCH, STARCH AND CELLULOSE POWDER TO PREVENT CAKING, NATAMYCIN (MOLD INHIBITOR).',\n     'allHighlightFields': '<b>Ingredients</b>: COLBY AND MONTEREY JACK <em>CHEESE</em> (PASTEURIZED MILK, <em>CHEESE</em> CULTURE, SALT, ENZYMES, ANNATTO COLOR',\n     'score': 349.18002},\n    {'fdcId': 575343,\n     'description': 'CHEESE',\n     'dataType': 'Branded',\n     'gtinUpc': '078742267852',\n     'publishedDate': '2019-04-01',\n     'brandOwner': 'Wal-Mart Stores, Inc.',\n     'ingredients': 'PASTEURIZED MILK, CHEESE CULTURE, SALT, ENZYMES, ANNATTO COLOR.',\n     'allHighlightFields': '<b>Ingredients</b>: PASTEURIZED MILK, <em>CHEESE</em> CULTURE, SALT, ENZYMES, ANNATTO COLOR.',\n     'score': 349.18002},\n    {'fdcId': 453640,\n     'description': 'CHEESE',\n     'dataType': 'Branded',\n     'gtinUpc': '0853555003404',\n     'publishedDate': '2019-04-01',\n     'brandOwner': 'ISI North America, Inc.',\n     'ingredients': \"PASTEURIZED COW'S MILK, SALT, CHEESE CULTURES, ENZYMES.\",\n     'allHighlightFields': \"<b>Ingredients</b>: PASTEURIZED COW'S MILK, SALT, <em>CHEESE</em> CULTURES, ENZYMES.\",\n     'score': 349.18002},\n    {'fdcId': 619774,\n     'description': 'CHEESE',\n     'dataType': 'Branded',\n     'gtinUpc': '011863120569',\n     'publishedDate': '2019-12-06',\n     'brandOwner': 'CITRUS GINGER BELLAVITANO',\n     'ingredients': 'BELLA VITANO CHEESE (PASTEURIZED MILK, CHEESE CULTURES, SALT, ENZYMES), SEASONING BLEND (SPICES [INCLUDING GINGER], DEHYDRATED ONION AND GARLIC, SUGAR, ORANGE PEEL, SEA SALT, RED BELL PEPPER, CITRIC ACID, SESAME OIL, ORANGE OIL, SPICE EXTRACTIVE, OLEORESIN PAPRIKA).',\n     'allHighlightFields': '<b>Ingredients</b>: BELLA VITANO <em>CHEESE</em> (PASTEURIZED MILK, <em>CHEESE</em> CULTURES, SALT, ENZYMES), SEASONING BLEND (SPICES',\n     'score': 349.18002},\n    {'fdcId': 496225,\n     'description': 'CHEESE',\n     'dataType': 'Branded',\n     'gtinUpc': '039674502084',\n     'publishedDate': '2019-04-01',\n     'brandOwner': 'American Pride Food Corp.',\n     'ingredients': \"PARMESAN AND ROMANO CHEESE. MADE FROM PASTEURIZED COW'S AND SHEEP'S MILK, CULTURE, SALT, AND ENZYMES. MICROCELLULOSE ADDED TO PREVENT CAKING.\",\n     'allHighlightFields': \"<b>Ingredients</b>: PARMESAN AND ROMANO <em>CHEESE</em>. MADE FROM PASTEURIZED COW'S AND SHEEP'S MILK, CULTURE, SALT, AND ENZYMES. MICROCELLULOSE ADDED TO PREVENT CAKING.\",\n     'score': 349.18002},\n    {'fdcId': 566845,\n     'description': 'CHEESE',\n     'dataType': 'Branded',\n     'gtinUpc': '070852992853',\n     'publishedDate': '2019-04-01',\n     'brandOwner': 'Clover Stornetta Farms, Inc.',\n     'ingredients': 'CULTURED PASTEURIZED MILK, SALT, NON-ANIMAL ENZYMES, ANNATTO (COLOR).',\n     'allHighlightFields': '',\n     'score': 349.18002},\n    {'fdcId': 594422,\n     'description': 'CHEESE',\n     'dataType': 'Branded',\n     'gtinUpc': '085239017661',\n     'publishedDate': '2019-04-01',\n     'brandOwner': 'Target Stores',\n     'ingredients': 'DURUM WHEAT FLOUR, RICOTTA CHEESE (PASTEURIZED WHOLE MILK, VINEGAR, SALT), PARMESAN CHEESE (PASTEURIZED MILK, CHEESE CULTURES, SALT, ENZYMES, POWDERED CELLULOSE), ROMANO CHEESE (PASTEURIZED MILK, CHEESE CULTURES, SALT, ENZYMES, POWDERED CELLULOSE), WATER, EGGS, BREAD CRUMBS (WHEAT FLOUR, SUGAR, YEAST, SALT, EXPELLER PRESSED CANOLA OIL), MOZZARELLA CHEESE (PASTEURIZED MILK, CHEESE CULTURES, SALT, ENZYMES, POWDERED CELLULOSE), CHEDDAR CHEESE (PASTEURIZED MILK, CHEESE CULTURES, SALT, ENZYMES), SEA SALT.',\n     'allHighlightFields': '<b>Ingredients</b>: DURUM WHEAT FLOUR, RICOTTA <em>CHEESE</em> (PASTEURIZED WHOLE MILK, VINEGAR, SALT), PARMESAN <em>CHEESE</em>',\n     'score': 349.18002},\n    {'fdcId': 551883,\n     'description': 'CHEESE',\n     'dataType': 'Branded',\n     'gtinUpc': '078742266916',\n     'publishedDate': '2019-04-01',\n     'brandOwner': 'RANA MEAL SOLUTIONS, LLC',\n     'ingredients': \"PASTA (DURUM WHEAT FLOUR, EGGS, WATER). FILLING ((RICOTTA [WHEY, MILK, CREAM, VINEGAR], MILK PROTEIN BLEND [WATER, SUNFLOWER OIL, POTATO STARCH, CASEIN, SALT], BREAD CRUMBS [WHEAT FLOUR, YEAST, SALT], PARMESAN CHEESE [PASTEURIZED CULTURED PART-SKIMMED MILK, SALT, ENZYMES], MOZZARELLA CHEESE [PASTEURIZED CULTURED MILK, SALT, ENZYMES], DEHYDRATED POTATOES, MASCARPONE CHEESE [PASTEURIZED MILK, PASTEURIZED CREAM, CITRIC ACID], NATURAL FLAVORS, VEGETABLE FIBER BLEND (BAMBOO FIBER, PSYLLIUM FIBER), INULIN, ROMANO CHEESE MADE FROM COW'S MILK [PASTEURIZED CULTURED MILK, SALT, ENZYMES], CORN STARCH BLEND [CORN STARCH, POTATO FIBER], 2% OR LESS OF SALT, AUTOLYZED YEAST EXTRACT).\",\n     'allHighlightFields': '<b>Ingredients</b>: ], PARMESAN <em>CHEESE</em> [PASTEURIZED CULTURED PART-SKIMMED MILK, SALT, ENZYMES], MOZZARELLA <em>CHEESE</em>',\n     'score': 349.18002},\n    {'fdcId': 493275,\n     'description': 'CHEESE',\n     'dataType': 'Branded',\n     'gtinUpc': '075925304892',\n     'publishedDate': '2019-04-01',\n     'brandOwner': 'Milton G. Waldbaum Company',\n     'ingredients': 'CHEDDAR CHEESE (PASTEURIZED MILK, CHEESE CULTURE, SALT, ENZYMES AND ANNATTO COLOR), MONTEREY JACK CHEESE (PASTEURIZED MILK, CHEESE CULTURE, SALT AND ENZYMES), QUESO QUESADILLA & ASADERO CHEESE (PASTEURIZED MILK, CHEESE CULTURE, SALT AND ENZYMES), POTATO STARCH, STARCH AND CELLULOSE POWDER TO PREVENT CAKING, NATAMYCIN (MOLD INHIBITOR).',\n     'allHighlightFields': '<b>Ingredients</b>: CHEDDAR <em>CHEESE</em> (PASTEURIZED MILK, <em>CHEESE</em> CULTURE, SALT, ENZYMES AND ANNATTO COLOR), MONTEREY JACK',\n     'score': 349.18002},\n    {'fdcId': 393371,\n     'description': 'CHEESE',\n     'dataType': 'Branded',\n     'gtinUpc': '046100020005',\n     'publishedDate': '2019-04-01',\n     'brandOwner': 'Sargento Foods Inc',\n     'ingredients': 'CHEDDAR CHEESE [PASTEURIZED MILK, CHEESE CULTURE, SALT, ENZYMES, ANNATTO (VEGETABLE COLOR)], POTATO STARCH AND POWDERED CELLULOSE (TO PREVENT CAKING), NATAMYCIN (A NATURAL MOLD INHIBITOR).',\n     'allHighlightFields': '<b>Ingredients</b>: CHEDDAR <em>CHEESE</em> [PASTEURIZED MILK, <em>CHEESE</em> CULTURE, SALT, ENZYMES, ANNATTO (VEGETABLE COLOR)], POTATO',\n     'score': 349.18002},\n    {'fdcId': 380865,\n     'description': 'CHEESE',\n     'dataType': 'Branded',\n     'gtinUpc': '041497081035',\n     'publishedDate': '2019-04-01',\n     'brandOwner': 'Weis Markets, Inc.',\n     'ingredients': 'PASTEURIZED PART-SKIM MILK, CHEESE CULTURE, SALT, ENZYMES AND ANNATTO [VEGETABLE COLOR], VITAMIN A PALMITATE.',\n     'allHighlightFields': '<b>Ingredients</b>: PASTEURIZED PART-SKIM MILK, <em>CHEESE</em> CULTURE, SALT, ENZYMES AND ANNATTO [VEGETABLE COLOR], VITAMIN A PALMITATE.',\n     'score': 349.18002},\n    {'fdcId': 372561,\n     'description': 'CHEESE',\n     'dataType': 'Branded',\n     'gtinUpc': '073296480078',\n     'publishedDate': '2019-04-01',\n     'brandOwner': 'Key Food Stores Co-Operative, Inc.',\n     'ingredients': 'PASTEURIZED MILK, CHEESE CULTURE, SALT, ENZYMES AND ANNATTO (IF COLORED). ',\n     'allHighlightFields': '<b>Ingredients</b>: PASTEURIZED MILK, <em>CHEESE</em> CULTURE, SALT, ENZYMES AND ANNATTO (IF COLORED). ',\n     'score': 349.18002},\n    {'fdcId': 400923,\n     'description': 'CHEESE',\n     'dataType': 'Branded',\n     'gtinUpc': '011863118740',\n     'publishedDate': '2019-04-01',\n     'brandOwner': 'BALSAMIC BELLAVITANO',\n     'ingredients': 'BELLAVITANO CHEESE (PASTEURIZED MILK, CHEESE CULTURES, SALT, ENZYMES), BALSAMIC VINEGAR',\n     'allHighlightFields': '<b>Ingredients</b>: BELLAVITANO <em>CHEESE</em> (PASTEURIZED MILK, <em>CHEESE</em> CULTURES, SALT, ENZYMES), BALSAMIC VINEGAR',\n     'score': 349.18002},\n    {'fdcId': 575415,\n     'description': 'CHEESE',\n     'dataType': 'Branded',\n     'gtinUpc': '078742267906',\n     'publishedDate': '2019-04-01',\n     'brandOwner': 'Wal-Mart Stores, Inc.',\n     'ingredients': 'PASTEURIZED MILK, CHEESE CULTURE, SALT, ENZYMES.',\n     'allHighlightFields': '<b>Ingredients</b>: PASTEURIZED MILK, <em>CHEESE</em> CULTURE, SALT, ENZYMES.',\n     'score': 349.18002},\n    {'fdcId': 594423,\n     'description': 'CHEESE',\n     'dataType': 'Branded',\n     'gtinUpc': '085239017555',\n     'publishedDate': '2019-04-01',\n     'brandOwner': 'Target Stores',\n     'ingredients': 'DURUM WHEAT FLOUR, RICOTTA CHEESE (PASTEURIZED WHOLE MILK VINEGAR, SALT), PARMESAN CHEESE (PASTEURIZED MILK, CHEESE CULTURES, SALT, ENZYMES, POWDERED CELLULOSE), WATER, EGGS, BREAD CRUMBS (WHEAT FLOUR, SUGAR, YEAST, SALT, EXPELLER PRESSED CANOLA OIL), MOZZARELLA CHEESE (PASTEURIZED MILK, CHEESE CULTURES, SALT, ENZYMES, POWDERED CELLULOSE), CHEDDAR CHEESE (PASTEURIZED MILK, CHEESE CULTURES, SALT, ENZYMES), SEA SALT.',\n     'allHighlightFields': '<b>Ingredients</b>: DURUM WHEAT FLOUR, RICOTTA <em>CHEESE</em> (PASTEURIZED WHOLE MILK VINEGAR, SALT), PARMESAN <em>CHEESE</em>',\n     'score': 349.18002},\n    {'fdcId': 455682,\n     'description': 'CHEESE',\n     'dataType': 'Branded',\n     'gtinUpc': '045251026195',\n     'publishedDate': '2019-04-01',\n     'brandOwner': 'M Skorsted Dist Inc',\n     'ingredients': 'WHEAT FLOUR, SUGAR, MARGARINE (INTERESTERIFIED SOYBEAN OIL, WATER, SALT, MONO- AND DIGLYCERIDES, COLORED WITH ANNATTO/TURMERIC, CALCIUM DISODIUM EDTA PRESERVATIVE, ARTIFICIAL BUTTER FLAVOR, VITAMIN A PALMITATE ADDED.), HIGH FRUCTOSE CORN SYRUP, BROWN SUGAR (SUGAR, MOLASSES, CANE SYRUP), CORN SYRUP, CONTAINS 2% OR LESS OF THE FOLLOWING: WATER, RASPBERRY, MODIFIED FOOD STARCH, EGGS, SALT, CREAM CHEESE (PASTEURIZED CULTURED CREAM, SKIM MILK, NATURAL ACIDS, SALT, XANTHAN, LOCUST BEAN AND GUAR GUMS, NATURAL FLAVORS), MALTODEXTRIN, SOY PROTEIN, YEAST, DEXTROSE, POTASSIUM SORBATE, AGAR-AGAR, CALCIUM CARBONATE, PARTIALLY HYDROGENATED SOYBEAN AND COTTONSEED OILS, TOCOPHEROLS PRESERVATIVE, BENZOIC ACID, LACTIC ACID, PALM OIL, POLYSORBATE 60, CITRIC ACID, RED 40, YELLOW 5, YELLOW 6, NATURAL & ARTIFICIAL FLAVORS, SODIUM BENZOATE, SODIUM CITRATE, CALCIUM PROPIONATE, MALTED BARLEY, CORN STARCH, CINNAMON, EGG YOLKS, SOY LECITHIN, ENZYMES, BAKING SODA, COLOR ADDED.',\n     'allHighlightFields': '<b>Ingredients</b>:  <em>CHEESE</em> (PASTEURIZED CULTURED CREAM, SKIM MILK, NATURAL ACIDS, SALT, XANTHAN, LOCUST BEAN AND GUAR GUMS',\n     'score': 349.18002},\n    {'fdcId': 566838,\n     'description': 'CHEESE',\n     'dataType': 'Branded',\n     'gtinUpc': '070852992860',\n     'publishedDate': '2019-04-01',\n     'brandOwner': 'Clover Stornetta Farms, Inc.',\n     'ingredients': 'CULTURED PASTEURIZED MILK, SALT, NON-ANIMAL ENZYMES, ANNATTO (COLOR).',\n     'allHighlightFields': '',\n     'score': 349.18002},\n    {'fdcId': 566834,\n     'description': 'CHEESE',\n     'dataType': 'Branded',\n     'gtinUpc': '070852992884',\n     'publishedDate': '2019-04-01',\n     'brandOwner': 'Clover Stornetta Farms, Inc.',\n     'ingredients': 'CULTURED PASTEURIZED MILK, RED AND GREEN JALAPENO PEPPERS, SALT, NON-ANIMAL ENZYMES.',\n     'allHighlightFields': '',\n     'score': 349.18002},\n    {'fdcId': 505435,\n     'description': 'CHEESE',\n     'dataType': 'Branded',\n     'gtinUpc': '041174118405',\n     'publishedDate': '2019-04-01',\n     'brandOwner': 'OREGON BLUE',\n     'ingredients': 'PASTEURIZED COW MILK SALT, ENZYMES, CHEESE CULTURES, PENICILLIUM ROQUEFORTI.',\n     'allHighlightFields': '<b>Ingredients</b>: PASTEURIZED COW MILK SALT, ENZYMES, <em>CHEESE</em> CULTURES, PENICILLIUM ROQUEFORTI.',\n     'score': 349.18002},\n    {'fdcId': 575651,\n     'description': 'CHEESE',\n     'dataType': 'Branded',\n     'gtinUpc': '741643045200',\n     'publishedDate': '2019-04-01',\n     'brandOwner': \"Lowe's Food Stores, Inc.\",\n     'ingredients': 'PASTEURIZED MILK, CHEESE CULTURE, SALT, ENZYMES AND ANNATTO (VEGETABLE COLOR).',\n     'allHighlightFields': '<b>Ingredients</b>: PASTEURIZED MILK, <em>CHEESE</em> CULTURE, SALT, ENZYMES AND ANNATTO (VEGETABLE COLOR).',\n     'score': 349.18002},\n    {'fdcId': 359339,\n     'description': 'CHEESE',\n     'dataType': 'Branded',\n     'gtinUpc': '769087004768',\n     'publishedDate': '2019-04-01',\n     'brandOwner': 'QUESOS LA RICURA',\n     'ingredients': 'CULTURED PASTEURIZED MILK, SALT, SORBIC ACID, RENNET AND NATAMYCIN. ',\n     'allHighlightFields': '',\n     'score': 349.18002},\n    {'fdcId': 506507,\n     'description': 'CHEESE',\n     'dataType': 'Branded',\n     'gtinUpc': '8007559204240',\n     'publishedDate': '2019-04-01',\n     'brandOwner': 'Intelligentsia Coffee & Tea, Inc.',\n     'ingredients': \"COW'S MILK, SALT, CHILI PEPPER, RENNET.\",\n     'allHighlightFields': '',\n     'score': 349.18002},\n    {'fdcId': 359340,\n     'description': 'CHEESE',\n     'dataType': 'Branded',\n     'gtinUpc': '819753000683',\n     'publishedDate': '2019-04-01',\n     'brandOwner': 'Leblon Foods, Inc.',\n     'ingredients': 'WHEY, PASTEURIZED MILK, VINEGAR & SALT',\n     'allHighlightFields': '',\n     'score': 349.18002},\n    {'fdcId': 569213,\n     'description': 'CHEESE',\n     'dataType': 'Branded',\n     'gtinUpc': '853910006170',\n     'publishedDate': '2019-04-01',\n     'brandOwner': 'FERNDALE FARMSTEAD',\n     'ingredients': 'MILK, SALT, CULTURES, ENZYMES.',\n     'allHighlightFields': '',\n     'score': 349.18002},\n    {'fdcId': 336773,\n     'description': 'Cheese, processed cheese food',\n     'additionalDescriptions': 'Handi-Snack cheese container',\n     'dataType': 'Survey (FNDDS)',\n     'foodCode': '14410500',\n     'publishedDate': '2019-04-01',\n     'allHighlightFields': '<b>Includes</b>: Handi-Snack <em>cheese</em> container',\n     'score': 215.22098},\n    {'fdcId': 336777,\n     'description': 'Cheese spread, Swiss cheese base',\n     'additionalDescriptions': 'Swiss Almond cold pack cheese food',\n     'dataType': 'Survey (FNDDS)',\n     'foodCode': '14420160',\n     'publishedDate': '2019-04-01',\n     'allHighlightFields': '<b>Includes</b>: Swiss Almond cold pack <em>cheese</em> food',\n     'score': 202.01765},\n    {'fdcId': 336778,\n     'description': 'Cheese spread, cream cheese, regular',\n     'additionalDescriptions': 'relish; Rondele Cheese Spread; smoked salmon; fruit flavors; olive; pimiento; onion; clam; roka',\n     'dataType': 'Survey (FNDDS)',\n     'foodCode': '14420200',\n     'publishedDate': '2019-04-01',\n     'allHighlightFields': '<b>Includes</b>: relish; Rondele <em>Cheese</em> Spread; smoked salmon; fruit flavors; olive; pimiento; onion; clam; roka',\n     'score': 199.87672},\n    {'fdcId': 336722,\n     'description': 'Cheese, Monterey',\n     'additionalDescriptions': 'Monterey Jack cheese; Pepper Jack cheese',\n     'dataType': 'Survey (FNDDS)',\n     'foodCode': '14106200',\n     'publishedDate': '2019-04-01',\n     'allHighlightFields': '<b>Includes</b>: Monterey Jack <em>cheese</em>; Pepper Jack <em>cheese</em>',\n     'score': 199.40622},\n    {'fdcId': 336785,\n     'description': 'Cheese with nuts',\n     'additionalDescriptions': 'cheese balls',\n     'dataType': 'Survey (FNDDS)',\n     'foodCode': '14610520',\n     'publishedDate': '2019-04-01',\n     'allHighlightFields': '<b>Includes</b>: <em>cheese</em> balls',\n     'score': 199.22668},\n    {'fdcId': 337475,\n     'description': 'Head cheese',\n     'additionalDescriptions': \"jellied pork; hog's head cheese; pork head cheese\",\n     'dataType': 'Survey (FNDDS)',\n     'foodCode': '25220910',\n     'publishedDate': '2019-04-01',\n     'allHighlightFields': \"<b>Includes</b>: jellied pork; hog's head <em>cheese</em>; pork head <em>cheese</em>\",\n     'score': 198.29578},\n    {'fdcId': 339528,\n     'description': 'Bread, cheese',\n     'additionalDescriptions': 'onion cheese; pre-sliced or not',\n     'dataType': 'Survey (FNDDS)',\n     'foodCode': '51111010',\n     'publishedDate': '2019-04-01',\n     'allHighlightFields': '<b>Includes</b>: onion <em>cheese</em>; pre-sliced or not',\n     'score': 197.2144},\n    {'fdcId': 340196,\n     'description': 'Cracker, cheese',\n     'additionalDescriptions': 'cheese sticks; Cheeblers; Cheez-its; Cheese Ritz; Better Cheddar; Cheddar Jrs; Nabisco Twigs; Nabisco Cheddar Wedges; Pepperidge Farm Cheddar or Parmesan Cheese Goldfish; Cheese Ritz Bits; Cheese Nips; 100 Calorie Right Bites Sunshine Cheez-It',\n     'dataType': 'Survey (FNDDS)',\n     'foodCode': '54304000',\n     'publishedDate': '2019-04-01',\n     'allHighlightFields': '<b>Includes</b>: <em>cheese</em> sticks; Cheeblers; Cheez-its; <em>Cheese</em> Ritz; Better Cheddar; Cheddar Jrs; Nabisco Twigs',\n     'score': 196.59416},\n    {'fdcId': 336781,\n     'description': 'Imitation cheese',\n     'additionalDescriptions': 'American; cheddar; mozzarella; imitation cheese, NFS',\n     'dataType': 'Survey (FNDDS)',\n     'foodCode': '14502000',\n     'publishedDate': '2019-04-01',\n     'allHighlightFields': '<b>Includes</b>: American; cheddar; mozzarella; imitation <em>cheese</em>, NFS',\n     'score': 195.87584}]}],\n 2: [{'foodSearchCriteria': {'generalSearchInput': 'celery',\n    'pageNumber': 1,\n    'requireAllWords': False},\n   'totalHits': 10513,\n   'currentPage': 1,\n   'totalPages': 211,\n   'foods': [{'fdcId': 447185,\n     'description': 'CELERY',\n     'dataType': 'Branded',\n     'gtinUpc': '000651511016',\n     'publishedDate': '2019-04-01',\n     'brandOwner': 'OCEAN MIST FARMS',\n     'ingredients': '',\n     'allHighlightFields': '',\n     'score': 876.1582},\n    {'fdcId': 528058,\n     'description': 'CELERY',\n     'dataType': 'Branded',\n     'gtinUpc': '688267033513',\n     'publishedDate': '2019-04-01',\n     'brandOwner': 'Ahold Usa, Inc.',\n     'ingredients': 'CELERY.',\n     'allHighlightFields': '<b>Ingredients</b>: <em>CELERY</em>.',\n     'score': 876.1582},\n    {'fdcId': 451477,\n     'description': 'CELERY',\n     'dataType': 'Branded',\n     'gtinUpc': '725677220055',\n     'publishedDate': '2019-04-01',\n     'brandOwner': 'SCHNUCKS',\n     'ingredients': 'SALT, CELERY SEED.',\n     'allHighlightFields': '<b>Ingredients</b>: SALT, <em>CELERY</em> SEED.',\n     'score': 876.1582},\n    {'fdcId': 539577,\n     'description': 'CELERY',\n     'dataType': 'Branded',\n     'gtinUpc': '000651511009',\n     'publishedDate': '2019-04-01',\n     'brandOwner': 'OCEAN MIST FARMS',\n     'ingredients': '',\n     'allHighlightFields': '',\n     'score': 876.1582},\n    {'fdcId': 342606,\n     'description': 'Celery, raw',\n     'additionalDescriptions': 'celery, NFS',\n     'dataType': 'Survey (FNDDS)',\n     'foodCode': '75109000',\n     'publishedDate': '2019-04-01',\n     'allHighlightFields': '<b>Includes</b>: <em>celery</em>, NFS',\n     'score': 477.73334},\n    {'fdcId': 342643,\n     'description': 'Celery juice',\n     'dataType': 'Survey (FNDDS)',\n     'foodCode': '75132100',\n     'publishedDate': '2019-04-01',\n     'allHighlightFields': '',\n     'score': 462.1342},\n    {'fdcId': 343568,\n     'description': 'Celery, creamed',\n     'dataType': 'Survey (FNDDS)',\n     'foodCode': '75410010',\n     'publishedDate': '2019-04-01',\n     'allHighlightFields': '',\n     'score': 462.1342},\n    {'fdcId': 343647,\n     'description': 'Celery, pickled',\n     'dataType': 'Survey (FNDDS)',\n     'foodCode': '75500510',\n     'publishedDate': '2019-04-01',\n     'allHighlightFields': '',\n     'score': 462.1342},\n    {'fdcId': 169988,\n     'description': 'Celery, raw',\n     'scientificName': 'Apium graveolens',\n     'dataType': 'SR Legacy',\n     'ndbNumber': '11143',\n     'publishedDate': '2019-04-01',\n     'allHighlightFields': '',\n     'score': 462.1342},\n    {'fdcId': 342657,\n     'description': 'Celery, stuffed with cheese',\n     'dataType': 'Survey (FNDDS)',\n     'foodCode': '75141500',\n     'publishedDate': '2019-04-01',\n     'allHighlightFields': '',\n     'score': 414.7328},\n    {'fdcId': 170920,\n     'description': 'Spices, celery seed',\n     'scientificName': 'Apium graveolens',\n     'dataType': 'SR Legacy',\n     'ndbNumber': '2007',\n     'publishedDate': '2019-04-01',\n     'allHighlightFields': '',\n     'score': 414.7328},\n    {'fdcId': 342965,\n     'description': 'Celery, cooked, made with butter',\n     'additionalDescriptions': 'made with animal fat or meat drippings',\n     'dataType': 'Survey (FNDDS)',\n     'foodCode': '75215040',\n     'publishedDate': '2019-04-01',\n     'allHighlightFields': '',\n     'score': 376.16815},\n    {'fdcId': 342966,\n     'description': 'Celery, cooked, made with margarine',\n     'additionalDescriptions': 'made with shortening',\n     'dataType': 'Survey (FNDDS)',\n     'foodCode': '75215050',\n     'publishedDate': '2019-04-01',\n     'allHighlightFields': '',\n     'score': 376.16815},\n    {'fdcId': 342964,\n     'description': 'Celery, cooked, made with oil',\n     'dataType': 'Survey (FNDDS)',\n     'foodCode': '75215030',\n     'publishedDate': '2019-04-01',\n     'allHighlightFields': '',\n     'score': 376.16815},\n    {'fdcId': 169342,\n     'description': 'Celery, cooked, boiled, drained, with salt',\n     'dataType': 'SR Legacy',\n     'ndbNumber': '11764',\n     'publishedDate': '2019-04-01',\n     'allHighlightFields': '',\n     'score': 344.1798},\n    {'fdcId': 342962,\n     'description': 'Celery, cooked, fat not added in cooking',\n     'additionalDescriptions': 'made with cooking spray',\n     'dataType': 'Survey (FNDDS)',\n     'foodCode': '75215010',\n     'publishedDate': '2019-04-01',\n     'allHighlightFields': '',\n     'score': 344.1798},\n    {'fdcId': 171540,\n     'description': 'Soup, cream of celery, canned, condensed',\n     'dataType': 'SR Legacy',\n     'ndbNumber': '6010',\n     'publishedDate': '2019-04-01',\n     'allHighlightFields': '',\n     'score': 344.1798},\n    {'fdcId': 169989,\n     'description': 'Celery, cooked, boiled, drained, without salt',\n     'dataType': 'SR Legacy',\n     'ndbNumber': '11144',\n     'publishedDate': '2019-04-01',\n     'allHighlightFields': '',\n     'score': 317.21786},\n    {'fdcId': 342961,\n     'description': 'Celery, cooked, NS as to fat added in cooking',\n     'dataType': 'Survey (FNDDS)',\n     'foodCode': '75215000',\n     'publishedDate': '2019-04-01',\n     'allHighlightFields': '',\n     'score': 317.21786},\n    {'fdcId': 342566,\n     'description': 'Tomato and celery, cooked, fat added in cooking',\n     'additionalDescriptions': 'made with any type of fat',\n     'dataType': 'Survey (FNDDS)',\n     'foodCode': '74504149',\n     'publishedDate': '2019-04-01',\n     'allHighlightFields': '',\n     'score': 317.21786},\n    {'fdcId': 342567,\n     'description': 'Tomato and celery, cooked, fat not added in cooking',\n     'additionalDescriptions': 'made with cooking spray',\n     'dataType': 'Survey (FNDDS)',\n     'foodCode': '74504150',\n     'publishedDate': '2019-04-01',\n     'allHighlightFields': '',\n     'score': 317.21786},\n    {'fdcId': 342565,\n     'description': 'Tomato and celery, cooked, NS as to fat added in cooking',\n     'dataType': 'Survey (FNDDS)',\n     'foodCode': '74504148',\n     'publishedDate': '2019-04-01',\n     'allHighlightFields': '',\n     'score': 294.18384},\n    {'fdcId': 342963,\n     'description': 'Celery, cooked, fat added in cooking, NS as to type of fat',\n     'dataType': 'Survey (FNDDS)',\n     'foodCode': '75215020',\n     'publishedDate': '2019-04-01',\n     'allHighlightFields': '',\n     'score': 274.27768},\n    {'fdcId': 172893,\n     'description': 'Soup, cream of celery, canned, prepared with equal volume milk',\n     'dataType': 'SR Legacy',\n     'ndbNumber': '6210',\n     'publishedDate': '2019-04-01',\n     'allHighlightFields': '',\n     'score': 274.27768},\n    {'fdcId': 172907,\n     'description': 'Soup, cream of celery, canned, prepared with equal volume water',\n     'dataType': 'SR Legacy',\n     'ndbNumber': '6410',\n     'publishedDate': '2019-04-01',\n     'allHighlightFields': '',\n     'score': 274.27768},\n    {'fdcId': 170462,\n     'description': 'Tomato products, canned, sauce, with onions, green peppers, and celery',\n     'dataType': 'SR Legacy',\n     'ndbNumber': '11557',\n     'publishedDate': '2019-04-01',\n     'allHighlightFields': '',\n     'score': 274.27768},\n    {'fdcId': 343694,\n     'description': 'Celery soup, cream of, prepared with milk, home recipe, canned or ready-to-serve',\n     'additionalDescriptions': 'NS as to made with milk or water',\n     'dataType': 'Survey (FNDDS)',\n     'foodCode': '75603010',\n     'publishedDate': '2019-04-01',\n     'allHighlightFields': '',\n     'score': 241.60513},\n    {'fdcId': 343695,\n     'description': 'Celery soup, cream of, prepared with water, home recipe, canned or ready-to-serve',\n     'dataType': 'Survey (FNDDS)',\n     'foodCode': '75603020',\n     'publishedDate': '2019-04-01',\n     'allHighlightFields': '',\n     'score': 241.60513},\n    {'fdcId': 338932,\n     'description': 'Chicken or turkey soup with vegetables (broccoli, carrots, celery, potatoes and onions), Asian style',\n     'additionalDescriptions': 'Chinese Chicken Soup',\n     'dataType': 'Survey (FNDDS)',\n     'foodCode': '28340580',\n     'publishedDate': '2019-04-01',\n     'allHighlightFields': '',\n     'score': 228.03333},\n    {'fdcId': 343507,\n     'description': 'Vegetables, stew type (including potatoes, carrots, onions, celery) cooked, made with butter',\n     'additionalDescriptions': 'made with animal fat or meat drippings',\n     'dataType': 'Survey (FNDDS)',\n     'foodCode': '75317012',\n     'publishedDate': '2019-04-01',\n     'allHighlightFields': '',\n     'score': 228.03333},\n    {'fdcId': 343508,\n     'description': 'Vegetables, stew type (including potatoes, carrots, onions, celery) cooked, made with margarine',\n     'additionalDescriptions': 'made with shortening',\n     'dataType': 'Survey (FNDDS)',\n     'foodCode': '75317013',\n     'publishedDate': '2019-04-01',\n     'allHighlightFields': '',\n     'score': 228.03333},\n    {'fdcId': 343506,\n     'description': 'Vegetables, stew type (including potatoes, carrots, onions, celery) cooked, made with oil',\n     'dataType': 'Survey (FNDDS)',\n     'foodCode': '75317011',\n     'publishedDate': '2019-04-01',\n     'allHighlightFields': '',\n     'score': 228.03333},\n    {'fdcId': 343509,\n     'description': 'Vegetables, stew type (including potatoes, carrots, onions, celery) cooked, fat not added in cooking',\n     'additionalDescriptions': 'made with cooking spray',\n     'dataType': 'Survey (FNDDS)',\n     'foodCode': '75317020',\n     'publishedDate': '2019-04-01',\n     'allHighlightFields': '',\n     'score': 215.91086},\n    {'fdcId': 343504,\n     'description': 'Vegetables, stew type (including potatoes, carrots, onions, celery) cooked, NS as to fat added in cooking',\n     'dataType': 'Survey (FNDDS)',\n     'foodCode': '75317000',\n     'publishedDate': '2019-04-01',\n     'allHighlightFields': '',\n     'score': 205.0173},\n    {'fdcId': 343505,\n     'description': 'Vegetables, stew type (including potatoes, carrots, onions, celery) cooked, fat added in cooking, NS as to type of fat',\n     'dataType': 'Survey (FNDDS)',\n     'foodCode': '75317010',\n     'publishedDate': '2019-04-01',\n     'allHighlightFields': '',\n     'score': 186.23836},\n    {'fdcId': 342669,\n     'description': 'Seven-layer salad (lettuce salad made with a combination of onion, celery, green pepper, peas, mayonnaise, cheese, eggs, and/or bacon)',\n     'dataType': 'Survey (FNDDS)',\n     'foodCode': '75145000',\n     'publishedDate': '2019-04-01',\n     'allHighlightFields': '',\n     'score': 178.08824},\n    {'fdcId': 341691,\n     'description': 'Apple salad with dressing',\n     'additionalDescriptions': 'Waldorf salad; fruit and nut salad with apples, celery and walnuts',\n     'dataType': 'Survey (FNDDS)',\n     'foodCode': '63401010',\n     'publishedDate': '2019-04-01',\n     'allHighlightFields': '<b>Includes</b>: Waldorf salad; fruit and nut salad with apples, <em>celery</em> and walnuts',\n     'score': 16.58835},\n    {'fdcId': 342649,\n     'description': 'Cabbage salad or coleslaw, made with Italian dressing',\n     'additionalDescriptions': 'vinegar and oil; vinaigrette; Greek dressing; onion or Vidalia onion dressing; Champagne dressing; celery seed dressing; red wine, balsamic, or raspberry vinegar dressing',\n     'dataType': 'Survey (FNDDS)',\n     'foodCode': '75141020',\n     'publishedDate': '2019-04-01',\n     'allHighlightFields': '<b>Includes</b>: ; <em>celery</em> seed dressing; red wine, balsamic, or raspberry vinegar dressing',\n     'score': 10.347834},\n    {'fdcId': 338477,\n     'description': 'Chicken or turkey salad, made with Italian dressing',\n     'additionalDescriptions': 'vinegar and oil; vinaigrette; Greek dressing; onion or Vidalia onion dressing; Champagne dressing; celery seed dressing; red wine, balsamic, or raspberry vinegar dressing',\n     'dataType': 'Survey (FNDDS)',\n     'foodCode': '27446250',\n     'publishedDate': '2019-04-01',\n     'allHighlightFields': '<b>Includes</b>: ; <em>celery</em> seed dressing; red wine, balsamic, or raspberry vinegar dressing',\n     'score': 10.347834},\n    {'fdcId': 339035,\n     'description': 'Egg salad, made with Italian dressing',\n     'additionalDescriptions': 'vinegar and oil; vinaigrette; Greek dressing; onion or Vidalia onion dressing; Champagne dressing; celery seed dressing; red wine, balsamic, or raspberry vinegar dressing',\n     'dataType': 'Survey (FNDDS)',\n     'foodCode': '32103040',\n     'publishedDate': '2019-04-01',\n     'allHighlightFields': '<b>Includes</b>: ; <em>celery</em> seed dressing; red wine, balsamic, or raspberry vinegar dressing',\n     'score': 10.347834},\n    {'fdcId': 341983,\n     'description': 'Potato salad, made with Italian dressing',\n     'additionalDescriptions': 'onion or Vidalia onion dressing; Champagne dressing; celery seed dressing; red wine, balsamic, or raspberry vinegar dressing; vinegar and oil; vinaigrette; Greek dressing',\n     'dataType': 'Survey (FNDDS)',\n     'foodCode': '71603040',\n     'publishedDate': '2019-04-01',\n     'allHighlightFields': '<b>Includes</b>: onion or Vidalia onion dressing; Champagne dressing; <em>celery</em> seed dressing; red wine, balsamic',\n     'score': 10.347834},\n    {'fdcId': 338504,\n     'description': 'Tuna salad, made with Italian dressing',\n     'additionalDescriptions': 'celery seed dressing; red wine, balsamic, or raspberry vinegar dressing; vinegar and oil; vinaigrette; Greek dressing; onion or Vidalia onion dressing; Champagne dressing',\n     'dataType': 'Survey (FNDDS)',\n     'foodCode': '27450066',\n     'publishedDate': '2019-04-01',\n     'allHighlightFields': '<b>Includes</b>: <em>celery</em> seed dressing; red wine, balsamic, or raspberry vinegar dressing; vinegar and oil',\n     'score': 10.347834},\n    {'fdcId': 342660,\n     'description': 'Cucumber salad, made with Italian dressing',\n     'additionalDescriptions': 'with onions; with vinegar and oil; with vinaigrette; with Greek dressing; with onion or Vidalia onion dressing; with Champagne dressing; with celery seed dressing; with red wine, balsamic, or raspberry vinegar dressing',\n     'dataType': 'Survey (FNDDS)',\n     'foodCode': '75142550',\n     'publishedDate': '2019-04-01',\n     'allHighlightFields': '<b>Includes</b>:  onion dressing; with Champagne dressing; with <em>celery</em> seed dressing; with red wine, balsamic, or raspberry vinegar dressing',\n     'score': 10.046047},\n    {'fdcId': 341972,\n     'description': 'Potato salad with egg, made with Italian dressing',\n     'additionalDescriptions': 'vinegar and oil; vinaigrette; Greek dressing; Champagne dressing; celery seed dressing; onion or Vidalia onion dressing; red wine, balsamic, or raspberry vinegar dressing; French dressing',\n     'dataType': 'Survey (FNDDS)',\n     'foodCode': '71601040',\n     'publishedDate': '2019-04-01',\n     'allHighlightFields': '<b>Includes</b>: vinegar and oil; vinaigrette; Greek dressing; Champagne dressing; <em>celery</em> seed dressing; onion',\n     'score': 9.763138},\n    {'fdcId': 341144,\n     'description': 'Macaroni or pasta salad, made with Italian dressing',\n     'additionalDescriptions': 'Greek dressing; onion or Vidalia onion dressing; Champagne dressing; celery seed dressing; red wine, balsamic, or raspberry vinegar dressing; French dressing; made with assorted vegetables; vinegar and oil; vinaigrette',\n     'dataType': 'Survey (FNDDS)',\n     'foodCode': '58148114',\n     'publishedDate': '2019-04-01',\n     'allHighlightFields': '<b>Includes</b>: Greek dressing; onion or Vidalia onion dressing; Champagne dressing; <em>celery</em> seed dressing; red wine',\n     'score': 9.011477},\n    {'fdcId': 343924,\n     'description': 'Italian dressing, fat free',\n     'additionalDescriptions': 'nonfat; Nutri-System; vinaigrette dressing; greek dressing; onion or Vidalia onion dressing; Champagne dressing; celery seed dressing; vinegar, sugar and water dressing; red wine, balsamic, or raspberry vinegar dressing',\n     'dataType': 'Survey (FNDDS)',\n     'foodCode': '83300600',\n     'publishedDate': '2019-04-01',\n     'allHighlightFields': '<b>Includes</b>: ; Champagne dressing; <em>celery</em> seed dressing; vinegar, sugar and water dressing; red wine, balsamic, or raspberry vinegar dressing',\n     'score': 8.788782},\n    {'fdcId': 343893,\n     'description': 'Italian dressing, made with vinegar and oil',\n     'additionalDescriptions': 'red wine, balsamic, or raspberry vinegar dressing; vinaigrette dressing; vinegar and oil; Italian dressing, NFS; Greek dressing; Feta cheese dressing; Champagne dressing; celery seed dressing; onion or Vidalia onion dressing',\n     'dataType': 'Survey (FNDDS)',\n     'foodCode': '83106000',\n     'publishedDate': '2019-04-01',\n     'allHighlightFields': '<b>Includes</b>:  dressing, NFS; Greek dressing; Feta cheese dressing; Champagne dressing; <em>celery</em> seed dressing; onion or Vidalia onion dressing',\n     'score': 8.578133},\n    {'fdcId': 342650,\n     'description': 'Cabbage salad or coleslaw, made with light Italian dressing',\n     'additionalDescriptions': \"diet, low calorie, low fat, reduced calorie, or reduced fat dressing; Newman's Own Light; light vinaigrette; light Greek dressing; light onion or Vidalia onion dressing; light Champagne dressing; light celery seed dressing\",\n     'dataType': 'Survey (FNDDS)',\n     'foodCode': '75141025',\n     'publishedDate': '2019-04-01',\n     'allHighlightFields': '<b>Includes</b>:  vinaigrette; light Greek dressing; light onion or Vidalia onion dressing; light Champagne dressing; light <em>celery</em> seed dressing',\n     'score': 8.009419},\n    {'fdcId': 338478,\n     'description': 'Chicken or turkey salad, made with light Italian dressing',\n     'additionalDescriptions': \"diet, low calorie, low fat, reduced calorie, or reduced fat dressing; Newman's Own Light; light vinaigrette; light Greek dressing; light onion or Vidalia onion dressing; light Champagne dressing; light celery seed dressing\",\n     'dataType': 'Survey (FNDDS)',\n     'foodCode': '27446255',\n     'publishedDate': '2019-04-01',\n     'allHighlightFields': '<b>Includes</b>:  vinaigrette; light Greek dressing; light onion or Vidalia onion dressing; light Champagne dressing; light <em>celery</em> seed dressing',\n     'score': 8.009419},\n    {'fdcId': 339036,\n     'description': 'Egg salad, made with light Italian dressing',\n     'additionalDescriptions': \"diet, low calorie, low fat, reduced calorie, or reduced fat dressing; Newman's Own Light; light vinaigrette; light Greek dressing; light onion or Vidalia onion dressing; light Champagne dressing; light celery seed dressing\",\n     'dataType': 'Survey (FNDDS)',\n     'foodCode': '32103045',\n     'publishedDate': '2019-04-01',\n     'allHighlightFields': '<b>Includes</b>:  vinaigrette; light Greek dressing; light onion or Vidalia onion dressing; light Champagne dressing; light <em>celery</em> seed dressing',\n     'score': 8.009419}]}],\n 3: [{'foodSearchCriteria': {'generalSearchInput': 'pimentos',\n    'pageNumber': 1,\n    'requireAllWords': False},\n   'totalHits': 350,\n   'currentPage': 1,\n   'totalPages': 7,\n   'foods': [{'fdcId': 168559,\n     'description': 'Pimento, canned',\n     'dataType': 'SR Legacy',\n     'ndbNumber': '11943',\n     'publishedDate': '2019-04-01',\n     'allHighlightFields': '',\n     'score': 515.7855},\n    {'fdcId': 170854,\n     'description': 'Cheese, pasteurized process, pimento',\n     'dataType': 'SR Legacy',\n     'ndbNumber': '1043',\n     'publishedDate': '2019-04-01',\n     'allHighlightFields': '',\n     'score': 419.81766},\n    {'fdcId': 675604,\n     'description': 'PIMENTO CHEESE SPREAD, PIMENTO',\n     'dataType': 'Branded',\n     'gtinUpc': '036800342835',\n     'publishedDate': '2019-12-06',\n     'brandOwner': 'Topco Associates, Inc.',\n     'ingredients': 'CHEDDAR CHEESE (PASTEURIZED CULTURED MILK, SALT, ENZYMES), PIMIENTOS, WATER, SOYBEAN OIL, HIGH FRUCTOSE CORN SYRUP, CREAM, MILK PROTEIN CONCENTRATE, WHEY, SKIM MILK, DISTILLED VINEGAR, MODIFIED FOOD STARCH, EGG YOLK, SODIUM CITRATE, POTASSIUM SORBATE AND SODIUM BENZOATE (PRESERVATIVES), SODIUM PHOSPHATE, SALT, GUMS (GUAR, XANTHAN, LOCUST BEAN), COLOR ADDED, MUSTARD FLOUR, PAPRIKA.',\n     'allHighlightFields': '',\n     'score': -194.77228},\n    {'fdcId': 681726,\n     'description': 'PIMENTO CHEESE SPREAD, PIMENTO',\n     'dataType': 'Branded',\n     'gtinUpc': '036800012677',\n     'publishedDate': '2019-12-06',\n     'brandOwner': 'Topco Associates, Inc.',\n     'ingredients': 'CHEDDAR CHEESE (PASTEURIZED CULTURED MILK, SALT, ENZYMES), PIMENTOS, WATER, SOYBEAN OIL, HIGH FRUCTOSE CORN SYRUP, CREAM, MILK PROTEIN CONCENTRATE, WHEY, SKIM MILK, DISTILLED VINEGAR, MODIFIED FOOD STARCH, EGG YOLK, SODIUM CITRATE, POTASSIUM SORBATE AND SODIUM BENZOATE (PRESERVATIVES), SODIUM PHOSPHATE, SALT, GUMS (GUAR, XANTHAN, LOCUST BEAN), COLOR ADDED, MUSTARD FLOUR, PAPRIKA.',\n     'allHighlightFields': '<b>Ingredients</b>: CHEDDAR CHEESE (PASTEURIZED CULTURED MILK, SALT, ENZYMES), <em>PIMENTOS</em>, WATER, SOYBEAN OIL, HIGH',\n     'score': -194.77228},\n    {'fdcId': 691196,\n     'description': 'PIMENTO CHEESE SPREAD, PIMENTO',\n     'dataType': 'Branded',\n     'gtinUpc': '036800012660',\n     'publishedDate': '2019-12-06',\n     'brandOwner': 'Topco Associates, Inc.',\n     'ingredients': 'CHEDDAR CHEESE (PASTEURIZED CULTURED MILK, SALT, ENZYMES), PIMIENTOS, WATER, SOYBEAN OIL, HIGH FRUCTOSE CORN SYRUP, CREAM, MILK PROTEIN CONCENTRATE, WHEY, SKIM MILK, DISTILLED VINEGAR, MODIFIED FOOD STARCH, EGG YOLK, SODIUM CITRATE, POTASSIUM SORBATE AND SODIUM BENZOATE (PRESERVATIVES), SODIUM PHOSPHATE, SALT, GUMS (GUAR, XANTHAN, LOCUST BEAN), COLOR ADDED, MUSTARD FLOUR, PAPRIKA.',\n     'allHighlightFields': '',\n     'score': -194.77228},\n    {'fdcId': 641796,\n     'description': 'PIMENTO CHEESE SPREAD, PIMENTO',\n     'dataType': 'Branded',\n     'gtinUpc': '036800404663',\n     'publishedDate': '2019-12-06',\n     'brandOwner': 'Topco Associates, Inc.',\n     'ingredients': 'CHEDDAR CHEESE (PASTEURIZED CULTURED MILK, SALT, ENZYMES), PIMIENTOS, WATER, SOYBEAN OIL, HIGH FRUCTOSE CORN SYRUP, CREAM, MILK PROTEIN CONCENTRATE, WHEY, SKIM MILK, DISTILLED VINEGAR, MODIFIED FOOD STARCH, EGG YOLK, SODIUM CITRATE, POTASSIUM SORBATE AND SODIUM BENZOATE (PRESERVATIVES), SODIUM PHOSPHATE, SALT, GUMS (GUAR, XANTHAN, LOCUST BEAN), COLOR ADDED, MUSTARD FLOUR, PAPRIKA.',\n     'allHighlightFields': '',\n     'score': -194.77228},\n    {'fdcId': 739732,\n     'description': 'PIMENTO JUMBO STUFFED OLIVES, PIMENTO',\n     'dataType': 'Branded',\n     'gtinUpc': '015418011364',\n     'publishedDate': '2019-12-06',\n     'brandOwner': \"Rouse's Enterprises, Inc.\",\n     'ingredients': 'GREEN OLIVES, WATER, MINCED PIMENTO (PIMENTO, SODIUM ALGINATE, GUAR GUM, CALCIUM CHLORIDE, POTASSIUM SORBATE (PRESERVATIVE)), SALT, LACTIC ACID, SODIUM BENZOATE (PRESERVATIVE).',\n     'allHighlightFields': '<b>Ingredients</b>: GREEN OLIVES, WATER, MINCED <em>PIMENTO</em> (<em>PIMENTO</em>, SODIUM ALGINATE, GUAR GUM, CALCIUM CHLORIDE',\n     'score': -227.97041},\n    {'fdcId': 725784,\n     'description': 'PIMENTO CHEESE CURLS, PIMENTO CHEESE',\n     'dataType': 'Branded',\n     'gtinUpc': '072600081536',\n     'publishedDate': '2019-12-06',\n     'brandOwner': 'Herr Foods Inc.',\n     'ingredients': 'CORN MEAL, VEGETABLE OIL (CONTAINS ONE OR MORE OF THE FOLLOWING: CORN, COTTONSEED, PALM, SUNFLOWER), CHEESE BLEND (MALTODEXTRIN, WHEY, SUNFLOWER OIL, CHEDDAR CHEESE [PASTEURIZED MILK, CHEESE CULTURE, SALT, ENZYMES], SALT, MONOSODIUM GLUTAMATE, SODIUM PHOSPHATE, BUTTER [CREAM, SALT], NATURAL FLAVOR, CITRIC ACID, LACTIC ACID, YELLOW 5, YELLOW 6, ENZYMES), SEASONING (MALTODEXTRIN, CHEDDAR CHEESE [(CULTURED MILK, SALT, ENZYMES), WHEY, BUTTERMILK, SALT, NATURAL FLAVOR, DISODIUM PHOSPHATE, LACTIC ACID], WHEY, SPICES, ONION POWDER, NATURAL FLAVORS, GARLIC POWDER, SALT, YEAST EXTRACT, DEHYDRATED RED BELL PEPPER, SODIUM DIACETATE, JALAPENO PEPPER POWDER, MALIC ACID, EXTRACTIVES OF PAPRIKA [COLOR]), SALT.',\n     'allHighlightFields': '',\n     'score': -228.19913},\n    {'fdcId': 735428,\n     'description': 'PIMENTO CHEESE SPREAD, PIMENTO CHEESE',\n     'dataType': 'Branded',\n     'gtinUpc': '041497056910',\n     'publishedDate': '2019-12-06',\n     'brandOwner': 'WEIS 2 GO',\n     'ingredients': \"MAYONNAISE [SOYBEAN OIL, WHOLE EGGS, EGG YOLKS, DISTILLED VINEGAR, WATER, SALT, SUGAR, DEXTROSE, MUSTARD FLOUR, LEMON JUICE (FROM CONCENTRATE), NATURAL FLAVOR, ONION POWDER, GARLIC POWDER, CALCIUM DISODIUM EDTA (TO PROTECT FLAVOR)], SHREDDED CHEDDAR CHEESE [(PASTEURIZED MILK, CHEESE CULTURE, SALT, ENZYMES, COLOR ADDED), POTATO STARCH AND POWDERED CELLULOSE (TO PREVENT CAKING), NATAMYCIN (NATURAL MOLD INHIBITOR)], SHREDDED MOZZARELLA CHEESE (PASTEURIZED MILK, VINEGAR, ENZYMES, SALT), CREAM CHEESE (PASTEURIZED MILK AND CREAM, CHEESE CULTURE, SALT, GUAR GUM, CAROB BEAN GUM, XANTHAN GUM), PIMENTO PEPPERS (PIMENTOS, WATER, CITRIC ACID), SHREDDED PARMESAN CHEESE [(PASTEURIZED PART-SKIM COW'S MILK, CHEESE CULTURES, SALT, ENZYMES, POWDERED CELLULOSE (ADDED TO PREVENT CAKING), NATAMYCIN (A NATURAL MOLD INHIBITOR)], CONTAINS LESS THAN 2% OF CITRIC ACID, MODIFIED FOOD STARCH, GARLIC POWDER, ONION POWDER, PAPRIKA, POTASSIUM SORBATE AND SODIUM BENZOATE (PRESERVATIVES), SEASONING [CELERY SALT (SALT, CELERY SEED), SPICES INCLUDING MUSTARD, RED PEPPER, BLACK PEPPER, BAY (LAUREL) LEAVES, CLOVES, ALLSPICE, GINGER, MACE, CARDAMOM, CINNAMON), PAPRIKA, SPICE EXTRACTIVES INCLUDING PAPRIKA, LESS THAN 2% TRICALCIUM PHOSPHATE ADDED TO PREVENT CAKING], SPICES.\",\n     'allHighlightFields': '<b>Ingredients</b>:  CHEESE (PASTEURIZED MILK AND CREAM, CHEESE CULTURE, SALT, GUAR GUM, CAROB BEAN GUM, XANTHAN GUM), <em>PIMENTO</em>',\n     'score': -228.19913},\n    {'fdcId': 388129,\n     'description': 'PIMENTO OLIVES',\n     'dataType': 'Branded',\n     'gtinUpc': '069702900148',\n     'publishedDate': '2019-04-01',\n     'brandOwner': 'Sable & Rosenfeld Foods Ltd.',\n     'ingredients': 'OLIVES, WATER, MINCED PIMENTO (PIMENTO, SODIUM ALGINATE, GUAR GUM, CALCIUM CHLORIDE, POTASSIUM SORBATE (PRESERVATIVE)), SALT, LACTIC ACID, SODIUM BENZOATE (PRESERVATIVE), VERMOUTH.',\n     'allHighlightFields': '<b>Ingredients</b>: OLIVES, WATER, MINCED <em>PIMENTO</em> (<em>PIMENTO</em>, SODIUM ALGINATE, GUAR GUM, CALCIUM CHLORIDE, POTASSIUM',\n     'score': -244.47157},\n    {'fdcId': 482810,\n     'description': 'DICED PIMENTOS',\n     'dataType': 'Branded',\n     'gtinUpc': '717544125891',\n     'publishedDate': '2019-04-01',\n     'brandOwner': 'Super Store Industries',\n     'ingredients': 'PIMENTOS, WATER, SALT, CITRIC ACID AND CALCIUM CHLORIDE.',\n     'allHighlightFields': '<b>Ingredients</b>: <em>PIMENTOS</em>, WATER, SALT, CITRIC ACID AND CALCIUM CHLORIDE.',\n     'score': -244.90033},\n    {'fdcId': 359459,\n     'description': 'ADOBO WITH PIMENTO',\n     'dataType': 'Branded',\n     'gtinUpc': '076114801000',\n     'publishedDate': '2019-04-01',\n     'brandOwner': 'Gel Spice Company Inc',\n     'ingredients': 'SALT, GARLIC POWDER, MONOSODIUM GLUTAMATE, PEPPER, OREGANO, TURMERIC (COLOR), CELERY SEED, PAPRIKA (COLOR) CORIANDER SEED, AND TRICALCIUM PHOSPHATE. ',\n     'allHighlightFields': '',\n     'score': -245.0303},\n    {'fdcId': 493873,\n     'description': 'DICED PIMENTOS',\n     'dataType': 'Branded',\n     'gtinUpc': '051933343962',\n     'publishedDate': '2019-04-01',\n     'brandOwner': 'The Moran Group Incorporated',\n     'ingredients': 'PIMIENTOS, WATER, SALT, CITRIC ACID AND CALCIUM CHLORIDE.',\n     'allHighlightFields': '',\n     'score': -245.0303},\n    {'fdcId': 445135,\n     'description': 'PIMENTO CHEESE',\n     'dataType': 'Branded',\n     'gtinUpc': '088888700014',\n     'publishedDate': '2019-04-01',\n     'brandOwner': 'PARADE',\n     'ingredients': 'CHEESE (CHEDDAR CHEESE (PASTEURIZED NONFAT MILK AND MILKFAT, CHEESE CULTURE, SALT, ENZYMES) NATAMYCIN (A NATURAL MOLD INHIBITOR)), MAYONNAISE (WATER, SOYBEAN OIL, MODIFIED STARCH (CORN, POTATO) EGGS, SUGAR, SALT, VINEGAR, LEMON JUICE, SORBIC ACID & CALCIUM DISODIUM EDTA (USED TO PROTECT QUALITY) NATURAL FLAVOR, VITAMIN E), PEPPERS (RED PEPPERS, WATER, SALT, CITRIC ACID & CALCIUM CHLORIDE), MUSTARD (VINEGAR, MUSTARD SEED, WATER, WHITE WINE (5%), SALT, SUGAR, DEXTROSE, NATURAL FLAVORS, LACTIC ACID), ONION, BLACK PEPPER, CAYENNE PEPPER.',\n     'allHighlightFields': '',\n     'score': -245.0303},\n    {'fdcId': 518934,\n     'description': 'PIMENTO CHEESE',\n     'dataType': 'Branded',\n     'gtinUpc': '820581628109',\n     'publishedDate': '2019-04-01',\n     'brandOwner': 'THE CHEESE FEST',\n     'ingredients': \"CHEDDAR CHEESE (PASTEURIZED COW'S MILK, CHEESE CULTURES, SALT, MICROBIAL RENNET, ANNATTO), ROASTED RED PEPPERS (RED PEPPERS, WATER, RED WINE VINEGAR, SEA SALT, GRAPE MUST), MAYONNAISE (SOYBEAN OIL, EGG YOLKS, WATER, DISTILLED VINEGAR, CANE SUGAR, SALT, MUSTARD FLOUR), UHT PASTEURIZED QIMIQ CLASSIC ORIGINAL (SKIM COW'S MILK, CREAM, BEEF GELATIN), PIMENTOS (PIMENTOS, WATER, CITRIC ACID), HOT SAUCE (AGED RED CAYENNE PEPPERS, DISTILLED WHITE VINEGAR, SALT), DEXTROSE, DRIED VINEGAR, KOSHER SALT, LACTIC ACID, NON-FAT DRIED COW'S MILK, BLACK PEPPER.\",\n     'allHighlightFields': \"<b>Ingredients</b>:  ORIGINAL (SKIM COW'S MILK, CREAM, BEEF GELATIN), <em>PIMENTOS</em> (<em>PIMENTOS</em>, WATER, CITRIC ACID), HOT SAUCE\",\n     'score': -245.0303},\n    {'fdcId': 575655,\n     'description': 'PIMENTO CHEESE',\n     'dataType': 'Branded',\n     'gtinUpc': '820581628116',\n     'publishedDate': '2019-04-01',\n     'brandOwner': 'HOME GROWN',\n     'ingredients': \"CHEDDAR CHEESE (PASTEURIZED COW'S MILK, CHEESE CULTURES, SALT, MICROBIAL RENNET, ANNATTO), ROASTED RED PEPPERS (RED PEPPERS, WATER, RED WINE VINEGAR, SEA SALT, GRAPE MUST), MAYONNAISE (SOYBEAN OIL, EGG YOLKS, WATER, DISTILLED VINEGAR, CANE SUGAR, SALT, MUSTARD FLOUR), UHT PASTEURIZED QIMIQ CLASSIC ORIGINAL (SKIM COW'S MILK, CREAM, BEEF GELATIN), PIMENTOS (PIMENTOS, WATER, CITRIC ACID), NON-FAT DRIED COW'S MILK, DEXTROSE, HOT SAUCE (AGED RED CAYENNE PEPPERS, DISTILLED WHITE VINEGAR, SALT), JALAPENOS, LACTIC ACID, DRIED VINEGAR, KOSHER SALT, BLACK PEPPER.\",\n     'allHighlightFields': \"<b>Ingredients</b>:  ORIGINAL (SKIM COW'S MILK, CREAM, BEEF GELATIN), <em>PIMENTOS</em> (<em>PIMENTOS</em>, WATER, CITRIC ACID), NON-FAT\",\n     'score': -245.0303},\n    {'fdcId': 554216,\n     'description': 'PIMENTO CHEESE',\n     'dataType': 'Branded',\n     'gtinUpc': '850418006572',\n     'publishedDate': '2019-04-01',\n     'brandOwner': 'SPOON & LADLE',\n     'ingredients': \"SHARP WHITE CHEDDAR CHEESE, PIMENTO, GREEN CHILES, MAYONNAISE, LESS THAN 2% OF: CAVENDER'S GREEK SEASONING\",\n     'allHighlightFields': \"<b>Ingredients</b>: SHARP WHITE CHEDDAR CHEESE, <em>PIMENTO</em>, GREEN CHILES, MAYONNAISE, LESS THAN 2% OF: CAVENDER'S GREEK SEASONING\",\n     'score': -245.0303},\n    {'fdcId': 474300,\n     'description': 'PIMENTO CHEESE',\n     'dataType': 'Branded',\n     'gtinUpc': '897856002216',\n     'publishedDate': '2019-04-01',\n     'brandOwner': \"Callie's Charleston Biscuits\",\n     'ingredients': 'CHEDDAR CHEESE (PASTEURIZED MILK, CHEESE CULTURE, SALT, ENZYMES AND ANNATTO), MONTEREY JACK CHEESE (PASTEURIZED MILK, CHEESE CULTURE, SALT AND ENZYMES), MAYONNAISE [SOYBEAN AND/OR CANOLA OIL, EGG YOLKS, VINEGAR, WATER, SALT, SUGAR, SPICES AND OLEORESIN PAPRIKA, SPICE EXTRACT (FOR FRESHNESS)], PIMIENTOS (PIMIENTOS, WATER AND CITRIC ACID), SALT, HOT SAUCE (VINEGAR, AGED RED PEPPER AND SALT), WORCESTERSHIRE SAUCE (DISTILLED WHITE VINEGAR, MOLASSES, WATER, SUGAR, ONIONS, ANCHOVIES, SALT, GARLIC, CLOVES, TAMARIND EXTRACT, NATURAL FLAVORINGS, CHILI PEPPER EXTRACT), DRIED VINEGAR, BLACK PEPPER, NONFAT DRIED MILK, AND SPICE EXTRACT.',\n     'allHighlightFields': '',\n     'score': -245.0303},\n    {'fdcId': 446180,\n     'description': 'PIMENTO CHEESE',\n     'dataType': 'Branded',\n     'gtinUpc': '685987323382',\n     'publishedDate': '2019-04-01',\n     'brandOwner': 'Manolo Blahnik Usa, Ltd.',\n     'ingredients': 'CHEESE (CHEDDAR CHEESE (PASTEURIZED NONFAT MILK AND MILKFAT, CHEESE CULTURE, SALT, ENZYMES) NATAMYCIN (A NATURAL MOLD INHIBITOR)), MAYONNAISE (WATER, SOYBEAN OIL, MODIFIED STARCH (CORN, POTATO) EGGS, SUGAR, SALT, VINEGAR, LEMON JUICE, SORBIC ACID & CALCIUM DISODIUM EDTA(USED TO PROTECT QUALITY) NATURAL FLAVOR, VITAMIN E), PEPPERS (RED PEPPERS, WATER, SALT, CITRIC ACID & CALCIUM CHLORIDE), MUSTARD (VINEGAR, MUSTARD SEED, WATER, WHITE WINE (5%), SALT, SUGAR, DEXTROSE,NATURAL FLAVORS, LACTIC ACID), ONION, BLACK PEPPER, CAYENNE PEPPER',\n     'allHighlightFields': '',\n     'score': -245.0303},\n    {'fdcId': 453704,\n     'description': 'PIMENTO CHEESE',\n     'dataType': 'Branded',\n     'gtinUpc': '858691003011',\n     'publishedDate': '2019-04-01',\n     'brandOwner': \"Tom's Tiny Kitchen\",\n     'ingredients': 'SHARP CHEDDAR CHEESE (PASTEURIZED MILK, CHEESE CULTURES, SALT, ENZYMES AND ANNATTO VEGETABLE COLOR), MAYONNAISE (SOYBEAN OIL, WATER, WHOLE EGGS, EGG YOLKS, VINEGAR, SALT, SUGAR, NATURAL FLAVORS, LEMON JUICE CONCENTRATE, PAPRIKA EXTRACT [COLOR], PIMENTOS (PIMENTOS, WATER, CITRIC ACID), CHIPOTLE (CHIPOTLE, TOMATO PUREE, VINEGAR, SALT, SUGAR, GARLIC, VEGETABLE OIL), ONIONS, LIME JUICE, SPICES.',\n     'allHighlightFields': '<b>Ingredients</b>: , LEMON JUICE CONCENTRATE, PAPRIKA EXTRACT [COLOR], <em>PIMENTOS</em> (<em>PIMENTOS</em>, WATER, CITRIC ACID), CHIPOTLE',\n     'score': -245.0303},\n    {'fdcId': 380750,\n     'description': 'PIMENTO SPREAD',\n     'dataType': 'Branded',\n     'gtinUpc': '075217100027',\n     'publishedDate': '2019-04-01',\n     'brandOwner': \"Mrs. Stratton's Salads, Inc.\",\n     'ingredients': 'IMITATION AMERICAN CHEESE [WATER, PARTIALLY HYDROGENATED SOYBEAN OIL, CASEIN, WHEY, SODIUM PHOSPHATE, MODIFIED CORN STARCH, SODIUM CITRATE, SALT, ARTIFICIAL FLAVOR, LACTIC ACID, SORBIC ACID (PRESERVATIVE), ADIPIC ACID ARTIFICIAL COLOR, CALCIUM PHOSPHATE, SODIUM ALUMINUM PHOSPHATE, CITRIC ACID, ZINC OXIDE, VITAMIN A PALMITATE, RIBOFLAVIN, VITAMIN B12], DRESSING (WATER, CORN SYRUP, SOYBEAN OIL, DISTILLED VINEGAR, HIGH FRUCTOSE CORN SYRUP, MODIFIED FOOD STARCH, EGG YOLKS, SALT, SPICE, POTASSIUM SORBATE (PRESERVATIVE)), RED PEPPERS, PIMENTOS, WATER, GLUCONO-LACTONE, 0.1% POTASSIUM SORBATE (PRESERVATIVE). ',\n     'allHighlightFields': '<b>Ingredients</b>:  SORBATE (PRESERVATIVE)), RED PEPPERS, <em>PIMENTOS</em>, WATER, GLUCONO-LACTONE, 0.1% POTASSIUM SORBATE (PRESERVATIVE). ',\n     'score': -245.0303},\n    {'fdcId': 380760,\n     'description': 'PIMENTO SPREAD',\n     'dataType': 'Branded',\n     'gtinUpc': '051933197206',\n     'publishedDate': '2019-04-01',\n     'brandOwner': 'The Moran Group Incorporated',\n     'ingredients': 'AMERICAN CHEESE IMITATION (WATER, PARTIALLY HYDROGENATED SOYBEAN OIL, MODIFIED FOOD STARCH, CASEIN [MILK PROTEIN], WHEY, SALT, SODIUM ALUMINUM PHOSPHATE, SODIUM CITRATE, SODIUM PHOSPHATE, CALCIUM PHOSPHATE, ARTIFICIAL FLAVOR, LACTIC ACID, SORBIC ACID [A PRESERVATIVE], ADIPIC ACID, ARTIFICIAL COLOR, CITRIC ACID, ZINC OXIDE, VITAMIN A PALMITATE, RIBOFLAVIN, VITAMIN B12), SALAD DRESSING (SOYBEAN OIL, WATER, CORN SYRUP, VINEGAR, EGG YOLKS, MODIFIED CORN STARCH, SUGAR, SALT, SPICE, LEMON JUICE CONCENTRATE, OLEORESIN PAPRIKA), RED BELL PEPPER (BELL PEPPER, WATER, CITRIC ACID), WATER, PIMENTO (PIMENTO, WATER, CITRIC ACID), POTASSIUM SORBATE AND SODIUM BENZOATE TO PROTECT FLAVOR, ANNATTO COLOR, SALT.',\n     'allHighlightFields': '<b>Ingredients</b>:  CONCENTRATE, OLEORESIN PAPRIKA), RED BELL PEPPER (BELL PEPPER, WATER, CITRIC ACID), WATER, <em>PIMENTO</em>',\n     'score': -245.0303},\n    {'fdcId': 473458,\n     'description': 'PIMENTO SPREAD',\n     'dataType': 'Branded',\n     'gtinUpc': '815712012025',\n     'publishedDate': '2019-04-01',\n     'brandOwner': 'Fresh Food Manufacturing',\n     'ingredients': 'WHITE CHEDDAR (PASTEURIZED MILK, CULTURES, SALT, ENZYMES), ROASTED RED PEPPER (RED PEPPERS, WATER, SALT, CITRIC ACID, CALCIUM CHLORIDE), CREAM CHEESE (PASTEURIZED CULTURED SKIM MILK AND CREAM, WHEY, SALT, STABILIZERS (XANTHAN, LOCUST BEAN AND GUAR GUMS)), MAYONNAISE (SOYBEAN OIL, WATER, WHOLE EGGS AND EGG YOLKS, VINEGAR, SALT, SUGAR, LEMON JUICE, CALCIUM DISODIUM EDTA (PRESERVATIVE) NATURAL FLAVORS), SWEET PEPPERS (SWEET PIQUANTE PEPPERS, WATER, SUGAR, VINEGAR, SALT, CITRIC ACID, ASCORBIC ACID, CALCIUM CHLORIDE), PAPRIKA, WORCHESTERSHIRE SAUCE (WATER, DISTILLED VINEGAR, HIGH FRUCTOSE CORN SYRUP, SALT, HYDROLYZED SOY PROTEIN CONTAINS LESS THAN 1% OF SPICE, DEXTROSE, CHILI PEPPER, CARAMEL COLOR, DRIED GARLIC, DRIED ONION, MUSTARD, MALIC ACID, NATURAL FLAVORS, DISODIUM GUANYLATE, DISODIUM INOSINATE).',\n     'allHighlightFields': '',\n     'score': -245.0303},\n    {'fdcId': 380096,\n     'description': 'PIMENTO SPREAD',\n     'dataType': 'Branded',\n     'gtinUpc': '074952120239',\n     'publishedDate': '2019-04-01',\n     'brandOwner': 'B & H Foods, Inc.',\n     'ingredients': 'IMITATION SALAD CHEESE (WATER, PARTIALLY HYDROGENATED SOYBEAN OIL, STARCH, WHEY, CASEIN AND/OR CASEINATE, SALT, NATURAL FLAVOR, SODIUM CITRATE, SODIUM PHOSPHATE, SORBIC ACID [AS A PRESERVATIVE], ARTIFICIAL COLOR, LACTIC ACID), SALAD DRESSING (SOYBEAN OIL, WATER, HIGH FRUCTOSE CORN SYRUP, DISTILLED VINEGAR, MODIFIED CORN STARCH, EGG YOLKS, SALT, LESS THAN 1/10 OF 1% SODIUM BENZOATE, LESS THAN 1/10 OF 1% POTASSIUM SORBATE), PIMENTOS, WATER, SWEET BELL PEPPERS (BELL PEPPERS, WATER, CITRIC ACID), CHEESE SAUCE (WHEY, FOOD STARCH-MODIFIED, CHEDDAR CHEESE (PASTEURIZED MILK, CHEESE CULTURE, SALT, ENZYMES), SALT, WHEY PROTEIN CONCENTRATE, LESS THAN 2% BUTTERMILK SOLIDS, SODIUM PHOSPHATE, CREAM, LACTIC ACID, YELLOW 5, YELLOW 6), WHEY, CHEESE FLAVOR (DEHYDRATED BLEND OF CHEESE (GRANULAR AND BLUE [MILK, CHEESE CULTURE, SALT, ENZYMES], WHEY, PARTIALLY HYDROGENATED SOYBEAN OIL, WHEY PROTEIN CONCENTRATE, CITRIC ACID, LACTIC ACID, YELLOW 5, YELLOW 6), POTASSIUM SORBATE (AS A PRESERVATIVE).',\n     'allHighlightFields': '<b>Ingredients</b>:  OF 1% POTASSIUM SORBATE), <em>PIMENTOS</em>, WATER, SWEET BELL PEPPERS (BELL PEPPERS, WATER, CITRIC ACID',\n     'score': -245.0303},\n    {'fdcId': 690136,\n     'description': 'PIMENTO SPREAD',\n     'dataType': 'Branded',\n     'gtinUpc': '071117182873',\n     'publishedDate': '2019-12-06',\n     'brandOwner': \"Reser's Fine Foods, Inc.\",\n     'ingredients': 'PASTEURIZED PROCESS IMITATION AMERICAN CHEESE (WATER, PALM OIL, MODIFIED CORN STARCH, CASEIN [MILK PROTEIN], WHEY, SALT, LACTIC ACID, SODIUM ALUMINUM PHOSPHATE, SODIUM PHOSPHATE, SORBIC ACID [A PRESERVATIVE], ARTIFICIAL FLAVOR, SODIUM CITRATE, COLOR ADDED, ZINC OXIDE, VITAMIN A PALMITATE, RIBOFLAVIN, VITAMIN B12), SALAD DRESSING (SOYBEAN OIL, WATER, HIGH FRUCTOSE CORN SYRUP, VINEGAR, EGG YOLKS, MODIFIED CORN STARCH, SUGAR, SALT, MUSTARD), RED PEPPERS (RED BELL PEPPERS, WATER, CITRIC ACID), WATER, PIMENTOS (PIMENTOS, WATER, CITRIC ACID), POTASSIUM SORBATE (PRESERVATIVE), SODIUM BENZOATE (PRESERVATIVE), ANNATTO COLOR, SALT.',\n     'allHighlightFields': '<b>Ingredients</b>: ), WATER, <em>PIMENTOS</em> (<em>PIMENTOS</em>, WATER, CITRIC ACID), POTASSIUM SORBATE (PRESERVATIVE), SODIUM BENZOATE (PRESERVATIVE), ANNATTO COLOR, SALT.',\n     'score': -245.0303},\n    {'fdcId': 517266,\n     'description': 'PIMENTO SPREAD',\n     'dataType': 'Branded',\n     'gtinUpc': '856360005380',\n     'publishedDate': '2019-04-01',\n     'brandOwner': 'SOUTHERN CHOICE',\n     'ingredients': 'IMITATION CHEESE (WATER, PARTIALLY HYDROGENATED SOYBEAN OIL, FOOD STARCH, SALT, WHEY, CASEIN AND/OR CASEINATE, SODIUM CITRATE, NATURAL FLAVOR, SODIUM PHOSPHATE, STABILIZERS (XANTHAN GUM, LOCUST BEAN GUM, GUAR GUM), SORBIC ACID, ARTIFICIAL COLOR, LACTIC ACID), MAYONNAISE (SOYBEAN OIL, CORN SYRUP, WATER, EGG YOLKS, DISTILLED VINEGAR, SALT, SPICE, CALCIUM DISODIUM EDTA ADDED TO PROTECT FLAVOR), PIMENTOS, WATER, SUGAR, CONTAINS 2% OR LESS OF: ANNATTO (COLOR), MALTODEXTRIN, CULTURED DEXTROSE, SODIUM CHLORIDE, EGG WHITE LYSOZYME, SODIUM DIACETATE, NISIN PREPARATION, POTASSIUM SORBATE (PRESERVATIVE).',\n     'allHighlightFields': '<b>Ingredients</b>: ), <em>PIMENTOS</em>, WATER, SUGAR, CONTAINS 2% OR LESS OF: ANNATTO (COLOR), MALTODEXTRIN, CULTURED DEXTROSE, SODIUM',\n     'score': -245.0303},\n    {'fdcId': 642682,\n     'description': 'PIMENTO STUFFED MANZANILLA SPANISH OLIVES, PIMENTO',\n     'dataType': 'Branded',\n     'gtinUpc': '070253283253',\n     'publishedDate': '2019-12-06',\n     'brandOwner': 'Nash Finch Company',\n     'ingredients': 'MANZANILLA OLIVES, WATER, MINCED PIMIENTOS, SALT, LACTIC ACID, SODIUM ALGINATE, GUAR GUM, CALCIUM CHLORIDE AND POTASSIUM SORBATE AS PRESERVATIVE.',\n     'allHighlightFields': '',\n     'score': -257.8919},\n    {'fdcId': 704290,\n     'description': 'PIMENTO STUFFED MANZANILLA SPANISH OLIVES, PIMENTO',\n     'dataType': 'Branded',\n     'gtinUpc': '070253283314',\n     'publishedDate': '2019-12-06',\n     'brandOwner': 'Nash Finch Company',\n     'ingredients': 'MANZANILLA OLIVES, WATER, PIMIENTO, SALT, LACTIC ACID, SODIUM ALGINATE, GUAR GUM, CALCIUM CHLORIDE AND POTASSIUM SORBATE AS PRESERVATIVE.',\n     'allHighlightFields': '',\n     'score': -257.8919},\n    {'fdcId': 732420,\n     'description': 'PIMENTO STUFFED OLIVES',\n     'dataType': 'Branded',\n     'gtinUpc': '015418011340',\n     'publishedDate': '2019-12-06',\n     'brandOwner': \"Rouse's Enterprises, Inc.\",\n     'ingredients': 'GREEN OLIVES, WATER, MINCED PIMENTO (PIMENTO, SODIUM ALGINATE, GUAR GUM, CALCIUM CHLORIDE, POTASSIUM SORBATE (PRESERVATIVE)), SALT, LACTIC ACID, SODIUM BENZOATE (PRESERVATIVE).',\n     'allHighlightFields': '<b>Ingredients</b>: GREEN OLIVES, WATER, MINCED <em>PIMENTO</em> (<em>PIMENTO</em>, SODIUM ALGINATE, GUAR GUM, CALCIUM CHLORIDE',\n     'score': -296.35034},\n    {'fdcId': 370743,\n     'description': 'VICTORIA, DICED PIMENTOS',\n     'dataType': 'Branded',\n     'gtinUpc': '070234000633',\n     'publishedDate': '2019-04-01',\n     'brandOwner': 'Victoria Fine Foods LLC',\n     'ingredients': 'PIMENTOS, WATER, SALT, CITRIC ACID, SUGAR.',\n     'allHighlightFields': '<b>Ingredients</b>: <em>PIMENTOS</em>, WATER, SALT, CITRIC ACID, SUGAR.',\n     'score': -296.59763},\n    {'fdcId': 738052,\n     'description': 'PIMENTO STUFFED OLIVES',\n     'dataType': 'Branded',\n     'gtinUpc': '895716001188',\n     'publishedDate': '2019-12-06',\n     'brandOwner': \"Joseph's Fine Foods, LLC\",\n     'ingredients': 'OLIVES, PIMENTOS, WATER, SALT, LACTIC ACID, SODIUM METABISULFITE (COLOR RETENTION) AND SODIUM BENZOATE AS A PRESERVATIVE.',\n     'allHighlightFields': '<b>Ingredients</b>: OLIVES, <em>PIMENTOS</em>, WATER, SALT, LACTIC ACID, SODIUM METABISULFITE (COLOR RETENTION) AND SODIUM BENZOATE AS A PRESERVATIVE.',\n     'score': -297.7477},\n    {'fdcId': 357497,\n     'description': \"AUGUSTA'S, PIMENTO CHEESE\",\n     'dataType': 'Branded',\n     'gtinUpc': '094922851628',\n     'publishedDate': '2019-04-01',\n     'brandOwner': 'Georgia Peach Products, Inc.',\n     'ingredients': 'EXTRA SHARP CHEESE (PASTEURIZED MILK, CHEESE CULTURES, SALT, ENZYMES, VEGETABLE COLOR), MAYONNAISE (SOYBEAN OIL, EGG YOLKS, WATER, DISTILLED VINEGAR, SALT, MUSTARD FLOUR), PIMENTOS, ONIONS, NATURAL FLAVORS AND SPICES.',\n     'allHighlightFields': '<b>Ingredients</b>:  (SOYBEAN OIL, EGG YOLKS, WATER, DISTILLED VINEGAR, SALT, MUSTARD FLOUR), <em>PIMENTOS</em>, ONIONS, NATURAL FLAVORS AND SPICES.',\n     'score': -297.94666},\n    {'fdcId': 509393,\n     'description': 'CHEDDAR PIMENTO CHEESE',\n     'dataType': 'Branded',\n     'gtinUpc': '722515249070',\n     'publishedDate': '2019-04-01',\n     'brandOwner': \"MRS. MARSHALL'S\",\n     'ingredients': 'CHEDDAR CHEESE (CULTURED MILK, SALT, ENZYMES, ANNATTO FOR COLOR, POTATO STARCH AND CELLULOSE POWDER (TO PREVENT CAKING), NATAMYCIN (NATURAL MOLD INHIBITOR)), MAYONNAISE (SOYBEAN OIL, EGGS, VINEGAR, WATER, EGG YOLKS, SALT, DEXTROSE SUGAR, LEMON JUICE, CALCIUM DISODIUM EDTA, NATURAL FLAVORS), PIMENTOS (WITH WATER, CITRIC ACID), SUGAR, PEPPER.',\n     'allHighlightFields': '<b>Ingredients</b>: , WATER, EGG YOLKS, SALT, DEXTROSE SUGAR, LEMON JUICE, CALCIUM DISODIUM EDTA, NATURAL FLAVORS), <em>PIMENTOS</em> (WITH WATER, CITRIC ACID), SUGAR, PEPPER.',\n     'score': -297.94666},\n    {'fdcId': 515373,\n     'description': 'CHEESE STRAWS PIMENTO',\n     'dataType': 'Branded',\n     'gtinUpc': '661799092760',\n     'publishedDate': '2019-04-01',\n     'brandOwner': \"DEE DEE'S GOURMET\",\n     'ingredients': 'CHEDDAR CHEESE (NON FAT MILK, CHEESE CULTURE, SALT, ENZYMES, ANNATTO (COLOR)), ENRICHED WHEAT FLOUR (WHEAT FLOUR, MALTED BARLEY FLOUR, MALTED BARLEY FLOUR, NIACIN, REDUCED IRON, THIAMINE MONONITRATE, RIBOFLAVIN, FOLIC ACID), BUTTER, PIMENTO PEPPER, WORCESTERSHIRE SAUCE, ONION POWDER, GARLIC POWDER, SPICES, SALT',\n     'allHighlightFields': '<b>Ingredients</b>: , RIBOFLAVIN, FOLIC ACID), BUTTER, <em>PIMENTO</em> PEPPER, WORCESTERSHIRE SAUCE, ONION POWDER, GARLIC POWDER, SPICES, SALT',\n     'score': -297.94666},\n    {'fdcId': 690138,\n     'description': 'CHUNKY PIMENTO SPREAD',\n     'dataType': 'Branded',\n     'gtinUpc': '072299154108',\n     'publishedDate': '2019-12-06',\n     'brandOwner': 'MRS. GILES',\n     'ingredients': 'IMITATION AMERICAN CHEESE (WATER, PALM OIL, CASEIN [A MILK PROTEIN], FOOD STARCH MODIFIED, WHEY, SALT, LACTIC ACID, SODIUM PHOSPHATE, ARTIFICIAL FLAVOR, SORBIC ACID [PRESERVATIVE], SODIUM CITRATE, COLOR ADDED, ZINC OXIDE, VITAMIN A PALMITATE, RIBOFLAVIN, VITAMIN B12), SALAD DRESSING (SOYBEAN OIL, WATER, HIGH FRUCTOSE CORN SYRUP, VINEGAR, EGG YOLKS, MODIFIED CORN STARCH, SUGAR, SALT), WATER, RED BELL PEPPER (BELL PEPPERS, WATER, CITRIC ACID), PIMENTOS (PIMENTOS, WATER, CITRIC ACID), POTASSIUM SORBATE (PRESERVATIVE), SODIUM BENZOATE (PRESERVATIVE).',\n     'allHighlightFields': '<b>Ingredients</b>:  BELL PEPPER (BELL PEPPERS, WATER, CITRIC ACID), <em>PIMENTOS</em> (<em>PIMENTOS</em>, WATER, CITRIC ACID), POTASSIUM SORBATE (PRESERVATIVE), SODIUM BENZOATE (PRESERVATIVE).',\n     'score': -297.94666},\n    {'fdcId': 399747,\n     'description': 'DELAURENTI, PIMENTO OLIVES',\n     'dataType': 'Branded',\n     'gtinUpc': '116100004609',\n     'publishedDate': '2019-04-01',\n     'brandOwner': 'DELAURENTI',\n     'ingredients': 'CONTAINS: OLIVES, WATER, PIMIENTO, SALT, LACTIC ACID, AND POTASSIUM SORBATE.',\n     'allHighlightFields': '',\n     'score': -297.94666},\n    {'fdcId': 381639,\n     'description': 'GOURMET PIMENTO CHEESE',\n     'dataType': 'Branded',\n     'gtinUpc': '853099004035',\n     'publishedDate': '2019-04-01',\n     'brandOwner': 'MyThreeSons Gourmet, LLC',\n     'ingredients': 'PREMIUM NATURALLY AGED SHARP CHEDDAR CHEESE (FRESH PASTEURIZED MILK, CHEESE CULTURES, SALT, ENZYMES, ANNATTO FOR COLOR), ALL NATURAL MAYONNAISE (SOYBEAN OIL, EGG YOLK, VINEGAR, CORN SYRUP, WATER, SALT AND SPICE), PIMENTO (PIMENTOS, WATER AND CITRIC ACID), JALAPENO (JALAPENO PEPPERS, WATER, VINEGAR, SALT AND A TRACE OF CALCIUM CHLORIDE), SUGAR, CULTURED DEXTROSE, ONION POWDER AND SPICES.',\n     'allHighlightFields': '<b>Ingredients</b>: , SALT AND SPICE), <em>PIMENTO</em> (<em>PIMENTOS</em>, WATER AND CITRIC ACID), JALAPENO (JALAPENO PEPPERS, WATER, VINEGAR',\n     'score': -297.94666},\n    {'fdcId': 381641,\n     'description': 'GOURMET PIMENTO CHEESE',\n     'dataType': 'Branded',\n     'gtinUpc': '853099004042',\n     'publishedDate': '2019-04-01',\n     'brandOwner': 'MY THREE SONS',\n     'ingredients': 'PREMIUM NATURALLY AGED EXTRA SHARP CHEDDAR CHEESE (FRESH PASTEURIZED MILK, CHEESE CULTURES, SALT ENZYMES), ALL NATURAL MAYONNAISE (SOYBEAN OIL, EGG YOLK, VINEGAR, CORNSYRUP, WATER, SALT AND SPICE), PIMENTOS (PIMENTOS, WATER AND CITRIC ACID/ NATURAL PRESERVATIVE) JALAPENO (JALAPENO PEPPERS, WATER, VINEGAR, SALT AND A TRACE OF CALCIUM CHLORIDE), CULTURED DEXTROSE, GARLIC POWDER, SPICES. ',\n     'allHighlightFields': '<b>Ingredients</b>: ), <em>PIMENTOS</em> (<em>PIMENTOS</em>, WATER AND CITRIC ACID/ NATURAL PRESERVATIVE) JALAPENO (JALAPENO PEPPERS, WATER',\n     'score': -297.94666},\n    {'fdcId': 453683,\n     'description': 'HOMESTYLE PIMENTO CHEESE',\n     'dataType': 'Branded',\n     'gtinUpc': '856360005120',\n     'publishedDate': '2019-04-01',\n     'brandOwner': 'Duke Sandwich Productions, Inc.',\n     'ingredients': 'CHEESE (CULTURED MILK, WATER, CREAM, SKIM MILK. SODIUM PHOSPHATE, SALT, LACTIC ACID, SORBIC ACID [AS A PRESERVATIVE], VEGETABLE COLOR, ENZYMES), MAYONNAISE (SOYBEAN OIL, CORN SYRUP, WATER, EGG YOLKS, DISTILLED VINEGAR, SALT, SPICE, CALCIUM DISODIUM EDTA [ADDED TO PROTECT FLAVOR]), WATER, PIMENTOS (PIMENTOS, WATER, CITRIC ACID), CONTAINS 2% OR LESS OF THE FOLLOWING: MALTODEXTRIN, CULTURED DEXTROSE, SODIUM DIACETATE, NISIN PREPARATION, EGG WHITE LYSOZYME, POTASSIUM SORBATE, SALT).',\n     'allHighlightFields': '<b>Ingredients</b>: , DISTILLED VINEGAR, SALT, SPICE, CALCIUM DISODIUM EDTA [ADDED TO PROTECT FLAVOR]), WATER, <em>PIMENTOS</em>',\n     'score': -297.94666},\n    {'fdcId': 473940,\n     'description': 'HOT PIMENTO SPREAD',\n     'dataType': 'Branded',\n     'gtinUpc': '074952120147',\n     'publishedDate': '2019-04-01',\n     'brandOwner': 'B & H Foods, Inc.',\n     'ingredients': 'IMITATION SALAD CHEESE (WATER, PARTIALLY HYDROGENATED SOYBEAN OIL, STARCH, WHEY, CASEIN AND/OR CASEINATE, SALT, NATURAL FLAVOR, SODIUM CITRATE, SODIUM PHOSPHATE, SORBIC ACID [AS A PRESERVATIVE], ARTIFICIAL COLOR, LACTIC ACID), SALAD DRESSING (SOYBEAN OIL, WATER, HIGH FRUCTOSE CORN SYRUP, DISTILLED VINEGAR, MODIFIED CORN STARCH, EGG YOLKS, SALT, LESS THAN 1/10 OF 1% SODIUM BENZOATE, PIMENTOS, WATER, JALAPENO PEPPERS (JALAPENO PEPPERS, WATER, VINEGAR, SALT, CALCIUM CHLORIDE), SWEET BELL PEPPERS (BELL PEPPERS, WATER, CITRIC ACID), CHEESE SAUCE (WHEY, FOOD STARCH-MODIFIED, CHEDDAR CHEESE (PASTEURIZED MILK, CHEESE CULTURE, SALT, ENZYMES), SALT, WHEY PROTEIN CONCENTRATE, LESS THAN 2% BUTTERMILK SOLIDS, SODIUM PHOSPHATE, CREAM, LACTIC ACID, YELLOW 5, YELLOW 6), WHEY, CHEESE FLAVOR (DEHYDRATED BLEND OF CHEESE (GRANULAR AND BLUE [MILK, CHEESE CULTURE, SALT, ENZYMES], WHEY, PARTIALLY HYDROGENATED SOYBEAN OIL, WHEY PROTEIN CONCENTRATE, CITRIC ACID, LACTIC ACID, YELLOW 5, YELLOW 6), POTASSIUM SORBATE (AS A PRESERVATIVE).',\n     'allHighlightFields': '<b>Ingredients</b>:  VINEGAR, MODIFIED CORN STARCH, EGG YOLKS, SALT, LESS THAN 1/10 OF 1% SODIUM BENZOATE, <em>PIMENTOS</em>',\n     'score': -297.94666},\n    {'fdcId': 465711,\n     'description': 'JALAPENO PIMENTO CHEESE',\n     'dataType': 'Branded',\n     'gtinUpc': '850867002125',\n     'publishedDate': '2019-04-01',\n     'brandOwner': 'Southern Taste',\n     'ingredients': 'REAL MAYONNAISE (SOYBEAN OIL, CORN SYRUP, WATER, EGG YOLKS, DISTILLED AND CIDER VINEGAR, SALT, SPICE, CALCIUM DISODIUM EDTA ADDED TO PROTECT FLAVOR), SHARP AMERICAN CHEESE (CULTURED MILK, WATER, CREAM, SODIUM PHOSPHATE, SALT, ARTIFICIAL COLOR, ENZYMES), ROASTED SWEET RED PEPPERS, (SWEET RED PEPPER, WATER, SALT, AND CITRIC ACID), JALAPENOS.',\n     'allHighlightFields': '',\n     'score': -297.94666},\n    {'fdcId': 357494,\n     'description': 'JALAPENO PIMENTO CHEESE',\n     'dataType': 'Branded',\n     'gtinUpc': '850867002132',\n     'publishedDate': '2019-04-01',\n     'brandOwner': 'Southern Taste',\n     'ingredients': 'REAL MAYONNAISE (SOYBEAN OIL, CORN SYRUP, WATER, EGG YOLKS, DISTILLED AND CIDER VINEGAR, SALT, SPICES, CALCIUM DISODIUM EDTA ADDED TO PROTECT FLAVOR), SHARP AMERICAN CHEESE (CULTURED MILK, WATER, CREAM, SODIUM PHOSPHATE, SALT, ARTIFICIAL COLOR, ENZYMES), ROASTED SWEET RED PEPPERS, (SWEET RED PEPPER, WATER, SALT, AND CITRIC ACID), JALAPENOS.',\n     'allHighlightFields': '',\n     'score': -297.94666},\n    {'fdcId': 362439,\n     'description': \"MARTHA'S, PIMENTO CHEESE\",\n     'dataType': 'Branded',\n     'gtinUpc': '700580557382',\n     'publishedDate': '2019-04-01',\n     'brandOwner': \"MARTHA'S\",\n     'ingredients': 'AGED CHEDDAR CHEESE (RBGH-FREE* PASTEURIZED MILK, CULTURES, ENZYMES (NON-ANIMAL), SALT, ANNATTO); PIMIENTOS (PIMIENTOS, WATER, CITRIC ACID); MAYONNAISE (EXPELLER PRESSED CANOLA OIL, CAGE-FREE EGG YOLKS, WATER, HONEY, DISTILLED VINEGAR, CAGE-FREE WHOLE EGG, CONTAINS LESS THAN 2% OF SALT, SPICE, LEMON JUICE CONCENTRATE, TOCOPHEROLS (VITAMIN E); BLACK PEPPER.',\n     'allHighlightFields': '',\n     'score': -297.94666},\n    {'fdcId': 381870,\n     'description': 'ORIGINAL PIMENTO CHEESE',\n     'dataType': 'Branded',\n     'gtinUpc': '761088191577',\n     'publishedDate': '2019-04-01',\n     'brandOwner': \"B. Robert's Foods, Inc.\",\n     'ingredients': 'CHEDDAR CHEESE (PASTEURIZED MILK, CHEESE CULTURE, SALT, ENZYMES, ANNATTO, POTATO STARCH AND POWDERED CELLULOSE [ ANTI-CAKING AGENTS], NATAMYCIN [ MOLD INHIBITOR]), MAYONNAISE (SOYBEAN OIL, CORN SYRUP, WATER, EGG YOLKS, DISTILLED AND CIDER VINEGAR, SALT, SPICE, CALCIUM DISODIUM EDTA TO PROTECT FLAVOR), PIMIENTOS (PIMIENTOS, WATER, CITRIC ACID), WHITE PEPPER. ',\n     'allHighlightFields': '',\n     'score': -297.94666},\n    {'fdcId': 592468,\n     'description': 'PICKLE & PIMENTO LOAF',\n     'dataType': 'Branded',\n     'gtinUpc': '090046813009',\n     'publishedDate': '2019-04-01',\n     'brandOwner': \"FISCHER'S\",\n     'ingredients': 'MECHANICALLY SEPARATED CHICKEN, PORK, WATER, DICED SWEET PICKLES [CUCUMBERS, HIGH FRUCTOSE CORN SYRUP, VINEGAR, SALT, XANTHAM GUM, SODIUM BENZOATE, NATURAL FLAVORING, POLYSORBATE 80, CALCIUM CHLORIDE], PIMENTOS (PIMENTOS, WATER, AND CITRIC ACID), BEEF, MODIFIED FOOD STARCH, CORN SYRUP, SALT. CONTAINS 2% OR LESS OF SODIUM LACTATE, SODIUM PHOSPHATE, SPICES, DEXTROSE, SODIUM DIACETATE, PAPRIKA, SODIUM ERYTHORBATE, SODIUM NITRITE.',\n     'allHighlightFields': '<b>Ingredients</b>: ], <em>PIMENTOS</em> (<em>PIMENTOS</em>, WATER, AND CITRIC ACID), BEEF, MODIFIED FOOD STARCH, CORN SYRUP, SALT',\n     'score': -297.94666},\n    {'fdcId': 447309,\n     'description': 'PICKLE & PIMENTO LOAF',\n     'dataType': 'Branded',\n     'gtinUpc': '011110974457',\n     'publishedDate': '2019-04-01',\n     'brandOwner': 'The Kroger Co.',\n     'ingredients': 'MECHANICALLY SEPARATED CHICKEN, CORN SYRUP, PICKLES (CUCUMBERS, SUGAR, WATER, SALT, VINEGAR, ALUM, NATURAL AND ARTIFICIAL FLAVOR, TURMERIC, SODIUM BENZOATE), WATER, BEEF, PORK, MODIFIED FOOD STARCH, SALT, RED PEPPERS (RED BELL PEPPERS, WATER, VINEGAR, SALT, CALCIUM CHLORIDE, SODIUM BENZOATE), CONTAINS 2% OR LESS OF: POTASSIUM LACTATE, SODIUM LACTATE, DEXTROSE, SODIUM PHOSPHATES, SODIUM DIACETATE, FLAVORING, SODIUM ERYTHORBATE, SODIUM NITRITE.',\n     'allHighlightFields': '',\n     'score': -297.94666},\n    {'fdcId': 584120,\n     'description': 'PIMENTO CHEESE DIP',\n     'dataType': 'Branded',\n     'gtinUpc': '021130112760',\n     'publishedDate': '2019-04-01',\n     'brandOwner': 'Safeway, Inc.',\n     'ingredients': 'CHEDDAR CHEESE (PASTEURIZED MILK, CHEESE CULTURES, SALT, NON-ANIMAL ENZYMES, ANNATTO COLOR, NATAMYCIN [A NATURAL MOLD INHIBITOR]), MAYONNAISE (SOYBEAN OIL, WATER, EGG YOLKS, VINEGAR, SALT), CREAM CHEESE (PASTEURIZED MILK AND CREAM, SALT, CAROB BEAN GUM, CHEESE CULTURE), PIMENTOS (PIMENTOS, WATER, CITRIC ACID), SOUR CREAM (PASTEURIZED CULTURED CREAM [MILK]), PIMENTO PUREE (PIMENTOS, WATER, CITRIC ACID), SUGAR, MODIFIED CORN STARCH, RED HOT BUFFALO SAUCE (DISTILLED VINEGAR, AGED CAYENNE RED PEPPERS, SALT, WATER, CANOLA OIL, PAPRIKA, XANTHAN GUM, NATURAL BUTTER TYPE FLAVOR, GARLIC POWDER), ONION POWDER, GRANULATED GARLIC, WATER, CELERY SALT (SEA SALT, CELERY SEED, SUNFLOWER OIL), PAPRIKA, SODIUM BENZOATE (PRESERVATIVE), POTASSIUM SORBATE (PRESERVATIVE).',\n     'allHighlightFields': '<b>Ingredients</b>:  CHEESE (PASTEURIZED MILK AND CREAM, SALT, CAROB BEAN GUM, CHEESE CULTURE), <em>PIMENTOS</em> (<em>PIMENTOS</em>, WATER',\n     'score': -297.94666},\n    {'fdcId': 584119,\n     'description': 'PIMENTO CHEESE DIP',\n     'dataType': 'Branded',\n     'gtinUpc': '021130112777',\n     'publishedDate': '2019-04-01',\n     'brandOwner': 'Safeway, Inc.',\n     'ingredients': 'CHEDDAR CHEESE (PASTEURIZED MILK, CHEESE CULTURES, SALT, NON-ANIMAL ENZYMES, ANNATTO COLOR, NATAMYCIN [A NATURAL MOLD INHIBITOR]), MAYONNAISE (SOYBEAN OIL, WATER, EGG YOLKS, VINEGAR, SALT), CREAM CHEESE (PASTEURIZED MILK AND CREAM, SALT CAROB BEAN GUM, CHEESE CULTURE), PIMENTO PUREE (PIMENTOS, WATER, CITRIC ACID), SOUR CREAM (PASTEURIZED CULTURED CREAM [MILK]), JALAPENO PEPPER (JALAPENO PEPPERS, SALT, ACETIC ACID, CALCIUM CHLORIDE), SUGAR, MODIFIED CORN STARCH, RED HOT BUFFALO SAUCE (DISTILLED VINEGAR, AGED CAYENNE RED PEPPERS, SALT, WATER, CANOLA OIL, PAPRIKA, XANTHAN GUM, NATURAL BUTTER TYPE FLAVOR, GARLIC POWDER), ONION POWDER, GRANULATED GARLIC, WATER, CELERY SALT (SEA SALT, CELERY SEED, SUNFLOWER OIL), PAPRIKA, SODIUM BENZOATE (PRESERVATIVE), POTASSIUM SORBATE (PRESERVATIVE).',\n     'allHighlightFields': '<b>Ingredients</b>:  CHEESE (PASTEURIZED MILK AND CREAM, SALT CAROB BEAN GUM, CHEESE CULTURE), <em>PIMENTO</em> PUREE (<em>PIMENTOS</em>',\n     'score': -297.94666},\n    {'fdcId': 470580,\n     'description': 'PIMENTO CHEESE SPREAD',\n     'dataType': 'Branded',\n     'gtinUpc': '011161033486',\n     'publishedDate': '2019-04-01',\n     'brandOwner': 'Topco Associates, Inc.',\n     'ingredients': 'CHEDDAR CHEESE (PASTEURIZED CULTURED MILK, SALT, ENZYME, PIMIENTOS, WATER, SOYBEAN OIL, HIGH FRUCTOSE CORN SYRUP, CREAM, MILK PROTEIN CONCENTRATE, WHEY, SKIM MILK, DISTILLED VINEGAR, MODIFIED FOOD STARCH, EGG YOLK, SODIUM CITRATE, POTASSIUM SORBATE AND SODIUM BENZOATE (PRESERVATIVES), SODIUM PHOSPHATE, SALT, GUMS (GUAR, XANTHAN, LOCUST BEAN), COLOR ADDED, MUSTARD FLOUR, PAPRIKA.',\n     'allHighlightFields': '',\n     'score': -297.94666},\n    {'fdcId': 380849,\n     'description': 'PIMENTO CHEESE SPREAD',\n     'dataType': 'Branded',\n     'gtinUpc': '011596061498',\n     'publishedDate': '2019-04-01',\n     'brandOwner': 'Garden-Fresh Foods, Inc.',\n     'ingredients': \"PASTEURIZED CHEESE PRODUCT (AMERICAN CHEESE (PASTEURIZED MILK, CHEESE CULTURE, SALT, ENZYMES), WATER, WHEY, MODIFIED WHEY, MILK PROTEIN CONCENTRATE, SKIM MILK, BUTTERMILK, SODIUM CITRATE, CREAM, SALT, SODIUM PHOSPHATE, SORBIC ACID (PRESERVATIVE), ANNATTO AND B-APO-8' CAROTENAL (FOR COLOR), SALAD DRESSING (SOYBEAN OIL, WATER, VINEGAR, SUGAR, HIGH FRUCTOSE CORN SYRUP, EGG YOLK, FOOD STARCH-MODIFIED, SALT, MUSTARD FLOUR, SODIUM BENZOATE AND POTASSIUM SORBATE (PRESERVATIVES), CITRIC ACID, POLYSORBATE  60, XANTHAN GUM, CALCIUM DISODIUM EDTA (TO PROTECT FLAVOR)), PIMENTOS, JALAPENOS, CAROTENOL (COLOR).\",\n     'allHighlightFields': '<b>Ingredients</b>: , POLYSORBATE  60, XANTHAN GUM, CALCIUM DISODIUM EDTA (TO PROTECT FLAVOR)), <em>PIMENTOS</em>, JALAPENOS, CAROTENOL (COLOR).',\n     'score': -297.94666}]}],\n 4: [{'foodSearchCriteria': {'generalSearchInput': 'mayonnaise',\n    'pageNumber': 1,\n    'requireAllWords': False},\n   'totalHits': 2132,\n   'currentPage': 1,\n   'totalPages': 43,\n   'foods': [{'fdcId': 387021,\n     'description': 'MAYONNAISE',\n     'dataType': 'Branded',\n     'gtinUpc': '725439300391',\n     'publishedDate': '2019-04-01',\n     'brandOwner': 'Delhaize America, Inc.',\n     'ingredients': 'SOYBEAN OIL, WATER, EGG YOLKS AND WHOLE EGGS, DISTILLED VINEGAR, CONTAINS LESS THAN 2% OF SALT, SUGAR, SPICES, NATURAL FLAVOR, LEMON JUICE FROM CONCENTRATE, CALCIUM DISODIUM EDTA TO PROTECT FLAVOR.',\n     'allHighlightFields': '',\n     'score': 573.0992},\n    {'fdcId': 396086,\n     'description': 'MAYONNAISE',\n     'dataType': 'Branded',\n     'gtinUpc': '021130474844',\n     'publishedDate': '2019-04-01',\n     'brandOwner': 'Safeway, Inc.',\n     'ingredients': 'SOYBEAN OIL, WHOLE EGG AND EGG YOLK, WATER, DISTILLED VINEGAR, CONTAINS LESS THAN 2% OF SALT, SUGAR, NATURAL FLAVOR, LEMON JUICE CONCENTRATE, OLEORESIN PAPRIKA (FOR COLOR), CALCIUM DISODIUM EDTA (TO PROTECT FLAVOR).',\n     'allHighlightFields': '',\n     'score': 573.0992},\n    {'fdcId': 390618,\n     'description': 'MAYONNAISE',\n     'dataType': 'Branded',\n     'gtinUpc': '021130477418',\n     'publishedDate': '2019-04-01',\n     'brandOwner': 'Safeway, Inc.',\n     'ingredients': 'WATER, SOYBEAN OIL, MODIFIED CORN STARCH*, WHOLE EGG AND EGG YOLK, SUGAR, DISTILLED VINEGAR, SALT, CONTAINS LESS THAN 2% OF: LEMON JUICE CONCENTRATE, POTASSIUM SORBATE (A PRESERVATIVE)*, CALCIUM DISODIUM EDTA TO PROTECT FLAVOR, NATURAL FLAVOR, OLEORESIN PAPRIKA (COLOR).',\n     'allHighlightFields': '',\n     'score': 573.0992},\n    {'fdcId': 458881,\n     'description': 'MAYONNAISE',\n     'dataType': 'Branded',\n     'gtinUpc': '026700698934',\n     'publishedDate': '2019-04-01',\n     'brandOwner': 'WILSEY',\n     'ingredients': 'SOYBEAN OIL, WATER, EGG YOLKS, DISTILLED VINEGAR, CONTAINS LESS THAN 2% OF CORN SYRUP, SALT, SPICE, LEMON JUICE CONCENTRATE, CALCIUM DISODIUM EDTA ADDED TO PROTECT FLAVOR.',\n     'allHighlightFields': '',\n     'score': 573.0992},\n    {'fdcId': 597113,\n     'description': 'MAYONNAISE',\n     'dataType': 'Branded',\n     'gtinUpc': '015400820523',\n     'publishedDate': '2019-04-01',\n     'brandOwner': 'SHURFINE',\n     'ingredients': 'SOYBEAN OIL, WHOLE EGGS, EGG YOLKS, DISTILLED VINEGAR, WATER, SALT, SUGAR, SPICES, LEMON JUICE CONCENTRATE, AND CALCIUM DISODIUM EDTA ADDED TO PROTECT FLAVOR.',\n     'allHighlightFields': '',\n     'score': 573.0992},\n    {'fdcId': 597115,\n     'description': 'MAYONNAISE',\n     'dataType': 'Branded',\n     'gtinUpc': '015400844291',\n     'publishedDate': '2019-04-01',\n     'brandOwner': 'SHURFINE',\n     'ingredients': 'SOYBEAN OIL, WHOLE EGGS, EGG YOLKS, DISTILLED VINEGAR, WATER, SALT, SUGAR, SPICES, LEMON JUICE CONCENTRATE, AND CALCIUM DISODIUM EDTA ADDED TO PROTECT FLAVOR.',\n     'allHighlightFields': '',\n     'score': 573.0992},\n    {'fdcId': 387387,\n     'description': 'MAYONNAISE',\n     'dataType': 'Branded',\n     'gtinUpc': '050700561974',\n     'publishedDate': '2019-04-01',\n     'brandOwner': 'The Federated Group, Inc.',\n     'ingredients': 'SOYBEAN OIL, EGGS, WATER, DISTILLED VINEGAR, CONTAINS LESS THAN 2% OF SALT, SUGAR, LEMON JUICE CONCENTRATE, CALCIUM DISODIUM EDTA ADDED TO PROTECT FLAVOR, NATURAL FLAVOR.',\n     'allHighlightFields': '',\n     'score': 573.0992},\n    {'fdcId': 526120,\n     'description': 'MAYONNAISE',\n     'dataType': 'Branded',\n     'gtinUpc': '041268192595',\n     'publishedDate': '2019-04-01',\n     'brandOwner': 'Hannaford Bros. Co.',\n     'ingredients': 'SOYBEAN OIL, VINEGAR, EGG YOLKS, WATER, SUGAR, SALT, LEMON JUICE, CALCIUM DISODIUM EDTA (AS A PRESERVATIVE) AND NATURAL FLAVORS.',\n     'allHighlightFields': '',\n     'score': 573.0992},\n    {'fdcId': 388833,\n     'description': 'MAYONNAISE',\n     'dataType': 'Branded',\n     'gtinUpc': '011110019141',\n     'publishedDate': '2019-04-01',\n     'brandOwner': 'The Kroger Co.',\n     'ingredients': 'SOYBEAN OIL, WATER, EGG YOLK, CORN SYRUP, VINEGAR, SALT, MUSTARD POWDER, LEMON JUICE CONCENTRATE, NATURAL FLAVOR, CALCIUM DISODIUM EDTA (TO PROTECT FLAVOR).',\n     'allHighlightFields': '',\n     'score': 573.0992},\n    {'fdcId': 733398,\n     'description': 'MAYONNAISE',\n     'dataType': 'Branded',\n     'gtinUpc': '12644490',\n     'publishedDate': '2019-12-06',\n     'brandOwner': 'WILDLY ORGANIC',\n     'ingredients': 'ORGANIC MCT OIL, ORGANIC EXTRA VIRGIN OLIVE OIL, ORGANIC SESAME SEED OIL, ORGANIC CAGE-FREE EGG YOLK, WATER, ORGANIC WHITE DISTILLED VINEGAR, ORGANIC CANE SUGAR*, SALT, ORGANIC GARLIC POWDER, ORGANIC MUSTARD POWDER, ORGANIC RICE BRAN EXTRACT, ORGANIC ONION POWDER, ORGANIC PAPRIKA.',\n     'allHighlightFields': '',\n     'score': 573.0992},\n    {'fdcId': 709356,\n     'description': 'MAYONNAISE',\n     'dataType': 'Branded',\n     'gtinUpc': '193476001289',\n     'publishedDate': '2019-12-06',\n     'brandOwner': \"THAT'S SMART!\",\n     'ingredients': 'SOYBEAN OIL, WATER, EGG YOLKS, DISTILLED AND CIDER VINEGAR, SALT, SUGAR, MUSTARD SEED, LEMON JUICE CONCENTRATE, NATURAL FLAVORS, OLEORESIN PAPRIKA, CALCIUM DISODIUM EDTA ADDED TO PROTECT FLAVOR.',\n     'allHighlightFields': '',\n     'score': 573.0992},\n    {'fdcId': 374732,\n     'description': 'MAYONNAISE',\n     'dataType': 'Branded',\n     'gtinUpc': '713733129176',\n     'publishedDate': '2019-04-01',\n     'brandOwner': 'Meijer, Inc.',\n     'ingredients': 'SOYBEAN OIL, WATER, WHOLE EGGS, EGG YOLKS, VINEGAR, CONTAINS 2% OR LESS OF: SALT, SUGAR, LEMON JUICE CONCENTRATE, CALCIUM DISODIUM EDTA (TO PROTECT FLAVOR), NATURAL FLAVORS, OLEORESIN PAPRIKA.',\n     'allHighlightFields': '',\n     'score': 573.0992},\n    {'fdcId': 462176,\n     'description': 'MAYONNAISE',\n     'dataType': 'Branded',\n     'gtinUpc': '074680006706',\n     'publishedDate': '2019-04-01',\n     'brandOwner': 'CROWNING',\n     'ingredients': 'SOYBEAN OIL. EGG YOLKS, WATER, DISTILLED VINEGAR, SPICE, SALT AND CALCIUM DISODIUM EDTA (TO PROTECT FLAVOR).',\n     'allHighlightFields': '',\n     'score': 573.0992},\n    {'fdcId': 597029,\n     'description': 'MAYONNAISE',\n     'dataType': 'Branded',\n     'gtinUpc': '015400820516',\n     'publishedDate': '2019-04-01',\n     'brandOwner': 'SHURFINE',\n     'ingredients': 'SOYBEAN OIL, WHOLE EGGS, EGG YOLKS, DISTILLED VINEGAR, WATER, SALT, SUGAR, SPICES, LEMON JUICE CONCENTRATE, AND CALCIUM DISODIUM EDTA ADDED TO PROTECT FLAVOR.',\n     'allHighlightFields': '',\n     'score': 573.0992},\n    {'fdcId': 499841,\n     'description': 'MAYONNAISE',\n     'dataType': 'Branded',\n     'gtinUpc': '021130265619',\n     'publishedDate': '2019-04-01',\n     'brandOwner': 'Safeway, Inc.',\n     'ingredients': 'SOYBEAN OIL, WATER, EGG YOLK, DISTILLED VINEGAR, CONTAINS LESS THAN 2% OF SALT, SUGAR, NATURAL FLAVOR, LEMON JUICE CONCENTRATE, CALCIUM DISODIUM EDTA TO PROTECT FLAVOR, PAPRIKA EXTRACT (FOR COLOR).',\n     'allHighlightFields': '',\n     'score': 573.0992},\n    {'fdcId': 654280,\n     'description': 'MAYONNAISE',\n     'dataType': 'Branded',\n     'gtinUpc': '045200000504',\n     'publishedDate': '2019-12-06',\n     'brandOwner': 'CAINS',\n     'ingredients': 'SOYBEAN OIL, EGG YOLKS, WATER, DISTILLED VINEGAR, SUGAR, CONTAINS 2% OR LESS OF: SALT, APPLE CIDER VINEGAR, MUSTARD FLOUR.',\n     'allHighlightFields': '',\n     'score': 573.0992},\n    {'fdcId': 479807,\n     'description': 'MAYONNAISE',\n     'dataType': 'Branded',\n     'gtinUpc': '048001450479',\n     'publishedDate': '2019-04-01',\n     'brandOwner': 'Unilever Bestfoods North America',\n     'ingredients': 'SOYBEAN OIL, WATER, WHOLE EGGS AND EGG YOLKS, VINEGAR, SLAT, SUGAR, LEMON JUICE CONCENTRATE, CALCIUM DISODIUM EDTA (USED TO PROTECT QUALITY), NATURAL FLAVORS.',\n     'allHighlightFields': '',\n     'score': 573.0992},\n    {'fdcId': 460687,\n     'description': 'MAYONNAISE',\n     'dataType': 'Branded',\n     'gtinUpc': '048001481114',\n     'publishedDate': '2019-04-01',\n     'brandOwner': 'Unilever Bestfoods North America',\n     'ingredients': 'SOYBEAN OIL, WATER, WHOLE EGGS AND EGG YOLKS, VINEGAR, SALT, SUGAR, LEMON JUICE CONCENTRATE, CALCIUM DISODIUM EDTA (USED TO PROTECT QUALITY), NATURAL FLAVORS.',\n     'allHighlightFields': '',\n     'score': 573.0992},\n    {'fdcId': 694772,\n     'description': 'MAYONNAISE',\n     'dataType': 'Branded',\n     'gtinUpc': '041130310768',\n     'publishedDate': '2019-12-06',\n     'brandOwner': 'Supervalu, Inc.',\n     'ingredients': 'SOYBEAN OIL, WATER, EGG YOLKS, VINEGAR, HIGH FRUCTOSE CORN SYRUP, CONTAINS 2% OR LESS OF: SALT, WHOLE EGGS, NATURAL FLAVOR, CALCIUM DISODIUM EDTA (TO PROTECT FLAVOR).',\n     'allHighlightFields': '',\n     'score': 573.0992},\n    {'fdcId': 469398,\n     'description': 'MAYONNAISE',\n     'dataType': 'Branded',\n     'gtinUpc': '855482006152',\n     'publishedDate': '2019-04-01',\n     'brandOwner': \"Tessemae's LLC\",\n     'ingredients': '*SUNFLOWER OIL, WATER, *CAGE FREE SALTED EGG YOLKS (*CAGE FREE EGG YOLKS, SALT), *MUSTARD (*DISTILLED VINEGAR, WATER, *MUSTARD SEED, SEA SALT, *SPICES), *LEMON JUICE, *APPLE CIDER VINEGAR, *WHITE DISTILLED VINEGAR, *WHOLE EGGS, *MUSTARD SEED, SEA SALT.',\n     'allHighlightFields': '',\n     'score': 573.0992},\n    {'fdcId': 385113,\n     'description': 'MAYONNAISE',\n     'dataType': 'Branded',\n     'gtinUpc': '481006709201',\n     'publishedDate': '2019-04-01',\n     'brandOwner': ' NO MANUFACTURER',\n     'ingredients': 'SOYBEAN OIL, WATER, WHOLE EGGS AND EGG YOLKS, VINEGAR, SALT, CONTAINS LESS THAN 2%: SUGAR, LEMON JUICE (WATER, LEMON JUICE CONCENTRATE), OLEORESIN PAPRIKA (COLOR), NATURAL FLAVORS, CALCIUM DISODIUM EDTA ADDED TO PROTECT QUALITY.',\n     'allHighlightFields': '',\n     'score': 573.0992},\n    {'fdcId': 592969,\n     'description': 'MAYONNAISE',\n     'dataType': 'Branded',\n     'gtinUpc': '5900862212489',\n     'publishedDate': '2019-04-01',\n     'brandOwner': 'WINIARY',\n     'ingredients': 'CANOLA OIL, EGG YOLK, VINEGAR, MUSTARD (WATER, MUSTARD SEEDS, VINEGAR, SALT, SUGAR, BLACK PEPPER, ALLSPICE), SUGAR, SALT, BLACK PEPPER, ANTI-OXIDANT: CALCIUM DISODIUM EDTA, ACIDITY REGULATOR: CITRIC ACID',\n     'allHighlightFields': '',\n     'score': 573.0992},\n    {'fdcId': 522918,\n     'description': 'MAYONNAISE',\n     'dataType': 'Branded',\n     'gtinUpc': '607880100372',\n     'publishedDate': '2019-04-01',\n     'brandOwner': \"Bruno's Supermarkets, Inc.\",\n     'ingredients': 'SOYBEAN OIL, WATER, EGG YOLK, DISTILLED VINEGAR, CONTAINS LESS THAN 2% OF SALT, SUGAR, NATURAL FLAVOR, LEMON JUICE CONCENTRATE, CALCIUM DISODIUM EDTA TO PROTECT FLAVOR, PAPRIKA EXTRACT (FOR COLOR).',\n     'allHighlightFields': '',\n     'score': 573.0992},\n    {'fdcId': 542519,\n     'description': 'MAYONNAISE',\n     'dataType': 'Branded',\n     'gtinUpc': '654665430810',\n     'publishedDate': '2019-04-01',\n     'brandOwner': 'CLASSIC',\n     'ingredients': 'SOYBEAN OIL, WATER, EGGS, EGG YOLKS, VINEGAR, CONTAINS 2% OR LESS OF THE FOLLOWING: SALT, SUGAR, LEMON JUICE CONCENTRATE, NATURAL FLAVOR, CALCIUM DISODIUM EDTA TO PRESERVE FLAVOR.',\n     'allHighlightFields': '',\n     'score': 573.0992},\n    {'fdcId': 526935,\n     'description': 'MAYONNAISE',\n     'dataType': 'Branded',\n     'gtinUpc': '075450127386',\n     'publishedDate': '2019-04-01',\n     'brandOwner': 'Hy-Vee, Inc.',\n     'ingredients': 'SOYBEAN OIL, WATER, EGG YOLKS, DISTILLED AND CIDER VINEGAR, SALT, SUGAR, SPICE, LEMON JUICE CONCENTRATE, NATURAL FLAVORS, OLEORESIN PAPRIKA, CALCIUM DISODIUM EDTA ADDED TO PROTECT FLAVOR.',\n     'allHighlightFields': '',\n     'score': 573.0992},\n    {'fdcId': 462346,\n     'description': 'MAYONNAISE',\n     'dataType': 'Branded',\n     'gtinUpc': '075450173765',\n     'publishedDate': '2019-04-01',\n     'brandOwner': 'Hy-Vee, Inc.',\n     'ingredients': 'SOYBEAN OIL, WATER, EGG YOLKS, DISTILLED AND CIDER VINEGAR, SALT, SUGAR, SPICE, LEMON JUICE CONCENTRATE, NATURAL FLAVORS, OLEORESIN PAPRIKA, CALCIUM DISODIUM EDTA ADDED TO PROTECT FLAVOR.',\n     'allHighlightFields': '',\n     'score': 573.0992},\n    {'fdcId': 533634,\n     'description': 'MAYONNAISE',\n     'dataType': 'Branded',\n     'gtinUpc': '078742194998',\n     'publishedDate': '2019-04-01',\n     'brandOwner': 'Wal-Mart Stores, Inc.',\n     'ingredients': 'SOYBEAN OIL, WATER, WHOLE EGGS, EGG YOLKS, VINEGAR, CONTAINS 2% OR LESS OF: SALT, SUGAR, LEMON JUICE CONCENTRATE, CALCIUM DISODIUM EDTA (TO PROTECT FLAVOR), NATURAL FLAVORS, PAPRIKA OLEORESIN.',\n     'allHighlightFields': '',\n     'score': 573.0992},\n    {'fdcId': 393716,\n     'description': 'MAYONNAISE',\n     'dataType': 'Branded',\n     'gtinUpc': '8718403012125',\n     'publishedDate': '2019-04-01',\n     'brandOwner': 'JEANBATON',\n     'ingredients': 'RAPESEED OIL, EGG YOLK, VINEGAR SUGAR, PINEAPPLE, SALT, MUSTARD SEED, THYME, TURMERIC, CINNAMON, CORIANDER, FENNEL SEEDS, CUMIN CHILI PEPPER, FENUGREEK, WATER, BETA CAROTENE [COLOR], CALCIUM DISODIUM EDTA (PRESERVATIVE).',\n     'allHighlightFields': '',\n     'score': 573.0992},\n    {'fdcId': 465821,\n     'description': 'MAYONNAISE',\n     'dataType': 'Branded',\n     'gtinUpc': '079801246870',\n     'publishedDate': '2019-04-01',\n     'brandOwner': 'The Federated Group, Inc.',\n     'ingredients': 'SOYBEAN OIL, EGGS, WATER, VINEGAR, SALT, OLEORESIN PAPRIKA AND NATURAL FLAVOR.',\n     'allHighlightFields': '',\n     'score': 573.0992},\n    {'fdcId': 372159,\n     'description': 'MAYONNAISE',\n     'dataType': 'Branded',\n     'gtinUpc': '079836487996',\n     'publishedDate': '2019-04-01',\n     'brandOwner': 'SMART & SIMPLE',\n     'ingredients': 'VEGETABLE OIL (SOYBEAN AND/OR CANOLA), WATER, WHOLE EGGS AND YOLKS, DISTILLED VINEGAR AND CIDER VINEGAR, SALT, SUGAR, CORN SYRUP, EGG WHITE SOLIDS, LEMON JUICE CONCENTRATE, NATURAL FLAVORS, MUSTARD, CALCIUM DISODIUM EDTA (TO PROTECT FLAVOR).',\n     'allHighlightFields': '',\n     'score': 573.0992},\n    {'fdcId': 622442,\n     'description': 'MAYONNAISE',\n     'dataType': 'Branded',\n     'gtinUpc': '048001213463',\n     'publishedDate': '2019-12-06',\n     'brandOwner': 'Unilever Bestfoods North America',\n     'ingredients': 'WATER, SOYBEAN OIL MODIFIED FOOD STARCH (CORN, POTATO)**, EGGS, SUGAR, VINEGAR, SALT, LEMON JUICE CONCENTRATE, SORBIC ACID** AND CALCIUM DISODIUM EDTA (USED TO PROTECT QUALITY), NATURAL FLAVOR, EXTRACTIVES OF PAPRIKA, VITAMIN E. **INGREDIENT NOT IN MAYONNAISE.',\n     'allHighlightFields': '<b>Ingredients</b>: , EXTRACTIVES OF PAPRIKA, VITAMIN E. **INGREDIENT NOT IN <em>MAYONNAISE</em>.',\n     'score': 573.0992},\n    {'fdcId': 359204,\n     'description': 'MAYONNAISE',\n     'dataType': 'Branded',\n     'gtinUpc': '050700554365',\n     'publishedDate': '2019-04-01',\n     'brandOwner': 'The Federated Group, Inc.',\n     'ingredients': 'PURE VEGETABLE SOYA OIL, EGG YOLKS, VINEGAR, WATER, SALT, SUGAR AND SPICES. ',\n     'allHighlightFields': '',\n     'score': 573.0992},\n    {'fdcId': 390548,\n     'description': 'MAYONNAISE',\n     'dataType': 'Branded',\n     'gtinUpc': '021130477371',\n     'publishedDate': '2019-04-01',\n     'brandOwner': 'Safeway, Inc.',\n     'ingredients': 'SOYBEAN OIL, WATER, WHOLE EGGS AND EGG YOLKS, VINEGAR, CONTAINS 2% OR LESS OF: SALT, SUGAR, LEMON JUICE CONCENTRATE, CALCIUM DISODIUM EDTA (USED TO PROTECT QUALITY), NATURAL FLAVOR, OLEORESIN PAPRIKA.',\n     'allHighlightFields': '',\n     'score': 573.0992},\n    {'fdcId': 458773,\n     'description': 'MAYONNAISE',\n     'dataType': 'Branded',\n     'gtinUpc': '021600103908',\n     'publishedDate': '2019-04-01',\n     'brandOwner': 'Bay Valley Foods, LLC',\n     'ingredients': 'SOYBEAN OIL, WATER, EGG YOLKS AND WHOLE EGGS, DISTILLED VINEGAR, CONTAINS LESS THAN 2% OF SALT, SUGAR, SPICE, NATURAL FLAVOR, LEMON JUICE FROM CONCENTRATE, CALCIUM DISODIUM EDTA TO PROTECT FLAVOR.',\n     'allHighlightFields': '',\n     'score': 573.0992},\n    {'fdcId': 387217,\n     'description': 'MAYONNAISE',\n     'dataType': 'Branded',\n     'gtinUpc': '026700157387',\n     'publishedDate': '2019-04-01',\n     'brandOwner': 'SAFFOLA',\n     'ingredients': 'HIGH OLEIC SAFFLOWER OIL, SOYBEAN OIL, WATER, WHOLE EGG, EGG YOLKS, DISTILLED VINEGAR, HIGH FRUCTOSE CORN SYRUP, CONTAINS LESS THAN 2% OF SALT, SPICE, NATURAL FLAVOR.',\n     'allHighlightFields': '',\n     'score': 573.0992},\n    {'fdcId': 373582,\n     'description': 'MAYONNAISE',\n     'dataType': 'Branded',\n     'gtinUpc': '035826087904',\n     'publishedDate': '2019-04-01',\n     'brandOwner': 'Food Town Stores Inc.',\n     'ingredients': 'SOYBEAN OIL, VINEGAR, EGG YOLKS, WATER, SUGAR, SALT, LEMON JUICE, CALCIUM DISODIUM EDTA (AS A PRESERVATIVE) AND NATURAL FLAVORS',\n     'allHighlightFields': '',\n     'score': 573.0992},\n    {'fdcId': 404222,\n     'description': 'MAYONNAISE',\n     'dataType': 'Branded',\n     'gtinUpc': '052100015576',\n     'publishedDate': '2019-04-01',\n     'brandOwner': 'McCormick & Company, Inc.',\n     'ingredients': 'SOYBEAN OIL, EGG YOLKS, WATER, DISTILLED VINEGAR, SUGAR, IODIZED SALT, SPICES, LIME JUICE CONCENTRATE, DISODIUM EDTA (ADDED TO PROTECT FLAVOR), EXTRACTIVES OF PAPRIKA, NATURAL FLAVOR, AND EXTRACTIVES OF RED PEPPER.',\n     'allHighlightFields': '',\n     'score': 573.0992},\n    {'fdcId': 461052,\n     'description': 'MAYONNAISE',\n     'dataType': 'Branded',\n     'gtinUpc': '052100033969',\n     'publishedDate': '2019-04-01',\n     'brandOwner': 'McCormick & Company, Inc.',\n     'ingredients': 'SOYBEAN OIL, EGG YOLKS, WATER, DISTILLED VINEGAR, SUGAR, IODIZED SALT, SPICES, LIME JUICE CONCENTRATE, DISODIUM EDTA (ADDED TO PROTECT FLAVOR), EXTRACTIVES OF PAPRIKA, NATURAL FLAVOR, AND EXTRACTIVES OF RED PEPPER.',\n     'allHighlightFields': '',\n     'score': 573.0992},\n    {'fdcId': 573844,\n     'description': 'MAYONNAISE',\n     'dataType': 'Branded',\n     'gtinUpc': '070038601296',\n     'publishedDate': '2019-04-01',\n     'brandOwner': 'BEST CHOICE',\n     'ingredients': 'SOYBEAN OIL, WATER, EGG YOLKS, DISTILLED AND CIDER VINEGAR, SALT, SUGAR, LEMON JUICE, NATURAL FLAVORS, OLEORESIN PAPRIKA, AND CALCIUM DISODIUM EDTA ADDED TO PROTECT FLAVOR.',\n     'allHighlightFields': '',\n     'score': 573.0992},\n    {'fdcId': 558445,\n     'description': 'MAYONNAISE',\n     'dataType': 'Branded',\n     'gtinUpc': '041512086717',\n     'publishedDate': '2019-04-01',\n     'brandOwner': 'FIRST STREET',\n     'ingredients': 'SOYBEAN OIL, EGG YOLKS, WATER, DISTILLED VINEGAR, HIGH FRUCTOSE CORN SYRUP, CORN SYRUP, SALT, SPICE, CALCIUM DISODIUM EDTA ADDED TO PROTECT FLAVOR.',\n     'allHighlightFields': '',\n     'score': 573.0992},\n    {'fdcId': 402255,\n     'description': 'MAYONNAISE',\n     'dataType': 'Branded',\n     'gtinUpc': '017548828119',\n     'publishedDate': '2019-04-01',\n     'brandOwner': 'MYSTIC LAKE DAIRY',\n     'ingredients': 'EXPELLER PRESSED CANOLA OIL, WHOLE EGGS, WATER, WHITE VINEGAR, EGG YOLKS, SALT, PINEAPPLE SYRUP, PEAR JUICE CONCENTRATE, PEACH JUICE CONCENTRATE.',\n     'allHighlightFields': '',\n     'score': 573.0992},\n    {'fdcId': 390639,\n     'description': 'MAYONNAISE',\n     'dataType': 'Branded',\n     'gtinUpc': '021130477326',\n     'publishedDate': '2019-04-01',\n     'brandOwner': 'Safeway, Inc.',\n     'ingredients': 'SOYBEAN OIL, WHOLE EGG AND EGG YOLK, WATER, DISTILLED VINEGAR, CONTAINS LESS THAN 2% OF SALT, SUGAR, NATURAL FLAVOR, LEMON JUICE CONCENTRATE, OLEORESIN PAPRIKA (FOR COLOR), CALCIUM DISODIUM EDTA (TO PROTECT FLAVOR).',\n     'allHighlightFields': '',\n     'score': 573.0992},\n    {'fdcId': 622482,\n     'description': 'MAYONNAISE',\n     'dataType': 'Branded',\n     'gtinUpc': '048001354289',\n     'publishedDate': '2019-12-06',\n     'brandOwner': 'Unilever Bestfoods North America',\n     'ingredients': 'WATER, SOYBEAN OIL, MODIFIED FOOD STARCH (CORN, POTATO)**, EGGS, SUGAR, VINEGAR, SALT, LEMON JUICE CONCENTRATE, SORBIC ACID** AND CALCIUM DISODIUM EDTA (USED TO PROTECT QUALITY), NATURAL FLAVOR, EXTRACTIVES OF PAPRIKA, VITAMIN E. **INGREDIENT NOT IN MAYONNAISE',\n     'allHighlightFields': '<b>Ingredients</b>: , EXTRACTIVES OF PAPRIKA, VITAMIN E. **INGREDIENT NOT IN <em>MAYONNAISE</em>',\n     'score': 573.0992},\n    {'fdcId': 479543,\n     'description': 'MAYONNAISE',\n     'dataType': 'Branded',\n     'gtinUpc': '041415434622',\n     'publishedDate': '2019-04-01',\n     'brandOwner': 'Publix Super Markets, Inc.',\n     'ingredients': 'SOYBEAN OIL, EGG YOLKS WITH SALT, WATER, VINEGAR, SUGAR, CORN SYRUP, SALT, SEASONING MIX [SALT, SPICE, ONION POWDER, GARLIC POWDER, CALCIUM DISODIUM EDTA (PRESERVATIVE)].',\n     'allHighlightFields': '',\n     'score': 573.0992},\n    {'fdcId': 407678,\n     'description': 'MAYONNAISE',\n     'dataType': 'Branded',\n     'gtinUpc': '052100034744',\n     'publishedDate': '2019-04-01',\n     'brandOwner': 'McCormick & Company, Inc.',\n     'ingredients': 'SOYBEAN OIL, WATER, EGG YOLKS, DISTILLED VINEGAR, SUGAR, MODIFIED CORN STARCH*, IODIZED SALT, SPICE, LIME JUICE CONCENTRATE, CARBOXYMETHYL CELLULOSE* (THICKENER), SORBIC ACID*, SODIUM BENZOATE*, POTASSIUM SORBATE*, AND DISODIUM EDTA (TO PROTECT QUALITY), PHOSPHORIC ACID*, BETACAROTENE* (COLOR), AND NATURAL FLAVORS.',\n     'allHighlightFields': '',\n     'score': 573.0992},\n    {'fdcId': 525821,\n     'description': 'MAYONNAISE',\n     'dataType': 'Branded',\n     'gtinUpc': '075450034752',\n     'publishedDate': '2019-04-01',\n     'brandOwner': 'Hy-Vee, Inc.',\n     'ingredients': 'SOYBEAN OIL, WATER, EGG YOLKS, DISTILLED AND CIDER VINEGAR, SALT, SUGAR, SPICE, LEMON JUICE CONCENTRATE, NATURAL FLAVORS, OLEORESIN PAPRIKA, CALCIUM DISODIUM EDTA ADDED TO PROTECT FLAVOR.',\n     'allHighlightFields': '',\n     'score': 573.0992},\n    {'fdcId': 390592,\n     'description': 'MAYONNAISE',\n     'dataType': 'Branded',\n     'gtinUpc': '021130477098',\n     'publishedDate': '2019-04-01',\n     'brandOwner': 'Safeway, Inc.',\n     'ingredients': 'SOYBEAN OIL, WATER, WHOLE EGGS AND EGG YOLKS, VINEGAR, CONTAINS 2% OR LESS OF: SALT, SUGAR, LEMON JUICE CONCENTRATE, CALCIUM DISODIUM EDTA (USED TO PROTECT QUALITY), NATURAL FLAVOR, OLEORESIN PAPRIKA.',\n     'allHighlightFields': '',\n     'score': 573.0992},\n    {'fdcId': 740980,\n     'description': 'MAYONNAISE',\n     'dataType': 'Branded',\n     'gtinUpc': '052100006819',\n     'publishedDate': '2019-12-06',\n     'brandOwner': 'McCormick & Company, Inc.',\n     'ingredients': 'SOYBEAN OIL, EGG YOLKS, WATER, DISTILLED VINEGAR, SUGAR, IODIZED SALT, SPICES, LIME JUICE CONCENTRATE, DISODIUM EDTA (ADDED TO PROTECT FLAVOR), EXTRACTIVES OF PAPRIKA, NATURAL FLAVOR, AND EXTRACTIVES OF RED PEPPER.',\n     'allHighlightFields': '',\n     'score': 573.0992},\n    {'fdcId': 691750,\n     'description': 'MAYONNAISE',\n     'dataType': 'Branded',\n     'gtinUpc': '070038334361',\n     'publishedDate': '2019-12-06',\n     'brandOwner': 'ALWAYS SAVE',\n     'ingredients': 'SOYBEAN OIL, WATER, EGG YOLKS, VINEGAR, MUSTARD, SUGAR, SALT, DEHYDRATED ONION, DEHYDRATED GARLIC, SPICE, OLEORESIN PAPRIKA, CALCIUM DISODIUM EDTA ADDED TO PROTECT COLOR.',\n     'allHighlightFields': '',\n     'score': 573.0992},\n    {'fdcId': 573834,\n     'description': 'MAYONNAISE',\n     'dataType': 'Branded',\n     'gtinUpc': '070038630524',\n     'publishedDate': '2019-04-01',\n     'brandOwner': 'BEST CHOICE',\n     'ingredients': 'WATER, OILS (SOYBEAN OIL, OLIVE OIL), MODIFIED FOOD STARCH, EGG YOLKS, DISTILLED AND CIDER VINEGAR, SUGAR, SALT, LEMON JUICE, SPICE, XANTHAN GUM, POTASSIUM SORBATE (PRESERVATIVE), D,L, ALPHA TOCOPHEROL ACETATE (VITAMIN E), BETA CAROTENE (COLOR), NATURAL FLAVORS, CALCIUM DISODIUM EDTA ADDED TO PROTECT FLAVOR.',\n     'allHighlightFields': '',\n     'score': 573.0992}]}],\n 5: [{'foodSearchCriteria': {'generalSearchInput': 'vinegar',\n    'pageNumber': 1,\n    'requireAllWords': False},\n   'totalHits': 39645,\n   'currentPage': 1,\n   'totalPages': 793,\n   'foods': [{'fdcId': 341756,\n     'description': 'Vinegar',\n     'additionalDescriptions': 'fruit-flavored vinegar; wine vinegar',\n     'dataType': 'Survey (FNDDS)',\n     'foodCode': '64401000',\n     'publishedDate': '2019-04-01',\n     'allHighlightFields': '<b>Includes</b>: fruit-flavored <em>vinegar</em>; wine <em>vinegar</em>',\n     'score': 1320.8009},\n    {'fdcId': 461738,\n     'description': 'VINEGAR',\n     'dataType': 'Branded',\n     'gtinUpc': '639246060105',\n     'publishedDate': '2019-04-01',\n     'brandOwner': 'Wine Country Kitchens',\n     'ingredients': 'WHITE WINE VINEGAR (5% ACIDITY, CONTAINS SULFITES), MANGO PUREE (MANGOES, CANE SUGAR, CITRIC AND ASCORBIC ACIDS), ORGANIC SUGAR, NATURAL FLAVOR.',\n     'allHighlightFields': '<b>Ingredients</b>: WHITE WINE <em>VINEGAR</em> (5% ACIDITY, CONTAINS SULFITES), MANGO PUREE (MANGOES, CANE SUGAR, CITRIC AND ASCORBIC ACIDS), ORGANIC SUGAR, NATURAL FLAVOR.',\n     'score': 543.1831},\n    {'fdcId': 569271,\n     'description': 'VINEGAR',\n     'dataType': 'Branded',\n     'gtinUpc': '070038309017',\n     'publishedDate': '2019-04-01',\n     'brandOwner': 'BEST CHOICE',\n     'ingredients': 'APPLE CIDER VINEGAR, DILUTED WITH WATER TO 5% ACIDITY.',\n     'allHighlightFields': '<b>Ingredients</b>: APPLE CIDER <em>VINEGAR</em>, DILUTED WITH WATER TO 5% ACIDITY.',\n     'score': 543.1831},\n    {'fdcId': 560196,\n     'description': 'VINEGAR',\n     'dataType': 'Branded',\n     'gtinUpc': '013000008129',\n     'publishedDate': '2019-04-01',\n     'brandOwner': 'Heinz USA',\n     'ingredients': 'MADE FROM THE JUICE OF APPLES, DILUTED WITH WATER TO A UNIFORM PICKLING AND TABLE STRENGTH OF 5% (50 GRAINS) ACIDITY.',\n     'allHighlightFields': '',\n     'score': 543.1831},\n    {'fdcId': 533184,\n     'description': 'VINEGAR',\n     'dataType': 'Branded',\n     'gtinUpc': '049022949317',\n     'publishedDate': '2019-04-01',\n     'brandOwner': 'Walgreens Co.',\n     'ingredients': 'APPLE CIDER VINEGAR, DILUTED WITH WATER TO 5% ACIDITY.',\n     'allHighlightFields': '<b>Ingredients</b>: APPLE CIDER <em>VINEGAR</em>, DILUTED WITH WATER TO 5% ACIDITY.',\n     'score': 543.1831},\n    {'fdcId': 458540,\n     'description': 'VINEGAR',\n     'dataType': 'Branded',\n     'gtinUpc': '035826053572',\n     'publishedDate': '2019-04-01',\n     'brandOwner': 'Food Town Stores Inc.',\n     'ingredients': 'APPLE VINEGAR DILUTED WITH WATER TO 5% ACIDITY.',\n     'allHighlightFields': '<b>Ingredients</b>: APPLE <em>VINEGAR</em> DILUTED WITH WATER TO 5% ACIDITY.',\n     'score': 543.1831},\n    {'fdcId': 463712,\n     'description': 'VINEGAR',\n     'dataType': 'Branded',\n     'gtinUpc': '833272002324',\n     'publishedDate': '2019-04-01',\n     'brandOwner': 'PGM',\n     'ingredients': 'CONCENTRATED GRAPE MUST, WINE VINEGAR [ACIDITY 6%], STRAWBERRY PUREE 8%, FLAVORING.',\n     'allHighlightFields': '<b>Ingredients</b>: CONCENTRATED GRAPE MUST, WINE <em>VINEGAR</em> [ACIDITY 6%], STRAWBERRY PUREE 8%, FLAVORING.',\n     'score': 543.1831},\n    {'fdcId': 569272,\n     'description': 'VINEGAR',\n     'dataType': 'Branded',\n     'gtinUpc': '070038309116',\n     'publishedDate': '2019-04-01',\n     'brandOwner': 'BEST CHOICE',\n     'ingredients': 'APPLE CIDER VINEGAR, DILUTED WITH WATER TO 5% ACIDITY.',\n     'allHighlightFields': '<b>Ingredients</b>: APPLE CIDER <em>VINEGAR</em>, DILUTED WITH WATER TO 5% ACIDITY.',\n     'score': 543.1831},\n    {'fdcId': 510425,\n     'description': 'VINEGAR',\n     'dataType': 'Branded',\n     'gtinUpc': '041130261015',\n     'publishedDate': '2019-04-01',\n     'brandOwner': 'Supervalu, Inc.',\n     'ingredients': 'APPLE CIDER VINEGAR (DILUTED WITH WATER TO THE UNIFORM PICKLING AND TABLE STRENGTH OF 5% ACIDITY).',\n     'allHighlightFields': '<b>Ingredients</b>: APPLE CIDER <em>VINEGAR</em> (DILUTED WITH WATER TO THE UNIFORM PICKLING AND TABLE STRENGTH OF 5% ACIDITY).',\n     'score': 543.1831},\n    {'fdcId': 545579,\n     'description': 'VINEGAR',\n     'dataType': 'Branded',\n     'gtinUpc': '013000008143',\n     'publishedDate': '2019-04-01',\n     'brandOwner': 'Heinz USA',\n     'ingredients': 'MADE FROM THE JUICE OF APPLES DILUTED WITH WATER TO A UNIFORM PICKLING AND TABLE STRENGTH OF 5% (50 GRAINS) ACIDITY.',\n     'allHighlightFields': '',\n     'score': 543.1831},\n    {'fdcId': 457837,\n     'description': 'VINEGAR',\n     'dataType': 'Branded',\n     'gtinUpc': '011150093484',\n     'publishedDate': '2019-04-01',\n     'brandOwner': \"ROUNDY'S\",\n     'ingredients': 'DISTILLED WHITE VINEGAR AND FILTERED WATER.',\n     'allHighlightFields': '<b>Ingredients</b>: DISTILLED WHITE <em>VINEGAR</em> AND FILTERED WATER.',\n     'score': 543.1831},\n    {'fdcId': 510965,\n     'description': 'VINEGAR',\n     'dataType': 'Branded',\n     'gtinUpc': '6902007505271',\n     'publishedDate': '2019-04-01',\n     'brandOwner': 'HENG SHUN',\n     'ingredients': 'WATER, GLUTIOUS RICE, WHEATBRAN, SUGAR, SALT',\n     'allHighlightFields': '',\n     'score': 543.1831},\n    {'fdcId': 507356,\n     'description': 'VINEGAR',\n     'dataType': 'Branded',\n     'gtinUpc': '07203671343',\n     'publishedDate': '2019-04-01',\n     'brandOwner': 'Harris-Teeter Inc.',\n     'ingredients': 'RED WINE VINEGAR, WATER, POTASSIUM METEBISULFITE (TO RETAIN COLOR).',\n     'allHighlightFields': '<b>Ingredients</b>: RED WINE <em>VINEGAR</em>, WATER, POTASSIUM METEBISULFITE (TO RETAIN COLOR).',\n     'score': 543.1831},\n    {'fdcId': 461854,\n     'description': 'VINEGAR',\n     'dataType': 'Branded',\n     'gtinUpc': '657579070288',\n     'publishedDate': '2019-04-01',\n     'brandOwner': 'Ortalli Spa',\n     'ingredients': 'CONCENTRATED GRAPE MUST, WINE VINEGAR, CITRIC ACID, POTASSIUM METABISULPHITE.',\n     'allHighlightFields': '<b>Ingredients</b>: CONCENTRATED GRAPE MUST, WINE <em>VINEGAR</em>, CITRIC ACID, POTASSIUM METABISULPHITE.',\n     'score': 543.1831},\n    {'fdcId': 413399,\n     'description': 'VINEGAR',\n     'dataType': 'Branded',\n     'gtinUpc': '011213030074',\n     'publishedDate': '2019-04-01',\n     'brandOwner': 'SPARTAN',\n     'ingredients': 'APPLE CIDER VINEGAR (DILUTED WITH WATER TO 5% ACIDITY).',\n     'allHighlightFields': '<b>Ingredients</b>: APPLE CIDER <em>VINEGAR</em> (DILUTED WITH WATER TO 5% ACIDITY).',\n     'score': 543.1831},\n    {'fdcId': 575686,\n     'description': 'VINEGAR',\n     'dataType': 'Branded',\n     'gtinUpc': '742287604075',\n     'publishedDate': '2019-04-01',\n     'brandOwner': 'LA TRIGUENA',\n     'ingredients': 'DISTILLED WHITE VINEGAR AND FILTERED WATER.',\n     'allHighlightFields': '<b>Ingredients</b>: DISTILLED WHITE <em>VINEGAR</em> AND FILTERED WATER.',\n     'score': 543.1831},\n    {'fdcId': 543220,\n     'description': 'VINEGAR',\n     'dataType': 'Branded',\n     'gtinUpc': '023547008056',\n     'publishedDate': '2019-04-01',\n     'brandOwner': \"EMPEROR'S KITCHEN\",\n     'ingredients': 'WATER, UME (JAPANESE PLUM), SEA SALT, SHISO (PERILLA) LEAVES.',\n     'allHighlightFields': '',\n     'score': 543.1831},\n    {'fdcId': 462224,\n     'description': 'VINEGAR',\n     'dataType': 'Branded',\n     'gtinUpc': '0700175365019',\n     'publishedDate': '2019-04-01',\n     'brandOwner': 'King & Prince Seafood Corp.',\n     'ingredients': 'ORGANIC COCONUT SAP VINEGAR, ORGANIC GARLIC.',\n     'allHighlightFields': '<b>Ingredients</b>: ORGANIC COCONUT SAP <em>VINEGAR</em>, ORGANIC GARLIC.',\n     'score': 543.1831},\n    {'fdcId': 569267,\n     'description': 'VINEGAR',\n     'dataType': 'Branded',\n     'gtinUpc': '070038583042',\n     'publishedDate': '2019-04-01',\n     'brandOwner': 'BEST CHOICE',\n     'ingredients': 'DISTILLED WHITE VINEGAR, DILUTED WITH WATER TO 5% ACIDITY.',\n     'allHighlightFields': '<b>Ingredients</b>: DISTILLED WHITE <em>VINEGAR</em>, DILUTED WITH WATER TO 5% ACIDITY.',\n     'score': 543.1831},\n    {'fdcId': 527469,\n     'description': 'VINEGAR',\n     'dataType': 'Branded',\n     'gtinUpc': '041268113842',\n     'publishedDate': '2019-04-01',\n     'brandOwner': 'Hannaford Bros. Co.',\n     'ingredients': 'APPLE VINEGAR DILUTED WITH WATER TO 5% ACIDITY.',\n     'allHighlightFields': '<b>Ingredients</b>: APPLE <em>VINEGAR</em> DILUTED WITH WATER TO 5% ACIDITY.',\n     'score': 543.1831},\n    {'fdcId': 597306,\n     'description': 'VINEGAR',\n     'dataType': 'Branded',\n     'gtinUpc': '115418008446',\n     'publishedDate': '2019-04-01',\n     'brandOwner': 'ROUSES MARKETS',\n     'ingredients': 'DISTILLED VINEGAR FROM GRAIN, NATURAL FLAVOR WITH CARAMEL COLOR, DILUTED WITH WATER TO A UNIFORM PICKLING AND TABLE STRENGTH OF 5% (50 GRAINS) ACIDITY.',\n     'allHighlightFields': '<b>Ingredients</b>: DISTILLED <em>VINEGAR</em> FROM GRAIN, NATURAL FLAVOR WITH CARAMEL COLOR, DILUTED WITH WATER TO A UNIFORM PICKLING AND TABLE STRENGTH OF 5% (50 GRAINS) ACIDITY.',\n     'score': 543.1831},\n    {'fdcId': 458428,\n     'description': 'VINEGAR',\n     'dataType': 'Branded',\n     'gtinUpc': '3003401439',\n     'publishedDate': '2019-04-01',\n     'brandOwner': 'The Purdue Frederick Company',\n     'ingredients': 'RED WINE VINEGAR (DILUTED WITH WATER TO 5% ACIDITY), POTASSIUM METABISULFITE (A PRESERVATIVE).',\n     'allHighlightFields': '<b>Ingredients</b>: RED WINE <em>VINEGAR</em> (DILUTED WITH WATER TO 5% ACIDITY), POTASSIUM METABISULFITE (A PRESERVATIVE).',\n     'score': 543.1831},\n    {'fdcId': 497955,\n     'description': 'VINEGAR',\n     'dataType': 'Branded',\n     'gtinUpc': '634039000047',\n     'publishedDate': '2019-04-01',\n     'brandOwner': 'O Olive Oil',\n     'ingredients': 'AGED CALIFORNIA ZINFANDEL VINEGAR, BING CHERRIES.',\n     'allHighlightFields': '<b>Ingredients</b>: AGED CALIFORNIA ZINFANDEL <em>VINEGAR</em>, BING CHERRIES.',\n     'score': 543.1831},\n    {'fdcId': 497139,\n     'description': 'VINEGAR',\n     'dataType': 'Branded',\n     'gtinUpc': '639246060167',\n     'publishedDate': '2019-04-01',\n     'brandOwner': 'Wine Country Kitchens',\n     'ingredients': 'CABERNET WINE VINEGAR (5% ACIDITY, CONTAINS SULFITES), CHERRY PURE (CHERRY PUREE CONCENTRATE, FILTERED WATER, CANE SUGAR, FRUIT AND VEGETABLE JUICE FOR COLOR, FRUIT PECTIN, ASCORBIC ACID), ORGANIC SUGAR AND NATURAL FLAVOR.',\n     'allHighlightFields': '<b>Ingredients</b>: CABERNET WINE <em>VINEGAR</em> (5% ACIDITY, CONTAINS SULFITES), CHERRY PURE (CHERRY PUREE CONCENTRATE',\n     'score': 543.1831},\n    {'fdcId': 507814,\n     'description': 'VINEGAR',\n     'dataType': 'Branded',\n     'gtinUpc': '783963000798',\n     'publishedDate': '2019-04-01',\n     'brandOwner': 'MICHIGAN VALLEY',\n     'ingredients': 'MADE FROM THE JUICE OF APPLES, DILUTE WITH WATER TO A UNIFORM PICK-LING AND TABLE STRENGTH OF 5% (SO GRAIN) ACIDITY.',\n     'allHighlightFields': '',\n     'score': 543.1831},\n    {'fdcId': 463711,\n     'description': 'VINEGAR',\n     'dataType': 'Branded',\n     'gtinUpc': '833272002287',\n     'publishedDate': '2019-04-01',\n     'brandOwner': 'PGM',\n     'ingredients': 'CONCENTRATED GRAPE MUST, WINE VINEGAR [ACIDITY 6%], CONCENTRATED POMEGRANATE JUICE 2%, NATURAL POMEGRANATE FLAVOR.',\n     'allHighlightFields': '<b>Ingredients</b>: CONCENTRATED GRAPE MUST, WINE <em>VINEGAR</em> [ACIDITY 6%], CONCENTRATED POMEGRANATE JUICE 2%, NATURAL POMEGRANATE FLAVOR.',\n     'score': 543.1831},\n    {'fdcId': 463714,\n     'description': 'VINEGAR',\n     'dataType': 'Branded',\n     'gtinUpc': '833272002348',\n     'publishedDate': '2019-04-01',\n     'brandOwner': 'PGM',\n     'ingredients': 'CONCENTRATED GRAPE MUST, WINE VINEGAR [ACIDITY 6%], CONCENTRATED MANGO JUICE 1%, FLAVORING.',\n     'allHighlightFields': '<b>Ingredients</b>: CONCENTRATED GRAPE MUST, WINE <em>VINEGAR</em> [ACIDITY 6%], CONCENTRATED MANGO JUICE 1%, FLAVORING.',\n     'score': 543.1831},\n    {'fdcId': 463717,\n     'description': 'VINEGAR',\n     'dataType': 'Branded',\n     'gtinUpc': '833272002409',\n     'publishedDate': '2019-04-01',\n     'brandOwner': 'PIAZZA GRANDE',\n     'ingredients': 'CONCENTRATED GRAPE MUST. WINE VINEGAR [ACIDITY 6%], BLUEBERRY PUREE 8%, FLAVORING.',\n     'allHighlightFields': '<b>Ingredients</b>: CONCENTRATED GRAPE MUST. WINE <em>VINEGAR</em> [ACIDITY 6%], BLUEBERRY PUREE 8%, FLAVORING.',\n     'score': 543.1831},\n    {'fdcId': 544388,\n     'description': 'VINEGAR',\n     'dataType': 'Branded',\n     'gtinUpc': '011213030111',\n     'publishedDate': '2019-04-01',\n     'brandOwner': 'SPARTAN',\n     'ingredients': 'APPLE CIDER VINEGAR (DILUTED WITH WATER TO 5% ACIDITY).',\n     'allHighlightFields': '<b>Ingredients</b>: APPLE CIDER <em>VINEGAR</em> (DILUTED WITH WATER TO 5% ACIDITY).',\n     'score': 543.1831},\n    {'fdcId': 459583,\n     'description': 'VINEGAR',\n     'dataType': 'Branded',\n     'gtinUpc': '071072011508',\n     'publishedDate': '2019-04-01',\n     'brandOwner': 'ALESSI',\n     'ingredients': 'RED WINE VINEGAR, GRAPE MUSTS',\n     'allHighlightFields': '<b>Ingredients</b>: RED WINE <em>VINEGAR</em>, GRAPE MUSTS',\n     'score': 543.1831},\n    {'fdcId': 526243,\n     'description': 'VINEGAR',\n     'dataType': 'Branded',\n     'gtinUpc': '041268113828',\n     'publishedDate': '2019-04-01',\n     'brandOwner': 'Hannaford Bros. Co.',\n     'ingredients': 'APPLE VINEGAR DILUTED WITH WATER TO 5% ACIDITY.',\n     'allHighlightFields': '<b>Ingredients</b>: APPLE <em>VINEGAR</em> DILUTED WITH WATER TO 5% ACIDITY.',\n     'score': 543.1831},\n    {'fdcId': 563100,\n     'description': 'VINEGAR',\n     'dataType': 'Branded',\n     'gtinUpc': '041270959186',\n     'publishedDate': '2019-04-01',\n     'brandOwner': 'Iga, Inc.',\n     'ingredients': 'APPLE CIDER VINEGAR (DILUTED WITH WATER TO 5% ACIDITY).',\n     'allHighlightFields': '<b>Ingredients</b>: APPLE CIDER <em>VINEGAR</em> (DILUTED WITH WATER TO 5% ACIDITY).',\n     'score': 543.1831},\n    {'fdcId': 583595,\n     'description': 'VINEGAR',\n     'dataType': 'Branded',\n     'gtinUpc': '038259116890',\n     'publishedDate': '2019-04-01',\n     'brandOwner': 'SE GROCERS',\n     'ingredients': 'APPLE CIDER VINEGAR, DILUTED WITH WATER TO 5% ACIDITY.',\n     'allHighlightFields': '<b>Ingredients</b>: APPLE CIDER <em>VINEGAR</em>, DILUTED WITH WATER TO 5% ACIDITY.',\n     'score': 543.1831},\n    {'fdcId': 571113,\n     'description': 'VINEGAR',\n     'dataType': 'Branded',\n     'gtinUpc': '04656700467',\n     'publishedDate': '2019-04-01',\n     'brandOwner': \"Raley's\",\n     'ingredients': 'RED WINE VINEGAR, POTASSIUM METABISULFITE (A PRESERVATIVE), DILUTED WITH WATER TO 5% ACIDITY.',\n     'allHighlightFields': '<b>Ingredients</b>: RED WINE <em>VINEGAR</em>, POTASSIUM METABISULFITE (A PRESERVATIVE), DILUTED WITH WATER TO 5% ACIDITY.',\n     'score': 543.1831},\n    {'fdcId': 526053,\n     'description': 'VINEGAR',\n     'dataType': 'Branded',\n     'gtinUpc': '041268114931',\n     'publishedDate': '2019-04-01',\n     'brandOwner': 'Hannaford Bros. Co.',\n     'ingredients': 'RED WINE VINEGAR REDUCED WITH WATER TO 5% ACIDITY NATURALLY OCCURRING TRACE ELEMENTS OF SULFITES.',\n     'allHighlightFields': '<b>Ingredients</b>: RED WINE <em>VINEGAR</em> REDUCED WITH WATER TO 5% ACIDITY NATURALLY OCCURRING TRACE ELEMENTS OF SULFITES.',\n     'score': 543.1831},\n    {'fdcId': 570066,\n     'description': 'VINEGAR',\n     'dataType': 'Branded',\n     'gtinUpc': '688267059391',\n     'publishedDate': '2019-04-01',\n     'brandOwner': 'Ahold Usa, Inc.',\n     'ingredients': 'WINE VINEGAR, CONCENTRATED GRAPE MUST, CARAMEL (COLOR).',\n     'allHighlightFields': '<b>Ingredients</b>: WINE <em>VINEGAR</em>, CONCENTRATED GRAPE MUST, CARAMEL (COLOR).',\n     'score': 543.1831},\n    {'fdcId': 172241,\n     'description': 'Vinegar, balsamic',\n     'dataType': 'SR Legacy',\n     'ndbNumber': '2069',\n     'publishedDate': '2019-04-01',\n     'allHighlightFields': '',\n     'score': 352.35016},\n    {'fdcId': 173469,\n     'description': 'Vinegar, cider',\n     'dataType': 'SR Legacy',\n     'ndbNumber': '2048',\n     'publishedDate': '2019-04-01',\n     'allHighlightFields': '',\n     'score': 352.35016},\n    {'fdcId': 172237,\n     'description': 'Vinegar, distilled',\n     'dataType': 'SR Legacy',\n     'ndbNumber': '2053',\n     'publishedDate': '2019-04-01',\n     'allHighlightFields': '',\n     'score': 352.35016},\n    {'fdcId': 172240,\n     'description': 'Vinegar, red wine',\n     'dataType': 'SR Legacy',\n     'ndbNumber': '2068',\n     'publishedDate': '2019-04-01',\n     'allHighlightFields': '',\n     'score': 316.23383},\n    {'fdcId': 343893,\n     'description': 'Italian dressing, made with vinegar and oil',\n     'additionalDescriptions': 'red wine, balsamic, or raspberry vinegar dressing; vinaigrette dressing; vinegar and oil; Italian dressing, NFS; Greek dressing; Feta cheese dressing; Champagne dressing; celery seed dressing; onion or Vidalia onion dressing',\n     'dataType': 'Survey (FNDDS)',\n     'foodCode': '83106000',\n     'publishedDate': '2019-04-01',\n     'allHighlightFields': '<b>Includes</b>: red wine, balsamic, or raspberry <em>vinegar</em> dressing; vinaigrette dressing; <em>vinegar</em> and oil; Italian',\n     'score': 271.00058},\n    {'fdcId': 342661,\n     'description': 'Cucumber salad made with cucumber and vinegar',\n     'additionalDescriptions': 'with onions',\n     'dataType': 'Survey (FNDDS)',\n     'foodCode': '75142600',\n     'publishedDate': '2019-04-01',\n     'allHighlightFields': '',\n     'score': 262.47763},\n    {'fdcId': 171417,\n     'description': 'Salad dressing, home recipe, vinegar and oil',\n     'dataType': 'SR Legacy',\n     'ndbNumber': '4135',\n     'publishedDate': '2019-04-01',\n     'allHighlightFields': '',\n     'score': 241.93463},\n    {'fdcId': 336804,\n     'description': 'Mozzarella cheese, tomato, and basil, with oil and vinegar dressing',\n     'additionalDescriptions': 'Caprese Salad',\n     'dataType': 'Survey (FNDDS)',\n     'foodCode': '14670000',\n     'publishedDate': '2019-04-01',\n     'allHighlightFields': '',\n     'score': 224.3844},\n    {'fdcId': 342574,\n     'description': 'Tomato and cucumber salad made with tomato, cucumber, oil, and vinegar',\n     'additionalDescriptions': 'with onions',\n     'dataType': 'Survey (FNDDS)',\n     'foodCode': '74506000',\n     'publishedDate': '2019-04-01',\n     'allHighlightFields': '',\n     'score': 209.21738},\n    {'fdcId': 342658,\n     'description': 'Cucumber and vegetable namasu',\n     'additionalDescriptions': 'cucumbers, carrots and mushrooms in vinegar',\n     'dataType': 'Survey (FNDDS)',\n     'foodCode': '75142000',\n     'publishedDate': '2019-04-01',\n     'allHighlightFields': '<b>Includes</b>: cucumbers, carrots and mushrooms in <em>vinegar</em>',\n     'score': 21.422092},\n    {'fdcId': 338541,\n     'description': 'Codfish salad, Puerto Rican style (Serenata)',\n     'additionalDescriptions': 'oil, vinegar, onion, olives, tomatoes',\n     'dataType': 'Survey (FNDDS)',\n     'foodCode': '27451070',\n     'publishedDate': '2019-04-01',\n     'allHighlightFields': '<b>Includes</b>: oil, <em>vinegar</em>, onion, olives, tomatoes',\n     'score': 20.058357},\n    {'fdcId': 342649,\n     'description': 'Cabbage salad or coleslaw, made with Italian dressing',\n     'additionalDescriptions': 'vinegar and oil; vinaigrette; Greek dressing; onion or Vidalia onion dressing; Champagne dressing; celery seed dressing; red wine, balsamic, or raspberry vinegar dressing',\n     'dataType': 'Survey (FNDDS)',\n     'foodCode': '75141020',\n     'publishedDate': '2019-04-01',\n     'allHighlightFields': '<b>Includes</b>: <em>vinegar</em> and oil; vinaigrette; Greek dressing; onion or Vidalia onion dressing; Champagne dressing',\n     'score': 16.161438},\n    {'fdcId': 338477,\n     'description': 'Chicken or turkey salad, made with Italian dressing',\n     'additionalDescriptions': 'vinegar and oil; vinaigrette; Greek dressing; onion or Vidalia onion dressing; Champagne dressing; celery seed dressing; red wine, balsamic, or raspberry vinegar dressing',\n     'dataType': 'Survey (FNDDS)',\n     'foodCode': '27446250',\n     'publishedDate': '2019-04-01',\n     'allHighlightFields': '<b>Includes</b>: <em>vinegar</em> and oil; vinaigrette; Greek dressing; onion or Vidalia onion dressing; Champagne dressing',\n     'score': 16.161438},\n    {'fdcId': 339035,\n     'description': 'Egg salad, made with Italian dressing',\n     'additionalDescriptions': 'vinegar and oil; vinaigrette; Greek dressing; onion or Vidalia onion dressing; Champagne dressing; celery seed dressing; red wine, balsamic, or raspberry vinegar dressing',\n     'dataType': 'Survey (FNDDS)',\n     'foodCode': '32103040',\n     'publishedDate': '2019-04-01',\n     'allHighlightFields': '<b>Includes</b>: <em>vinegar</em> and oil; vinaigrette; Greek dressing; onion or Vidalia onion dressing; Champagne dressing',\n     'score': 16.161438}]}],\n 6: [{'foodSearchCriteria': {'generalSearchInput': 'salt',\n    'pageNumber': 1,\n    'requireAllWords': False},\n   'totalHits': 189527,\n   'currentPage': 1,\n   'totalPages': 3791,\n   'foods': [{'fdcId': 509410,\n     'description': 'SALT',\n     'dataType': 'Branded',\n     'gtinUpc': '039545008547',\n     'publishedDate': '2019-04-01',\n     'brandOwner': 'Seitenbacher',\n     'ingredients': 'DEAD-SEA-SALT, USDA-ORGANIC RED PEPPER, USDA-ORGANIC CHILI.',\n     'allHighlightFields': '<b>Ingredients</b>: DEAD-SEA-<em>SALT</em>, USDA-ORGANIC RED PEPPER, USDA-ORGANIC CHILI.',\n     'score': 494.59232},\n    {'fdcId': 394689,\n     'description': 'SALT',\n     'dataType': 'Branded',\n     'gtinUpc': '024600010016',\n     'publishedDate': '2019-04-01',\n     'brandOwner': 'Morton Salt, Inc.',\n     'ingredients': 'SALT, CALCIUM SILICATE (AN ANTICAKING AGENT)',\n     'allHighlightFields': '<b>Brand Owner</b>: Morton <em>Salt</em>, Inc.<br/><b>Ingredients</b>: <em>SALT</em>, CALCIUM SILICATE (AN ANTICAKING AGENT)',\n     'score': 494.59232},\n    {'fdcId': 704294,\n     'description': 'SALT',\n     'dataType': 'Branded',\n     'gtinUpc': '070253296000',\n     'publishedDate': '2019-12-06',\n     'brandOwner': 'Nash Finch Company',\n     'ingredients': 'SALT, SODIUM SILICOALUMINATE.',\n     'allHighlightFields': '<b>Ingredients</b>: <em>SALT</em>, SODIUM SILICOALUMINATE.',\n     'score': 494.59232},\n    {'fdcId': 556318,\n     'description': 'SALT',\n     'dataType': 'Branded',\n     'gtinUpc': '07203631020',\n     'publishedDate': '2019-04-01',\n     'brandOwner': 'Harris-Teeter Inc.',\n     'ingredients': 'SALT, SODIUM SILICOALUMINATE.',\n     'allHighlightFields': '<b>Ingredients</b>: <em>SALT</em>, SODIUM SILICOALUMINATE.',\n     'score': 494.59232},\n    {'fdcId': 596928,\n     'description': 'SALT',\n     'dataType': 'Branded',\n     'gtinUpc': '015400840293',\n     'publishedDate': '2019-04-01',\n     'brandOwner': 'SHURFINE',\n     'ingredients': 'SALT AND YELLOW PRUSSIATE OF SODA.',\n     'allHighlightFields': '<b>Ingredients</b>: <em>SALT</em> AND YELLOW PRUSSIATE OF SODA.',\n     'score': 494.59232},\n    {'fdcId': 448728,\n     'description': 'SALT',\n     'dataType': 'Branded',\n     'gtinUpc': '041268198900',\n     'publishedDate': '2019-04-01',\n     'brandOwner': 'Hannaford Bros. Co.',\n     'ingredients': 'SALT AND SODIUM SILICOALUMINATE.',\n     'allHighlightFields': '<b>Ingredients</b>: <em>SALT</em> AND SODIUM SILICOALUMINATE.',\n     'score': 494.59232},\n    {'fdcId': 401059,\n     'description': 'SALT',\n     'dataType': 'Branded',\n     'gtinUpc': '041303019597',\n     'publishedDate': '2019-04-01',\n     'brandOwner': 'Supervalu, Inc.',\n     'ingredients': 'SALT, SODIUM SILICOALUMINATE.',\n     'allHighlightFields': '<b>Ingredients</b>: <em>SALT</em>, SODIUM SILICOALUMINATE.',\n     'score': 494.59232},\n    {'fdcId': 574441,\n     'description': 'SALT',\n     'dataType': 'Branded',\n     'gtinUpc': '652010000053',\n     'publishedDate': '2019-04-01',\n     'brandOwner': 'SUPERIOR CRYSTAL',\n     'ingredients': 'SALT, SODIUM SILICOALUMINATE.',\n     'allHighlightFields': '<b>Ingredients</b>: <em>SALT</em>, SODIUM SILICOALUMINATE.',\n     'score': 494.59232},\n    {'fdcId': 561079,\n     'description': 'SALT',\n     'dataType': 'Branded',\n     'gtinUpc': '688267071539',\n     'publishedDate': '2019-04-01',\n     'brandOwner': 'Ahold Usa, Inc.',\n     'ingredients': 'SALT, SODIUM SILICOALUMINATE.',\n     'allHighlightFields': '<b>Ingredients</b>: <em>SALT</em>, SODIUM SILICOALUMINATE.',\n     'score': 494.59232},\n    {'fdcId': 568630,\n     'description': 'SALT',\n     'dataType': 'Branded',\n     'gtinUpc': '024600010511',\n     'publishedDate': '2019-04-01',\n     'brandOwner': 'Morton Salt, Inc.',\n     'ingredients': 'SALT, CALCIUM SILICATE (AN ANTI-CAKING AGENT)',\n     'allHighlightFields': '<b>Brand Owner</b>: Morton <em>Salt</em>, Inc.<br/><b>Ingredients</b>: <em>SALT</em>, CALCIUM SILICATE (AN ANTI-CAKING AGENT)',\n     'score': 494.59232},\n    {'fdcId': 361591,\n     'description': 'SALT',\n     'dataType': 'Branded',\n     'gtinUpc': '036800500143',\n     'publishedDate': '2019-04-01',\n     'brandOwner': 'Topco Associates, Inc.',\n     'ingredients': 'SALT AND YELLOW PRUSSIATE OF SODA.',\n     'allHighlightFields': '<b>Ingredients</b>: <em>SALT</em> AND YELLOW PRUSSIATE OF SODA.',\n     'score': 494.59232},\n    {'fdcId': 450069,\n     'description': 'SALT',\n     'dataType': 'Branded',\n     'gtinUpc': '074317003337',\n     'publishedDate': '2019-04-01',\n     'brandOwner': 'Gateway Foods Inc',\n     'ingredients': 'SALT, GARLIC POWDER, TRICALCIUM PHOSPHATE (TO MAKE FREE FLOWING).',\n     'allHighlightFields': '<b>Ingredients</b>: <em>SALT</em>, GARLIC POWDER, TRICALCIUM PHOSPHATE (TO MAKE FREE FLOWING).',\n     'score': 494.59232},\n    {'fdcId': 450276,\n     'description': 'SALT',\n     'dataType': 'Branded',\n     'gtinUpc': '430000571192',\n     'publishedDate': '2019-04-01',\n     'brandOwner': 'CLOVER VALLEY',\n     'ingredients': 'SALT AND SODIUM SILICOALUMINATE.',\n     'allHighlightFields': '<b>Ingredients</b>: <em>SALT</em> AND SODIUM SILICOALUMINATE.',\n     'score': 494.59232},\n    {'fdcId': 390965,\n     'description': 'SALT',\n     'dataType': 'Branded',\n     'gtinUpc': '078742352206',\n     'publishedDate': '2019-04-01',\n     'brandOwner': 'Wal-Mart Stores, Inc.',\n     'ingredients': 'SALT, SODIUM SILICOALUMINATE.',\n     'allHighlightFields': '<b>Ingredients</b>: <em>SALT</em>, SODIUM SILICOALUMINATE.',\n     'score': 494.59232},\n    {'fdcId': 472490,\n     'description': 'SALT',\n     'dataType': 'Branded',\n     'gtinUpc': '018894500339',\n     'publishedDate': '2019-04-01',\n     'brandOwner': 'Big Y Foods, Inc.',\n     'ingredients': 'SALT, SODIUM SILICOALUMINATE.',\n     'allHighlightFields': '<b>Ingredients</b>: <em>SALT</em>, SODIUM SILICOALUMINATE.',\n     'score': 494.59232},\n    {'fdcId': 450158,\n     'description': 'SALT',\n     'dataType': 'Branded',\n     'gtinUpc': '075450047516',\n     'publishedDate': '2019-04-01',\n     'brandOwner': 'Hy-Vee, Inc.',\n     'ingredients': 'SALT, SODIUM SILICOALUMINATE.',\n     'allHighlightFields': '<b>Ingredients</b>: <em>SALT</em>, SODIUM SILICOALUMINATE.',\n     'score': 494.59232},\n    {'fdcId': 623878,\n     'description': 'SALT',\n     'dataType': 'Branded',\n     'gtinUpc': '041250946809',\n     'publishedDate': '2019-12-06',\n     'brandOwner': 'Meijer, Inc.',\n     'ingredients': 'SALT, YELLOW PRUSSIATE OF SODA',\n     'allHighlightFields': '<b>Ingredients</b>: <em>SALT</em>, YELLOW PRUSSIATE OF SODA',\n     'score': 494.59232},\n    {'fdcId': 382131,\n     'description': 'SALT',\n     'dataType': 'Branded',\n     'gtinUpc': '041497400980',\n     'publishedDate': '2019-04-01',\n     'brandOwner': 'Weis Markets, Inc.',\n     'ingredients': 'SALT, SODIUM SILICOALUMINATE.',\n     'allHighlightFields': '<b>Ingredients</b>: <em>SALT</em>, SODIUM SILICOALUMINATE.',\n     'score': 494.59232},\n    {'fdcId': 580779,\n     'description': 'SALT',\n     'dataType': 'Branded',\n     'gtinUpc': '024600011006',\n     'publishedDate': '2019-04-01',\n     'brandOwner': 'Morton Salt, Inc.',\n     'ingredients': 'SALT, CALCIUM SILICATE (AN ANTICAKING AGENT)',\n     'allHighlightFields': '<b>Brand Owner</b>: Morton <em>Salt</em>, Inc.<br/><b>Ingredients</b>: <em>SALT</em>, CALCIUM SILICATE (AN ANTICAKING AGENT)',\n     'score': 494.59232},\n    {'fdcId': 451908,\n     'description': 'SALT',\n     'dataType': 'Branded',\n     'gtinUpc': '803133110031',\n     'publishedDate': '2019-04-01',\n     'brandOwner': 'CELUSAL',\n     'ingredients': 'SALT, SODIUM THIOSULFATE, SODIUM CARBONATE AND POTASSIUM IODIDE.',\n     'allHighlightFields': '<b>Ingredients</b>: <em>SALT</em>, SODIUM THIOSULFATE, SODIUM CARBONATE AND POTASSIUM IODIDE.',\n     'score': 494.59232},\n    {'fdcId': 173410,\n     'description': 'Butter, salted',\n     'dataType': 'SR Legacy',\n     'ndbNumber': '1001',\n     'publishedDate': '2019-04-01',\n     'allHighlightFields': '',\n     'score': 255.84395},\n    {'fdcId': 173468,\n     'description': 'Salt, table',\n     'dataType': 'SR Legacy',\n     'ndbNumber': '2047',\n     'publishedDate': '2019-04-01',\n     'allHighlightFields': '',\n     'score': 255.84395},\n    {'fdcId': 337608,\n     'description': 'Cod, dried, salted, salt removed in water',\n     'dataType': 'Survey (FNDDS)',\n     'foodCode': '26109180',\n     'publishedDate': '2019-04-01',\n     'allHighlightFields': '',\n     'score': 249.47684},\n    {'fdcId': 339438,\n     'description': 'Mixed nuts, salted',\n     'additionalDescriptions': 'plain, salted; NS as to salt',\n     'dataType': 'Survey (FNDDS)',\n     'foodCode': '42110015',\n     'publishedDate': '2019-04-01',\n     'allHighlightFields': '<b>Includes</b>: plain, <em>salted</em>; NS as to <em>salt</em>',\n     'score': 246.74149},\n    {'fdcId': 339457,\n     'description': 'Walnuts, roasted, salted',\n     'additionalDescriptions': 'plain, salted; NS as to salt',\n     'dataType': 'Survey (FNDDS)',\n     'foodCode': '42116050',\n     'publishedDate': '2019-04-01',\n     'allHighlightFields': '<b>Includes</b>: plain, <em>salted</em>; NS as to <em>salt</em>',\n     'score': 246.74149},\n    {'fdcId': 343813,\n     'description': 'Butter, stick, salted',\n     'additionalDescriptions': 'stick butter, NS as to salt; butter, seasoned, e.g., garlic butter; salted butter, NS as to stick or tub; Land O Lakes Salted Stick Butter',\n     'dataType': 'Survey (FNDDS)',\n     'foodCode': '81101000',\n     'publishedDate': '2019-04-01',\n     'allHighlightFields': '<b>Includes</b>: stick butter, NS as to <em>salt</em>; butter, seasoned, e.g., garlic butter; <em>salted</em> butter, NS as to stick or tub; Land O Lakes <em>Salted</em> Stick Butter',\n     'score': 240.62422},\n    {'fdcId': 343823,\n     'description': 'Margarine, stick, salted',\n     'additionalDescriptions': \"margarine, stick, NS as to salt; salted margarine, NS as to stick or tub; Chiffon Soft Stick Margarine; Fleischmann's Stick Margarine; Imperial Stick Margarine; Mazola Corn Oil Stick Margarine; Canola Sunrise Margarine; Land O Lakes Margarine\",\n     'dataType': 'Survey (FNDDS)',\n     'foodCode': '81102010',\n     'publishedDate': '2019-04-01',\n     'allHighlightFields': '<b>Includes</b>: margarine, stick, NS as to <em>salt</em>; <em>salted</em> margarine, NS as to stick or tub; Chiffon Soft Stick',\n     'score': 236.04889},\n    {'fdcId': 343824,\n     'description': 'Margarine, tub, salted',\n     'additionalDescriptions': \"margarine, tub, NS as to salt; Mrs. Filberts; Soft Fleischmann's Margarine; Parkay Soft Margarine; Land O Lakes Margarine\",\n     'dataType': 'Survey (FNDDS)',\n     'foodCode': '81102020',\n     'publishedDate': '2019-04-01',\n     'allHighlightFields': \"<b>Includes</b>: margarine, tub, NS as to <em>salt</em>; Mrs. Filberts; Soft Fleischmann's Margarine; Parkay Soft Margarine; Land O Lakes Margarine\",\n     'score': 235.64204},\n    {'fdcId': 173411,\n     'description': 'Butter, whipped, with salt',\n     'dataType': 'SR Legacy',\n     'ndbNumber': '1002',\n     'publishedDate': '2019-04-01',\n     'allHighlightFields': '',\n     'score': 229.64778},\n    {'fdcId': 173430,\n     'description': 'Butter, without salt',\n     'dataType': 'SR Legacy',\n     'ndbNumber': '1145',\n     'publishedDate': '2019-04-01',\n     'allHighlightFields': '',\n     'score': 229.64778},\n    {'fdcId': 343653,\n     'description': 'Cabbage, mustard, salted',\n     'dataType': 'Survey (FNDDS)',\n     'foodCode': '75502550',\n     'publishedDate': '2019-04-01',\n     'allHighlightFields': '',\n     'score': 229.64778},\n    {'fdcId': 169891,\n     'description': 'Cabbage, mustard, salted',\n     'dataType': 'SR Legacy',\n     'ndbNumber': '43144',\n     'publishedDate': '2019-04-01',\n     'allHighlightFields': '',\n     'score': 229.64778},\n    {'fdcId': 337607,\n     'description': 'Cod, dried, salted',\n     'dataType': 'Survey (FNDDS)',\n     'foodCode': '26109170',\n     'publishedDate': '2019-04-01',\n     'allHighlightFields': '',\n     'score': 229.64778},\n    {'fdcId': 168149,\n     'description': 'Fish, mackerel, salted',\n     'dataType': 'SR Legacy',\n     'ndbNumber': '83110',\n     'publishedDate': '2019-04-01',\n     'allHighlightFields': '',\n     'score': 229.64778},\n    {'fdcId': 337674,\n     'description': 'Herring, dried, salted',\n     'additionalDescriptions': 'alewife; milkfish; shad',\n     'dataType': 'Survey (FNDDS)',\n     'foodCode': '26119170',\n     'publishedDate': '2019-04-01',\n     'allHighlightFields': '',\n     'score': 229.64778},\n    {'fdcId': 168129,\n     'description': 'Jellyfish, dried, salted',\n     'dataType': 'SR Legacy',\n     'ndbNumber': '43497',\n     'publishedDate': '2019-04-01',\n     'allHighlightFields': '',\n     'score': 229.64778},\n    {'fdcId': 339446,\n     'description': 'Peanuts, roasted, salted',\n     'dataType': 'Survey (FNDDS)',\n     'foodCode': '42111100',\n     'publishedDate': '2019-04-01',\n     'allHighlightFields': '',\n     'score': 229.64778},\n    {'fdcId': 170527,\n     'description': 'Pumpkin, canned, with salt',\n     'dataType': 'SR Legacy',\n     'ndbNumber': '11846',\n     'publishedDate': '2019-04-01',\n     'allHighlightFields': '',\n     'score': 229.64778},\n    {'fdcId': 336982,\n     'description': 'Salt pork, cooked',\n     'dataType': 'Survey (FNDDS)',\n     'foodCode': '22621000',\n     'publishedDate': '2019-04-01',\n     'allHighlightFields': '',\n     'score': 229.64778},\n    {'fdcId': 746775,\n     'description': 'Salt, table, iodized',\n     'dataType': 'Foundation',\n     'ndbNumber': '2047',\n     'publishedDate': '2019-12-16',\n     'allHighlightFields': '',\n     'score': 229.64778},\n    {'fdcId': 170543,\n     'description': 'Taro, cooked, with salt',\n     'dataType': 'SR Legacy',\n     'ndbNumber': '11878',\n     'publishedDate': '2019-04-01',\n     'allHighlightFields': '',\n     'score': 229.64778},\n    {'fdcId': 339420,\n     'description': 'Almonds, dry roasted, salted',\n     'additionalDescriptions': 'plain, salted; NS as to salt',\n     'dataType': 'Survey (FNDDS)',\n     'foodCode': '42101200',\n     'publishedDate': '2019-04-01',\n     'allHighlightFields': '<b>Includes</b>: plain, <em>salted</em>; NS as to <em>salt</em>',\n     'score': 225.84677},\n    {'fdcId': 339425,\n     'description': 'Cashew nuts, roasted, salted',\n     'additionalDescriptions': 'plain, salted; NS as to salt',\n     'dataType': 'Survey (FNDDS)',\n     'foodCode': '42104100',\n     'publishedDate': '2019-04-01',\n     'allHighlightFields': '<b>Includes</b>: plain, <em>salted</em>; NS as to <em>salt</em>',\n     'score': 225.84677},\n    {'fdcId': 339435,\n     'description': 'Macadamia nuts, roasted, salted',\n     'additionalDescriptions': 'plain, salted; NS as to salt',\n     'dataType': 'Survey (FNDDS)',\n     'foodCode': '42109100',\n     'publishedDate': '2019-04-01',\n     'allHighlightFields': '<b>Includes</b>: plain, <em>salted</em>; NS as to <em>salt</em>',\n     'score': 225.84677},\n    {'fdcId': 339448,\n     'description': 'Peanuts, dry roasted, salted',\n     'additionalDescriptions': 'plain, salted; NS as to salt',\n     'dataType': 'Survey (FNDDS)',\n     'foodCode': '42111200',\n     'publishedDate': '2019-04-01',\n     'allHighlightFields': '<b>Includes</b>: plain, <em>salted</em>; NS as to <em>salt</em>',\n     'score': 225.84677},\n    {'fdcId': 339454,\n     'description': 'Pistachio nuts, roasted, salted',\n     'additionalDescriptions': 'plain, salted; NS as to salt',\n     'dataType': 'Survey (FNDDS)',\n     'foodCode': '42114140',\n     'publishedDate': '2019-04-01',\n     'allHighlightFields': '<b>Includes</b>: plain, <em>salted</em>; NS as to <em>salt</em>',\n     'score': 225.84677},\n    {'fdcId': 343815,\n     'description': 'Butter, whipped, stick, salted',\n     'additionalDescriptions': 'NS as to salt',\n     'dataType': 'Survey (FNDDS)',\n     'foodCode': '81101020',\n     'publishedDate': '2019-04-01',\n     'allHighlightFields': '<b>Includes</b>: NS as to <em>salt</em>',\n     'score': 223.77293},\n    {'fdcId': 339439,\n     'description': 'Mixed nuts, without salt',\n     'additionalDescriptions': 'plain, without salt',\n     'dataType': 'Survey (FNDDS)',\n     'foodCode': '42110020',\n     'publishedDate': '2019-04-01',\n     'allHighlightFields': '<b>Includes</b>: plain, without <em>salt</em>',\n     'score': 222.2698},\n    {'fdcId': 339458,\n     'description': 'Walnuts, roasted, without salt',\n     'additionalDescriptions': 'plain, without salt',\n     'dataType': 'Survey (FNDDS)',\n     'foodCode': '42116055',\n     'publishedDate': '2019-04-01',\n     'allHighlightFields': '<b>Includes</b>: plain, without <em>salt</em>',\n     'score': 222.2698},\n    {'fdcId': 343814,\n     'description': 'Butter, whipped, tub, salted',\n     'additionalDescriptions': 'NS as to salt; NS as to stick or tub; whipped butter, NFS; salted tub butter',\n     'dataType': 'Survey (FNDDS)',\n     'foodCode': '81101010',\n     'publishedDate': '2019-04-01',\n     'allHighlightFields': '<b>Includes</b>: NS as to <em>salt</em>; NS as to stick or tub; whipped butter, NFS; <em>salted</em> tub butter',\n     'score': 220.5746}]}],\n 7: [{'foodSearchCriteria': {'generalSearchInput': 'dill',\n    'pageNumber': 1,\n    'requireAllWords': False},\n   'totalHits': 2064,\n   'currentPage': 1,\n   'totalPages': 42,\n   'foods': [{'fdcId': 324653,\n     'description': 'Pickles, cucumber, dill or kosher dill',\n     'dataType': 'Foundation',\n     'ndbNumber': '11937',\n     'publishedDate': '2019-04-01',\n     'allHighlightFields': '',\n     'score': 382.33276},\n    {'fdcId': 168558,\n     'description': 'Pickles, cucumber, dill or kosher dill',\n     'dataType': 'SR Legacy',\n     'ndbNumber': '11937',\n     'publishedDate': '2019-04-01',\n     'allHighlightFields': '',\n     'score': 382.33276},\n    {'fdcId': 343654,\n     'description': 'Cucumber pickles, dill',\n     'additionalDescriptions': 'pickles, NFS; Vlasic Sandwich Stackers; sandwich stuffers and toppers',\n     'dataType': 'Survey (FNDDS)',\n     'foodCode': '75503010',\n     'publishedDate': '2019-04-01',\n     'allHighlightFields': '',\n     'score': 332.3023},\n    {'fdcId': 172233,\n     'description': 'Dill weed, fresh',\n     'scientificName': 'Anethum graveolens',\n     'dataType': 'SR Legacy',\n     'ndbNumber': '2045',\n     'publishedDate': '2019-04-01',\n     'allHighlightFields': '',\n     'score': 332.3023},\n    {'fdcId': 170925,\n     'description': 'Spices, dill seed',\n     'scientificName': 'Anethum graveolens',\n     'dataType': 'SR Legacy',\n     'ndbNumber': '2016',\n     'publishedDate': '2019-04-01',\n     'allHighlightFields': '',\n     'score': 332.3023},\n    {'fdcId': 171322,\n     'description': 'Spices, dill weed, dried',\n     'scientificName': 'Anethum graveolens',\n     'dataType': 'SR Legacy',\n     'ndbNumber': '2017',\n     'publishedDate': '2019-04-01',\n     'allHighlightFields': '',\n     'score': 301.42114},\n    {'fdcId': 343662,\n     'description': 'Cucumber pickles, dill, reduced salt',\n     'additionalDescriptions': 'reduced salt pickles, NFS; Vlasic Half the Salt Kosher Crunchy Dill Spears; Vlasic Half the Salt Hamburger Dill Chips',\n     'dataType': 'Survey (FNDDS)',\n     'foodCode': '75503110',\n     'publishedDate': '2019-04-01',\n     'allHighlightFields': '<b>Includes</b>: reduced salt pickles, NFS; Vlasic Half the Salt Kosher Crunchy <em>Dill</em> Spears; Vlasic Half the Salt Hamburger <em>Dill</em> Chips',\n     'score': 292.7427},\n    {'fdcId': 168563,\n     'description': 'Pickles, cucumber, dill, reduced sodium',\n     'dataType': 'SR Legacy',\n     'ndbNumber': '11947',\n     'publishedDate': '2019-04-01',\n     'allHighlightFields': '',\n     'score': 275.80603},\n    {'fdcId': 338662,\n     'description': 'Pork sandwich, on white roll, with onions, dill pickles and barbecue sauce',\n     'additionalDescriptions': \"McDonald's McRib sandwich\",\n     'dataType': 'Survey (FNDDS)',\n     'foodCode': '27520500',\n     'publishedDate': '2019-04-01',\n     'allHighlightFields': '',\n     'score': 205.9177},\n    {'fdcId': 343657,\n     'description': 'Cucumber pickles, sweet',\n     'additionalDescriptions': 'candied dill spears; semi-sweet; gherkin; bread and butter',\n     'dataType': 'Survey (FNDDS)',\n     'foodCode': '75503040',\n     'publishedDate': '2019-04-01',\n     'allHighlightFields': '<b>Includes</b>: candied <em>dill</em> spears; semi-sweet; gherkin; bread and butter',\n     'score': 22.516514},\n    {'fdcId': 685550,\n     'description': 'DILL CHIPS, DILL',\n     'dataType': 'Branded',\n     'gtinUpc': '070253284366',\n     'publishedDate': '2019-12-06',\n     'brandOwner': 'Nash Finch Company',\n     'ingredients': 'CUCUMBERS, WATER, VINEGAR, SALT, ALUM, SODIUM BENZOATE (PRESERVATIVE), CALCIUM CHLORIDE, POTASSIUM SORBATE (PRESERVATIVE), NATURAL FLAVORS, POLYSORBATE 80, YELLOW 5, BLUE 1.',\n     'allHighlightFields': '',\n     'score': -327.31085},\n    {'fdcId': 685652,\n     'description': 'DILL RELISH, DILL',\n     'dataType': 'Branded',\n     'gtinUpc': '070253283697',\n     'publishedDate': '2019-12-06',\n     'brandOwner': 'Nash Finch Company',\n     'ingredients': 'CUCUMBERS, WATER, SALT, VINEGAR, LACTIC ACID, CALCIUM CHLORIDE, SODIUM BENZOATE (PRESERVATIVE), POTASSIUM SORBATE (PRESERVATIVE), DEHYDRATED RED BELL PEPPER, XANTHAN GUM, NATURAL FLAVOR, POLYSORBATE 80, YELLOW 5.',\n     'allHighlightFields': '',\n     'score': -327.31085},\n    {'fdcId': 617304,\n     'description': 'DILL RELISH, DILL',\n     'dataType': 'Branded',\n     'gtinUpc': '036800621114',\n     'publishedDate': '2019-12-06',\n     'brandOwner': 'Topco Associates, Inc.',\n     'ingredients': 'CUCUMBERS, WATER, SALT, VINEGAR, CONTAINS LESS THAN 2% OF LACTIC ACID, CALCIUM CHLORIDE, SODIUM BENZOATE AND POTASSIUM SORBATE (AS PRESERVATIVES), DEHYDRATED RED BELL PEPPERS, XANTHAN GUM, NATURAL FLAVOR, ALUM, POLYSORBATE 80, YELLOW 5.',\n     'allHighlightFields': '',\n     'score': -327.31085},\n    {'fdcId': 622304,\n     'description': 'DILL RELISH, DILL',\n     'dataType': 'Branded',\n     'gtinUpc': '041318192421',\n     'publishedDate': '2019-12-06',\n     'brandOwner': 'Schnuck Markets, Inc.',\n     'ingredients': 'CUCUMBERS, WATER, SALT, VINEGAR, LACTIC ACID, CALCIUM CHLORIDE, SODIUM BENZOATE (PRESERVATIVE), POTASSIUM SORBATE (PRESERVATIVE), DEHYDRATED RED BELL PEPPER, XANTHAN GUM, NATURAL FLAVOR, POLYSORBATE 80, YELLOW 5.',\n     'allHighlightFields': '',\n     'score': -327.31085},\n    {'fdcId': 383787,\n     'description': 'DILLS',\n     'dataType': 'Branded',\n     'gtinUpc': '009300000697',\n     'publishedDate': '2019-04-01',\n     'brandOwner': 'Mount Olive Pickle Company Inc.',\n     'ingredients': 'CUCUMBERS, WATER, VINEGAR, SALT, CALCIUM CHLORIDE, 0.1% SODIUM BENZOATE (PRESERVATIVE), ALUM, NATURAL FLAVORS, POLYSORBATE 80, AND YELLOW 5.',\n     'allHighlightFields': '',\n     'score': -342.77597},\n    {'fdcId': 630138,\n     'description': 'SAVORY DILL MUSTARD, DILL',\n     'dataType': 'Branded',\n     'gtinUpc': '041543150241',\n     'publishedDate': '2019-12-06',\n     'brandOwner': 'Silver Spring Foods, Inc.',\n     'ingredients': 'VINEGAR, WATER, MUSTARD SEED, SALT, DILL WEED, TURMERIC, FRUIT & VEGETABLE JUICE FOR COLOR, ASCORBIC ACID, OIL OF DILL.',\n     'allHighlightFields': '<b>Ingredients</b>: VINEGAR, WATER, MUSTARD SEED, SALT, <em>DILL</em> WEED, TURMERIC, FRUIT & VEGETABLE JUICE FOR COLOR, ASCORBIC ACID, OIL OF <em>DILL</em>.',\n     'score': -353.52454},\n    {'fdcId': 705052,\n     'description': 'DILL POTATO SALAD, DILL',\n     'dataType': 'Branded',\n     'gtinUpc': '078742237961',\n     'publishedDate': '2019-12-06',\n     'brandOwner': 'Wal-Mart Stores, Inc.',\n     'ingredients': 'RED POTATOES, SEASONING (CORN SYRUP SOLIDS, SALT, VINEGAR POWDER [MALTODEXTRIN, WHITE DISTILLED VINEGAR, FOOD STARCH-MODIFIED], SUGAR, MODIFIED CORNSTARCH, DRIED SPICES, DRIED DILL, DRIED ONION, SHERRY WINE POWDER [MALTODEXTRIN, MODIFIED CORNSTARCH, WINE SOLIDS, CORN SYRUP, MALIC ACID, SORBIC ACID {PRESERVATIVE}, SULFITES, NATURAL FLAVOR], DISODIUM INOSINATE, DISODIUM GUANYLATE, NATURAL FLAVOR), DRIED SHALLOTS, DRIED CHIVES, DRIED LEEKS.',\n     'allHighlightFields': '<b>Ingredients</b>:  VINEGAR, FOOD STARCH-MODIFIED], SUGAR, MODIFIED CORNSTARCH, DRIED SPICES, DRIED <em>DILL</em>, DRIED ONION',\n     'score': -354.50577},\n    {'fdcId': 705300,\n     'description': 'DILL POTATO SALAD, DILL',\n     'dataType': 'Branded',\n     'gtinUpc': '074026453058',\n     'publishedDate': '2019-12-06',\n     'brandOwner': 'Bektrom Foods, Inc',\n     'ingredients': 'DEHYDRATED POTATO SLICES (PRESERVED WITH SODIUM BISULFITE), CORN SYRUP SOLIDS, SALT, VINEGAR POWDER (MALTODEXTRIN, WHITE DISTILLED VINEGAR, FOOD STARCH-MODIFIED), SUGAR, FOOD STARCH-MODIFIED (CORN), DILL*, SPICES*, ONION*, SHERRY WINE POWDER (MALTODEXTRIN',\n     'allHighlightFields': '<b>Ingredients</b>: ), <em>DILL</em>*, SPICES*, ONION*, SHERRY WINE POWDER (MALTODEXTRIN',\n     'score': -354.50577},\n    {'fdcId': 619654,\n     'description': 'DILL STIR-IN PASTE, DILL',\n     'dataType': 'Branded',\n     'gtinUpc': '875208000028',\n     'publishedDate': '2019-12-06',\n     'brandOwner': 'GOURMET GARDEN',\n     'ingredients': 'ORGANIC DILL, ORGANIC DEXTROSE, ORGANIC CANOLA OIL, SODIUM LACTATE, WHEY (MILK), SEA SALT, ASCORBIC ACID (TO PROTECT COLOR AND FLAVOR), XANTHAN GUM, CITRIC ACID.',\n     'allHighlightFields': '<b>Ingredients</b>: ORGANIC <em>DILL</em>, ORGANIC DEXTROSE, ORGANIC CANOLA OIL, SODIUM LACTATE, WHEY (MILK), SEA SALT, ASCORBIC',\n     'score': -354.50577},\n    {'fdcId': 456748,\n     'description': 'DIRTY DILL BABY DILLS',\n     'dataType': 'Branded',\n     'gtinUpc': '635617023229',\n     'publishedDate': '2019-04-01',\n     'brandOwner': 'sims foods, inc.',\n     'ingredients': 'FRESH CUCUMBERS, WATER, VINEGAR, APPLE CIDER VINEGAR, SALT, CONTAINS LESS THAN 2% OF CALCIUM CHLORIDE, DEHYDRATED GARLIC, NATURAL FLAVOR, POLYSORBATE 80, DEHYDRATED RED CHILI PEPPER, TURMERIC EXTRACT (COLOR).',\n     'allHighlightFields': '',\n     'score': -354.50577},\n    {'fdcId': 656786,\n     'description': 'KOSHER DILL BABY DILLS',\n     'dataType': 'Branded',\n     'gtinUpc': '075450036862',\n     'publishedDate': '2019-12-06',\n     'brandOwner': 'Hy-Vee, Inc.',\n     'ingredients': 'FRESH CUCUMBERS, WATER, VINEGAR, SALT, CALCIUM CHLORIDE, NATURAL FLAVORS, POLYSORBATE 80, YELLOW 5, BLUE 1.',\n     'allHighlightFields': '',\n     'score': -354.50577},\n    {'fdcId': 525467,\n     'description': 'KOSHER DILL BABY DILLS',\n     'dataType': 'Branded',\n     'gtinUpc': '075450037005',\n     'publishedDate': '2019-04-01',\n     'brandOwner': 'Hy-Vee, Inc.',\n     'ingredients': 'FRESH CUCUMBERS, WATER, VINEGAR, SALT, CALCIUM CHLORIED, POLYSORBATE 80, NATURAL FLAVORS, YELLOW 5, BLUE 1.',\n     'allHighlightFields': '',\n     'score': -354.50577},\n    {'fdcId': 681700,\n     'description': 'KOSHER DILL SPEARS, DILL',\n     'dataType': 'Branded',\n     'gtinUpc': '07789043253',\n     'publishedDate': '2019-12-06',\n     'brandOwner': 'Wegmans Food Markets, Inc.',\n     'ingredients': 'FRESH CUCUMBERS, WATER, VINEGAR, SALT, CONTAINS LESS THAN 2% OF EACH: DEHYDRATED GARLIC, CALCIUM CHLORIDE, SPICES (CONTAINS MUSTARD), NATURAL DILL FLAVOR, DEHYDRATED DILL, XANTHAN GUM AND GUM ARABIC, DEHYDRATED RED BELL PEPPERS, TURMERIC EXTRACT (COLOR), NATURAL GARLIC FLAVOR.',\n     'allHighlightFields': '<b>Ingredients</b>:  CHLORIDE, SPICES (CONTAINS MUSTARD), NATURAL <em>DILL</em> FLAVOR, DEHYDRATED <em>DILL</em>, XANTHAN GUM AND GUM ARABIC',\n     'score': -354.50577},\n    {'fdcId': 641580,\n     'description': 'MEIJER, PEANUTS, DILL, DILL',\n     'dataType': 'Branded',\n     'gtinUpc': '708820146099',\n     'publishedDate': '2019-12-06',\n     'brandOwner': 'Meijer, Inc.',\n     'ingredients': 'PEANUTS, SEASONING (SALT, LACTOSE, SODIUM DIACETATE, MALTODEXTRIN, GARLIC POWDER, MODIFIED CORN STARCH, YEAST EXTRACT, NATURAL FLAVORS [INCLUDING EXTRACTIVES OF DILL], VINEGAR, SPICE, EXPELLER PRESSED CANOLA OIL [AS A PROCESSING AID], NOT MORE THAN 2% SILICON DIOXIDE ADDED TO PREVENT CAKING), PEANUT OIL.',\n     'allHighlightFields': '<b>Ingredients</b>:  STARCH, YEAST EXTRACT, NATURAL FLAVORS [INCLUDING EXTRACTIVES OF <em>DILL</em>], VINEGAR, SPICE, EXPELLER',\n     'score': -354.50577},\n    {'fdcId': 467451,\n     'description': 'GARLIC & DILL SPEARS WILD DILLS',\n     'dataType': 'Branded',\n     'gtinUpc': '861622000065',\n     'publishedDate': '2019-04-01',\n     'brandOwner': \"Marcia's Munchies\",\n     'ingredients': 'APPLE CIDER VINEGAR, CUCUMBERS, WATER, CARROTS, KOSHER SALT, DILL, GARLIC, BLACK PEPPERCORN, MUSTARD SEED, DILL SEED, ALLSPICE, RED PEPPER FLAKES.',\n     'allHighlightFields': '<b>Ingredients</b>: APPLE CIDER VINEGAR, CUCUMBERS, WATER, CARROTS, KOSHER SALT, <em>DILL</em>, GARLIC, BLACK PEPPERCORN, MUSTARD SEED, <em>DILL</em> SEED, ALLSPICE, RED PEPPER FLAKES.',\n     'score': -377.35922},\n    {'fdcId': 671278,\n     'description': 'HAVARTI DILL CHEESE, HAVARTI DILL',\n     'dataType': 'Branded',\n     'gtinUpc': '093936680026',\n     'publishedDate': '2019-12-06',\n     'brandOwner': 'CASTELLO',\n     'ingredients': 'PASTEURIZED MILK, SALT, DILL, CULTURE, MICROBIAL RENNET.',\n     'allHighlightFields': '<b>Ingredients</b>: PASTEURIZED MILK, SALT, <em>DILL</em>, CULTURE, MICROBIAL RENNET.',\n     'score': -377.7804},\n    {'fdcId': 672880,\n     'description': 'ITALIAN DILL CHIPS, ITALIAN DILL',\n     'dataType': 'Branded',\n     'gtinUpc': '858996005000',\n     'publishedDate': '2019-12-06',\n     'brandOwner': \"GRILLO'S PICKLES\",\n     'ingredients': 'CUCUMBERS, BRINE (WATER, DISTILLED WHITE VINEGAR, SALT), GARLIC, FRESH DILL, GRAPE LEAVES.',\n     'allHighlightFields': '<b>Ingredients</b>: CUCUMBERS, BRINE (WATER, DISTILLED WHITE VINEGAR, SALT), GARLIC, FRESH <em>DILL</em>, GRAPE LEAVES.',\n     'score': -378.43655},\n    {'fdcId': 638960,\n     'description': 'BABY DILLS KOSHER DILL PICKLES',\n     'dataType': 'Branded',\n     'gtinUpc': '032251106088',\n     'publishedDate': '2019-12-06',\n     'brandOwner': 'CHESTNUT HILL',\n     'ingredients': 'FRESH CUCUMBERS, WATER, VINEGAR, SALT, CONTAINS LESS THAN 2% OF CALCIUM CHLORIDE, NATURAL FLAVORS, POLYSORBATE 80, YELLOW 5.',\n     'allHighlightFields': '',\n     'score': -378.4831},\n    {'fdcId': 660514,\n     'description': 'BABY KOSHER DILL, KOSHER DILL',\n     'dataType': 'Branded',\n     'gtinUpc': '036800164482',\n     'publishedDate': '2019-12-06',\n     'brandOwner': 'Topco Associates, Inc.',\n     'ingredients': 'FRESH CUCUMBERS, WATER, VINEGAR, SALT, CALCIUM CHLORIDE, NATURAL FLAVOR, POLYSORBATE 80, YELLOW 5, BLUE 1.',\n     'allHighlightFields': '',\n     'score': -378.4831},\n    {'fdcId': 619016,\n     'description': 'COOL DILL MAYONNAISE, COOL DILL',\n     'dataType': 'Branded',\n     'gtinUpc': '074680008540',\n     'publishedDate': '2019-12-06',\n     'brandOwner': 'Woeber Mustard Mfg. Company',\n     'ingredients': 'SOYBEAN OIL, WHOLE EGGS, DISTILLED VINEGAR, WATER, EGG YOLKS, SALT, ARTIFICIAL FLAVORS, SUGAR, LEMON JUICE, DEXTROSE, DILL WEED, NATURAL FLAVORS, POTASSIUM SORBATE AND SODIUM BENZOATE (AS PRESERVATIVES), AND CALCIUM DISODIUM EDTA ADDED TO PROTECT FLAVOR.',\n     'allHighlightFields': '<b>Ingredients</b>: , LEMON JUICE, DEXTROSE, <em>DILL</em> WEED, NATURAL FLAVORS, POTASSIUM SORBATE AND SODIUM BENZOATE',\n     'score': -378.4831},\n    {'fdcId': 620324,\n     'description': 'CREAMY DILL DIP, CREAMY DILL',\n     'dataType': 'Branded',\n     'gtinUpc': '026700129063',\n     'publishedDate': '2019-12-06',\n     'brandOwner': 'Ventura Foods, L.L.C.',\n     'ingredients': 'SKIM MILK, WHEY (MILK), PALM OIL, WATER, CONTAINS LESS THAN 2% OF ONION*, SALT, FOOD STARCH-MODIFIED, LACTIC ACID, GELATIN, SUGAR, DILLWEED, MALTODEXTRIN, CITRIC ACID, DEXTROSE, GARLIC*, LOCUST BEAN GUM, SODIUM HEXAMETAPHOSPHATE, POTASSIUM SORBATE (TO PRESERVE FRESHNESS), HYDROLYZED TORULA AND BREWERS YEAST PROTEIN, HYDROLYZED SOY AND CORN PROTEIN, SOY LECITHIN, GUAR GUM, CARRAGEENAN, ACETIC ACID, SPICE, MONOSODIUM GLUTAMATE, NATURAL FLAVOR, YELLOW 5 & 6.',\n     'allHighlightFields': '',\n     'score': -378.4831},\n    {'fdcId': 712376,\n     'description': 'DILL KOSHER PICKLE SLICES, DILL',\n     'dataType': 'Branded',\n     'gtinUpc': '074175935153',\n     'publishedDate': '2019-12-06',\n     'brandOwner': 'STATER BROS.',\n     'ingredients': 'FRESH CUCUMBERS, WATER, VINEGAR, SALT, CALCIUM CHLORIDE, POLYSORBATE 80, NATURAL FLAVORS, YELLOW 5.',\n     'allHighlightFields': '',\n     'score': -378.4831},\n    {'fdcId': 659794,\n     'description': 'DILL PICKLE ALMONDS, DILL PICKLE',\n     'dataType': 'Branded',\n     'gtinUpc': '099482464271',\n     'publishedDate': '2019-12-06',\n     'brandOwner': 'Whole Foods Market, Inc.',\n     'ingredients': 'ALMONDS (STEAM PASTEURIZED), SEASONING (MALTODEXTRIN*, SALT, ORGANIC VINEGAR POWDER [ORGANIC MALTODEXTRIN**, ORGANIC WHITE DISTILLED VINEGAR], GARLIC POWDER, CANE SUGAR***, RICE HULLS, YEAST EXTRACT, NATURAL DILL FLAVOR, SPICES [BLACK PEPPER, BAY LEAF, ALLSPICE, CORIANDER]), EXPELLER PRESSED CANOLA OIL, SEA SALT.',\n     'allHighlightFields': '<b>Ingredients</b>: , NATURAL <em>DILL</em> FLAVOR, SPICES [BLACK PEPPER, BAY LEAF, ALLSPICE, CORIANDER]), EXPELLER PRESSED CANOLA OIL, SEA SALT.',\n     'score': -378.4831},\n    {'fdcId': 725448,\n     'description': 'DILL PICKLE MUSTARD, DILL PICKLE',\n     'dataType': 'Branded',\n     'gtinUpc': '853896007147',\n     'publishedDate': '2019-12-06',\n     'brandOwner': 'LOCALFOLKS FOODS',\n     'ingredients': 'BROWN AND YELLOW MUSTARD SEED, ORGANIC VINEGAR, WATER, CUCUMBERS, SEA SALT, TURMERIC, PAPRIKA, EVAPORATED CANE JUICE, DILL, GARLIC, CORIANDER, CITRIC ACID.',\n     'allHighlightFields': '<b>Ingredients</b>: , EVAPORATED CANE JUICE, <em>DILL</em>, GARLIC, CORIANDER, CITRIC ACID.',\n     'score': -378.4831},\n    {'fdcId': 688742,\n     'description': 'DILL RYE BREAD, DILL RYE',\n     'dataType': 'Branded',\n     'gtinUpc': '073130006853',\n     'publishedDate': '2019-12-06',\n     'brandOwner': 'BIMBO BAKERIES USA, INC.',\n     'ingredients': 'UNBLEACHED ENRICHED WHEAT FLOUR [FLOUR, MALTED BARLEY FLOUR, REDUCED IRON, NIACIN, THIAMIN MONONITRATE (VITAMIN B1), RIBOFLAVIN (VITAMIN B2), FOLIC ACID], WATER, RYE FLOUR, SUGAR, WHEAT GLUTEN, DILL SEED, SOYBEAN OIL, SALT, YEAST, ONION, CORN GRITS, CALCIUM PROPIONATE (PRESERVATIVE), MONOGLYCERIDES, CALCIUM SULFATE, SOY LECITHIN, CITRIC ACID, DATEM.',\n     'allHighlightFields': '<b>Ingredients</b>:  MONONITRATE (VITAMIN B1), RIBOFLAVIN (VITAMIN B2), FOLIC ACID], WATER, RYE FLOUR, SUGAR, WHEAT GLUTEN, <em>DILL</em>',\n     'score': -378.4831},\n    {'fdcId': 617322,\n     'description': 'HAMBURGER DILL CHIPS, HAMBURGER DILL',\n     'dataType': 'Branded',\n     'gtinUpc': '036800107199',\n     'publishedDate': '2019-12-06',\n     'brandOwner': 'Topco Associates, Inc.',\n     'ingredients': 'CUCUMBERS, WATER, VINEGAR, SALT, CONTAINS LESS THAN 2% OF ALUM, CALCIUM CHLORIDE, SODIUM BENZOATE (PRESERVATIVE), POTASSIUM SORBATE (PRESERVATIVE), NATURAL FLAVOR, POLYSORBATE 80, YELLOW 5, BLUE 1.',\n     'allHighlightFields': '',\n     'score': -378.4831},\n    {'fdcId': 674324,\n     'description': 'HAMBURGER DILL CHIPS, HAMBURGER DILL',\n     'dataType': 'Branded',\n     'gtinUpc': '036800109117',\n     'publishedDate': '2019-12-06',\n     'brandOwner': 'Topco Associates, Inc.',\n     'ingredients': 'CUCUMBERS, WATER, VINEGAR, SALT, CONTAINS LESS THAN 2% OF ALUM, CALCIUM CHLORIDE, POTASSIUM SORBATE (PRESERVATIVE), NATURAL FLAVOR, POLYSORBATE 80, YELLOW 5, BLUE 1.',\n     'allHighlightFields': '',\n     'score': -378.4831},\n    {'fdcId': 708628,\n     'description': 'HAMBURGER DILL CHIPS, HAMBURGER DILL',\n     'dataType': 'Branded',\n     'gtinUpc': '041303005705',\n     'publishedDate': '2019-12-06',\n     'brandOwner': 'Supervalu, Inc.',\n     'ingredients': 'CUCUMBERS, WATER, VINEGAR, SALT, CALCIUM CHLORIDE (FIRMING AGENT), SODIUM BENZOATE (PRESERVATIVE), NATURAL FLAVORS, POLYSORBATE 80, AND YELLOW 5.',\n     'allHighlightFields': '',\n     'score': -378.4831},\n    {'fdcId': 617314,\n     'description': 'HAMBURGER DILL CHIPS, HAMBURGER DILL',\n     'dataType': 'Branded',\n     'gtinUpc': '036800103191',\n     'publishedDate': '2019-12-06',\n     'brandOwner': 'Topco Associates, Inc.',\n     'ingredients': 'CUCUMBERS, WATER, VINEGAR, SALT, CONTAINS LESS THAN 2% OF ALUM, CALCIUM CHLORIDE, SODIUM BENZOATE (PRESERVATIVE), POTASSIUM SORBATE (PRESERVATIVE), NATURAL FLAVOR, POLYSORBATE 80, YELLOW 5, BLUE 1.',\n     'allHighlightFields': '',\n     'score': -378.4831},\n    {'fdcId': 625156,\n     'description': 'HAMBURGER DILL CHIPS, HAMBURGER DILL',\n     'dataType': 'Branded',\n     'gtinUpc': '009300005401',\n     'publishedDate': '2019-12-06',\n     'brandOwner': 'Mount Olive Pickle Company Inc.',\n     'ingredients': 'CUCUMBERS, WATER, VINEGAR, SEA SALT, CALCIUM CHLORIDE (FIRMING AGENT), NATURAL FLAVORS, POLYSORBATE 80, AND TURMERIC (FOR COLOR).',\n     'allHighlightFields': '',\n     'score': -378.4831},\n    {'fdcId': 696354,\n     'description': 'HAMBURGER DILL CHIPS, HAMBURGER DILL',\n     'dataType': 'Branded',\n     'gtinUpc': '015400842983',\n     'publishedDate': '2019-12-06',\n     'brandOwner': 'SHURFINE',\n     'ingredients': 'CUCUMBERS, WATER, VINEGAR, SALT, ALUM, SODIUM BENZOATE (PRESERVATIVE), CALCIUM CHLORIDE, POTASSIUM SORBATE (PRESERVATIVE), NATURAL FLAVORS, POLYSORBATE 80, YELLOW 5, BLUE 1.',\n     'allHighlightFields': '',\n     'score': -378.4831},\n    {'fdcId': 639086,\n     'description': 'HAMBURGER DILL CHIPS, HAMBURGER DILL',\n     'dataType': 'Branded',\n     'gtinUpc': '054100304001',\n     'publishedDate': '2019-12-06',\n     'brandOwner': 'Pinnacle Foods Group LLC',\n     'ingredients': 'CUCUMBERS, WATER, DISTILLED VINEGAR, SALT, SODIUM BENZOATE (PRESERVATIVES), CALCIUM CHLORIDE, NATURAL FLAVOR, POLYSORBATE 80, YELLOW 5.',\n     'allHighlightFields': '',\n     'score': -378.4831},\n    {'fdcId': 726320,\n     'description': 'HAMBURGER DILL SLICES, HAMBURGER DILL',\n     'dataType': 'Branded',\n     'gtinUpc': '193476000909',\n     'publishedDate': '2019-12-06',\n     'brandOwner': \"THAT'S SMART!\",\n     'ingredients': 'CUCUMBERS, WATER, VINEGAR, SALT, CONTAINS LESS THAN 2% OF ALUM, CALCIUM CHLORIDE, NATURAL FLAVOR, POLYSORBATE 80, YELLOW 5, BLUE 1.',\n     'allHighlightFields': '',\n     'score': -378.4831},\n    {'fdcId': 691988,\n     'description': 'HEARTY DILL PICKLE, HEARTY DILL',\n     'dataType': 'Branded',\n     'gtinUpc': '038200000018',\n     'publishedDate': '2019-12-06',\n     'brandOwner': 'Van Holten',\n     'ingredients': 'CUCUMBER, WATER, SALT, VINEGAR, NATURAL FLAVORING, SODIUM BENZOATE AND POTASSIUM SORBATE (TO PREVENT SPOILAGE), CALCIUM CHLORIDE, ALUM AND YELLOW #5.',\n     'allHighlightFields': '',\n     'score': -378.4831},\n    {'fdcId': 622314,\n     'description': 'KOSHER DILL BABY, KOSHER DILL',\n     'dataType': 'Branded',\n     'gtinUpc': '041318192391',\n     'publishedDate': '2019-12-06',\n     'brandOwner': 'Schnuck Markets, Inc.',\n     'ingredients': 'FRESH CUCUMBERS, WATER, VINEGAR, SALT, CALCIUM CHLORIDE, NATURAL FLAVOR, POLYSORBATE 80, YELLOW 5, BLUE 1.',\n     'allHighlightFields': '',\n     'score': -378.4831},\n    {'fdcId': 602440,\n     'description': 'KOSHER DILL CHIPS, KOSHER DILL',\n     'dataType': 'Branded',\n     'gtinUpc': '021284747092',\n     'publishedDate': '2019-04-01',\n     'brandOwner': 'Hermann Pickle Farms',\n     'ingredients': 'FRESH CUCUMBERS, WATER, SALT, VINEGAR, GARLIC, SPICES, CALCIUM CHLORIDE, 1/10 PERCENT SODIUM BENZOATE AS A PRESERVATIVE NATURAL FLAVORS, TURMERIC',\n     'allHighlightFields': '',\n     'score': -378.4831},\n    {'fdcId': 717348,\n     'description': 'KOSHER DILL CHIPS, KOSHER DILL',\n     'dataType': 'Branded',\n     'gtinUpc': '009300005616',\n     'publishedDate': '2019-12-06',\n     'brandOwner': 'Mount Olive Pickle Company Inc.',\n     'ingredients': 'CUCUMBERS, WATER, VINEGAR, SEA SALT, CALCIUM CHLORIDE (FIRMING AGENT), POLYSORBATE 80, NATURAL FLAVORS, AND TURMERIC (FOR COLOR).',\n     'allHighlightFields': '',\n     'score': -378.4831},\n    {'fdcId': 639196,\n     'description': 'KOSHER DILL HALVES, KOSHER DILL',\n     'dataType': 'Branded',\n     'gtinUpc': '075450095821',\n     'publishedDate': '2019-12-06',\n     'brandOwner': 'Hy-Vee, Inc.',\n     'ingredients': 'FRESH CUCUMBERS, WATER, SALT, VINEGAR, GARLIC, SPICES, CALCIUM CHLORIDE, 1/10% SODIUM BENZOATE AS A PRESERVATIVE, NATURAL FLAVORS, TURMERIC (COLOR).',\n     'allHighlightFields': '',\n     'score': -378.4831},\n    {'fdcId': 694274,\n     'description': 'KOSHER DILL PICKLES, KOSHER DILL',\n     'dataType': 'Branded',\n     'gtinUpc': '072058603250',\n     'publishedDate': '2019-12-06',\n     'brandOwner': 'Kent Precision Foods Group, Inc.',\n     'ingredients': 'SALT, MALTODEXTRIN, DEHYDRATED GARLIC, SPICE EXTRACTIVES (INCLUDES TURMERIC EXTRACT & MUSTARD OIL), CITRIC ACID.',\n     'allHighlightFields': '',\n     'score': -378.4831},\n    {'fdcId': 624146,\n     'description': 'KOSHER DILL PICKLES, KOSHER DILL',\n     'dataType': 'Branded',\n     'gtinUpc': '099482413705',\n     'publishedDate': '2019-12-06',\n     'brandOwner': 'Whole Foods Market, Inc.',\n     'ingredients': 'ORGANIC CUCUMBERS, WATER, ORGANIC DISTILLED WHITE VINEGAR, SALT, ORGANIC DEHYDRATED GARLIC, CALCIUM CHLORIDE, NATURAL FLAVORS, ORGANIC TURMERIC (COLOR).',\n     'allHighlightFields': '',\n     'score': -378.4831}]}],\n 8: [{'foodSearchCriteria': {'generalSearchInput': 'onion',\n    'pageNumber': 1,\n    'requireAllWords': False},\n   'totalHits': 49620,\n   'currentPage': 1,\n   'totalPages': 993,\n   'foods': [{'fdcId': 570221,\n     'description': 'ONION',\n     'dataType': 'Branded',\n     'gtinUpc': '860480000057',\n     'publishedDate': '2019-04-01',\n     'brandOwner': 'Max & Jake Group, LLC.',\n     'ingredients': 'ALL-NATURAL INGREDIENTS: FRESH ONIONS, WORCESTERSHIRE SAUCE (DISTILLED VINEGAR, CORN SYRUP, WATER, SALT, GARLIC POWDER, SPICES, TAMARIND, NATURAL FLAVOR), TOMATO PUREE, PANKO BREADCRUMBS (UNBLEACHED WHEAT FLOUR, EVAPORATED CANE JUICE, YEAST AND SEA SALT), OLIVE OIL, KOSHER SALT, OREGANO AND SPICES.',\n     'allHighlightFields': '<b>Ingredients</b>: ALL-NATURAL INGREDIENTS: FRESH <em>ONIONS</em>, WORCESTERSHIRE SAUCE (DISTILLED VINEGAR, CORN SYRUP, WATER',\n     'score': 785.61194},\n    {'fdcId': 515299,\n     'description': 'ONION',\n     'dataType': 'Branded',\n     'gtinUpc': '652003101262',\n     'publishedDate': '2019-04-01',\n     'brandOwner': 'Blazing Bagels and Bakery, Inc.',\n     'ingredients': \"SHEPHERD'S GRAIN UNBLEACHED ENRICHED FLOUR (WHEAT FLOUR, MALTED BARLEY FLOUR, NIACIN, REDUCED IRON, THIAMIN MONONITRATE, RIBOFLAVIN, FOLIC ACID), WATER, BROWN CANE SUGAR (SUGAR, INVERT SUGAR, CANE MOLASSES), MALTED BARLEY FLOUR, DEHYDRATED ONION, CONTAINS 2% OF EACH OF THE FOLLOWING: SEA SALT, CORN MEAL, YEAST, CALCIUM SULFATE, ENZYMES (PLANT BASED).\",\n     'allHighlightFields': '<b>Ingredients</b>:  MOLASSES), MALTED BARLEY FLOUR, DEHYDRATED <em>ONION</em>, CONTAINS 2% OF EACH OF THE FOLLOWING: SEA SALT, CORN MEAL, YEAST, CALCIUM SULFATE, ENZYMES (PLANT BASED).',\n     'score': 785.61194},\n    {'fdcId': 339537,\n     'description': 'Bread, onion',\n     'additionalDescriptions': 'pre-sliced or not',\n     'dataType': 'Survey (FNDDS)',\n     'foodCode': '51121110',\n     'publishedDate': '2019-04-01',\n     'allHighlightFields': '',\n     'score': 326.7421},\n    {'fdcId': 170000,\n     'description': 'Onions, raw',\n     'scientificName': 'Allium cepa',\n     'dataType': 'SR Legacy',\n     'ndbNumber': '11282',\n     'publishedDate': '2019-04-01',\n     'allHighlightFields': '',\n     'score': 326.7421},\n    {'fdcId': 342625,\n     'description': 'Onions, mature, raw',\n     'additionalDescriptions': 'red onions; onions, NFS',\n     'dataType': 'Survey (FNDDS)',\n     'foodCode': '75117020',\n     'publishedDate': '2019-04-01',\n     'allHighlightFields': '<b>Includes</b>: red <em>onions</em>; <em>onions</em>, NFS',\n     'score': 302.67157},\n    {'fdcId': 339538,\n     'description': 'Bread, onion, toasted',\n     'dataType': 'Survey (FNDDS)',\n     'foodCode': '51121120',\n     'publishedDate': '2019-04-01',\n     'allHighlightFields': '',\n     'score': 293.25812},\n    {'fdcId': 169844,\n     'description': \"DENNY'S, onion rings\",\n     'dataType': 'SR Legacy',\n     'ndbNumber': '36031',\n     'publishedDate': '2019-04-01',\n     'allHighlightFields': '',\n     'score': 293.25812},\n    {'fdcId': 343711,\n     'description': 'Onion soup, French',\n     'dataType': 'Survey (FNDDS)',\n     'foodCode': '75608100',\n     'publishedDate': '2019-04-01',\n     'allHighlightFields': '',\n     'score': 293.25812},\n    {'fdcId': 170002,\n     'description': 'Onions, dehydrated flakes',\n     'dataType': 'SR Legacy',\n     'ndbNumber': '11284',\n     'publishedDate': '2019-04-01',\n     'allHighlightFields': '',\n     'score': 293.25812},\n    {'fdcId': 170008,\n     'description': 'Onions, sweet, raw',\n     'scientificName': 'Allium cepa',\n     'dataType': 'SR Legacy',\n     'ndbNumber': '11294',\n     'publishedDate': '2019-04-01',\n     'allHighlightFields': '',\n     'score': 293.25812},\n    {'fdcId': 170007,\n     'description': 'Onions, welsh, raw',\n     'scientificName': 'Allium fistulosum',\n     'dataType': 'SR Legacy',\n     'ndbNumber': '11293',\n     'publishedDate': '2019-04-01',\n     'allHighlightFields': '',\n     'score': 293.25812},\n    {'fdcId': 170004,\n     'description': 'Onions, yellow, sauteed',\n     'dataType': 'SR Legacy',\n     'ndbNumber': '11286',\n     'publishedDate': '2019-04-01',\n     'allHighlightFields': '',\n     'score': 293.25812},\n    {'fdcId': 171327,\n     'description': 'Spices, onion powder',\n     'scientificName': 'Allium cepa',\n     'dataType': 'SR Legacy',\n     'ndbNumber': '2026',\n     'publishedDate': '2019-04-01',\n     'allHighlightFields': '',\n     'score': 293.25812},\n    {'fdcId': 342624,\n     'description': 'Onions, young green, raw',\n     'additionalDescriptions': 'scallions; spring onions',\n     'dataType': 'Survey (FNDDS)',\n     'foodCode': '75117010',\n     'publishedDate': '2019-04-01',\n     'allHighlightFields': '<b>Includes</b>: scallions; spring <em>onions</em>',\n     'score': 273.8692},\n    {'fdcId': 169840,\n     'description': \"APPLEBEE'S, crunchy onion rings\",\n     'commonNames': 'applebees, family style',\n     'dataType': 'SR Legacy',\n     'ndbNumber': '36022',\n     'publishedDate': '2019-04-01',\n     'allHighlightFields': '',\n     'score': 266.0163},\n    {'fdcId': 170771,\n     'description': 'BURGER KING, Onion Rings',\n     'dataType': 'SR Legacy',\n     'ndbNumber': '21509',\n     'publishedDate': '2019-04-01',\n     'allHighlightFields': '',\n     'score': 266.0163},\n    {'fdcId': 172812,\n     'description': 'Crackers, matzo, egg and onion',\n     'dataType': 'SR Legacy',\n     'ndbNumber': '18400',\n     'publishedDate': '2019-04-01',\n     'allHighlightFields': '',\n     'score': 266.0163},\n    {'fdcId': 171172,\n     'description': 'Gravy, onion, dry, mix',\n     'dataType': 'SR Legacy',\n     'ndbNumber': '6123',\n     'publishedDate': '2019-04-01',\n     'allHighlightFields': '',\n     'score': 266.0163},\n    {'fdcId': 338547,\n     'description': 'Liver, beef or calves, and onions',\n     'dataType': 'Survey (FNDDS)',\n     'foodCode': '27460750',\n     'publishedDate': '2019-04-01',\n     'allHighlightFields': '',\n     'score': 266.0163},\n    {'fdcId': 170003,\n     'description': 'Onions, canned, solids and liquids',\n     'dataType': 'SR Legacy',\n     'ndbNumber': '11285',\n     'publishedDate': '2019-04-01',\n     'allHighlightFields': '',\n     'score': 266.0163},\n    {'fdcId': 343591,\n     'description': 'Onions, from fresh, creamed',\n     'dataType': 'Survey (FNDDS)',\n     'foodCode': '75415011',\n     'publishedDate': '2019-04-01',\n     'allHighlightFields': '',\n     'score': 266.0163},\n    {'fdcId': 170410,\n     'description': 'Onions, frozen, chopped, unprepared',\n     'dataType': 'SR Legacy',\n     'ndbNumber': '11287',\n     'publishedDate': '2019-04-01',\n     'allHighlightFields': '',\n     'score': 266.0163},\n    {'fdcId': 170412,\n     'description': 'Onions, frozen, whole, unprepared',\n     'dataType': 'SR Legacy',\n     'ndbNumber': '11289',\n     'publishedDate': '2019-04-01',\n     'allHighlightFields': '',\n     'score': 266.0163},\n    {'fdcId': 343590,\n     'description': 'Onions, NS as to form, creamed',\n     'dataType': 'Survey (FNDDS)',\n     'foodCode': '75415010',\n     'publishedDate': '2019-04-01',\n     'allHighlightFields': '',\n     'score': 266.0163},\n    {'fdcId': 170020,\n     'description': 'Peas and onions, frozen, unprepared',\n     'dataType': 'SR Legacy',\n     'ndbNumber': '11326',\n     'publishedDate': '2019-04-01',\n     'allHighlightFields': '',\n     'score': 266.0163},\n    {'fdcId': 340264,\n     'description': 'Snacks, onion-flavored rings',\n     'dataType': 'Survey (FNDDS)',\n     'foodCode': '54406010',\n     'publishedDate': '2019-04-01',\n     'allHighlightFields': '',\n     'score': 266.0163},\n    {'fdcId': 171551,\n     'description': 'Soup, onion, canned, condensed',\n     'dataType': 'SR Legacy',\n     'ndbNumber': '6045',\n     'publishedDate': '2019-04-01',\n     'allHighlightFields': '',\n     'score': 266.0163},\n    {'fdcId': 171165,\n     'description': 'Soup, onion, dry, mix',\n     'dataType': 'SR Legacy',\n     'ndbNumber': '6094',\n     'publishedDate': '2019-04-01',\n     'allHighlightFields': '',\n     'score': 266.0163},\n    {'fdcId': 343189,\n     'description': 'Onions, pearl, cooked, from canned',\n     'additionalDescriptions': 'pickled or cocktail onions',\n     'dataType': 'Survey (FNDDS)',\n     'foodCode': '75221033',\n     'publishedDate': '2019-04-01',\n     'allHighlightFields': '<b>Includes</b>: pickled or cocktail <em>onions</em>',\n     'score': 251.27284},\n    {'fdcId': 343187,\n     'description': 'Onions, pearl, cooked, from fresh',\n     'additionalDescriptions': 'pickled or cocktail onions',\n     'dataType': 'Survey (FNDDS)',\n     'foodCode': '75221031',\n     'publishedDate': '2019-04-01',\n     'allHighlightFields': '<b>Includes</b>: pickled or cocktail <em>onions</em>',\n     'score': 251.27284},\n    {'fdcId': 343188,\n     'description': 'Onions, pearl, cooked, from frozen',\n     'additionalDescriptions': 'pickled or cocktail onions',\n     'dataType': 'Survey (FNDDS)',\n     'foodCode': '75221032',\n     'publishedDate': '2019-04-01',\n     'allHighlightFields': '<b>Includes</b>: pickled or cocktail <em>onions</em>',\n     'score': 251.27284},\n    {'fdcId': 343186,\n     'description': 'Onions, pearl, cooked, NS as to form',\n     'additionalDescriptions': 'pickled or cocktail onions',\n     'dataType': 'Survey (FNDDS)',\n     'foodCode': '75221030',\n     'publishedDate': '2019-04-01',\n     'allHighlightFields': '<b>Includes</b>: pickled or cocktail <em>onions</em>',\n     'score': 251.27284},\n    {'fdcId': 338407,\n     'description': 'Beef, ground, with egg and onion (mixture)',\n     'dataType': 'Survey (FNDDS)',\n     'foodCode': '27416200',\n     'publishedDate': '2019-04-01',\n     'allHighlightFields': '',\n     'score': 243.41994},\n    {'fdcId': 343710,\n     'description': 'Onion soup, cream of, prepared with milk',\n     'dataType': 'Survey (FNDDS)',\n     'foodCode': '75608010',\n     'publishedDate': '2019-04-01',\n     'allHighlightFields': '',\n     'score': 243.41994},\n    {'fdcId': 170100,\n     'description': 'Onions, cooked, boiled, drained, with salt',\n     'dataType': 'SR Legacy',\n     'ndbNumber': '11805',\n     'publishedDate': '2019-04-01',\n     'allHighlightFields': '',\n     'score': 243.41994},\n    {'fdcId': 170006,\n     'description': 'Onions, young green, tops only',\n     'scientificName': 'Allium cepa',\n     'dataType': 'SR Legacy',\n     'ndbNumber': '11292',\n     'publishedDate': '2019-04-01',\n     'allHighlightFields': '',\n     'score': 243.41994},\n    {'fdcId': 170019,\n     'description': 'Peas and onions, canned, solids and liquids',\n     'dataType': 'SR Legacy',\n     'ndbNumber': '11324',\n     'publishedDate': '2019-04-01',\n     'allHighlightFields': '',\n     'score': 243.41994},\n    {'fdcId': 343477,\n     'description': 'Peas and onions, cooked, made with butter',\n     'additionalDescriptions': 'made with animal fat or meat drippings',\n     'dataType': 'Survey (FNDDS)',\n     'foodCode': '75315122',\n     'publishedDate': '2019-04-01',\n     'allHighlightFields': '',\n     'score': 243.41994},\n    {'fdcId': 343478,\n     'description': 'Peas and onions, cooked, made with margarine',\n     'additionalDescriptions': 'made with shortening',\n     'dataType': 'Survey (FNDDS)',\n     'foodCode': '75315123',\n     'publishedDate': '2019-04-01',\n     'allHighlightFields': '',\n     'score': 243.41994},\n    {'fdcId': 343476,\n     'description': 'Peas and onions, cooked, made with oil',\n     'dataType': 'Survey (FNDDS)',\n     'foodCode': '75315121',\n     'publishedDate': '2019-04-01',\n     'allHighlightFields': '',\n     'score': 243.41994},\n    {'fdcId': 169027,\n     'description': 'Restaurant, family style, onion rings',\n     'commonNames': 'family style',\n     'dataType': 'SR Legacy',\n     'ndbNumber': '36036',\n     'publishedDate': '2019-04-01',\n     'allHighlightFields': '',\n     'score': 243.41994},\n    {'fdcId': 171552,\n     'description': 'Soup, cream of onion, canned, condensed',\n     'dataType': 'SR Legacy',\n     'ndbNumber': '6046',\n     'publishedDate': '2019-04-01',\n     'allHighlightFields': '',\n     'score': 243.41994},\n    {'fdcId': 342563,\n     'description': 'Tomato and onion, cooked, made with butter',\n     'additionalDescriptions': 'made with animal fat or meat drippings',\n     'dataType': 'Survey (FNDDS)',\n     'foodCode': '74504122',\n     'publishedDate': '2019-04-01',\n     'allHighlightFields': '',\n     'score': 243.41994},\n    {'fdcId': 342564,\n     'description': 'Tomato and onion, cooked, made with margarine',\n     'additionalDescriptions': 'made with shortening',\n     'dataType': 'Survey (FNDDS)',\n     'foodCode': '74504123',\n     'publishedDate': '2019-04-01',\n     'allHighlightFields': '',\n     'score': 243.41994},\n    {'fdcId': 342562,\n     'description': 'Tomato and onion, cooked, made with oil',\n     'dataType': 'Survey (FNDDS)',\n     'foodCode': '74504121',\n     'publishedDate': '2019-04-01',\n     'allHighlightFields': '',\n     'score': 243.41994},\n    {'fdcId': 170056,\n     'description': 'Tomato products, canned, sauce, with onions',\n     'dataType': 'SR Legacy',\n     'ndbNumber': '11553',\n     'publishedDate': '2019-04-01',\n     'allHighlightFields': '',\n     'score': 243.41994},\n    {'fdcId': 343177,\n     'description': 'Onions, cooked, from fresh, made with oil',\n     'additionalDescriptions': 'onions, NS as to type; sauteed',\n     'dataType': 'Survey (FNDDS)',\n     'foodCode': '75221017',\n     'publishedDate': '2019-04-01',\n     'allHighlightFields': '<b>Includes</b>: <em>onions</em>, NS as to type; sauteed',\n     'score': 231.66518},\n    {'fdcId': 343183,\n     'description': 'Onions, cooked, from frozen, made with oil',\n     'additionalDescriptions': 'onions, NS as to type; sauteed',\n     'dataType': 'Survey (FNDDS)',\n     'foodCode': '75221023',\n     'publishedDate': '2019-04-01',\n     'allHighlightFields': '<b>Includes</b>: <em>onions</em>, NS as to type; sauteed',\n     'score': 231.66518},\n    {'fdcId': 343174,\n     'description': 'Onions, cooked, NS as to form, made with oil',\n     'additionalDescriptions': 'onions, NS as to type; sauteed',\n     'dataType': 'Survey (FNDDS)',\n     'foodCode': '75221014',\n     'publishedDate': '2019-04-01',\n     'allHighlightFields': '<b>Includes</b>: <em>onions</em>, NS as to type; sauteed',\n     'score': 231.66518},\n    {'fdcId': 338427,\n     'description': 'Pork and onions with soy-based sauce (mixture)',\n     'additionalDescriptions': 'Pork Scallion; Onion Pork',\n     'dataType': 'Survey (FNDDS)',\n     'foodCode': '27420170',\n     'publishedDate': '2019-04-01',\n     'allHighlightFields': '<b>Includes</b>: Pork Scallion; <em>Onion</em> Pork',\n     'score': 231.66518}]}]}"
     },
     "metadata": {},
     "output_type": "execute_result",
     "execution_count": 4
    }
   ],
   "source": [
    "import requests\n",
    "\n",
    "# First steps to build a recommendation system for recipes.\n",
    "\n",
    "API_Key = \"BslmyYzNnRTysPWT3DDQfNv5lrmfgbmYby3SVsHw\"\n",
    "URL = \"https://api.nal.usda.gov/fdc/v1/search?api_key=\" + API_Key\n",
    "\n",
    "id_nutritionalInfo = {}\n",
    "\n",
    "for key, value in enumerate(ingredients_list):\n",
    "    \n",
    "    id_nutritionalInfo[key] = []\n",
    "    \n",
    "    # for i in range(len(value)):\n",
    "    # Defining a params dict for the parameters to be sent to the API \n",
    "    PARAMS = {'generalSearchInput': value} \n",
    "    \n",
    "    # Sending get request and saving the response as response object \n",
    "    r = requests.get(url = URL, params = PARAMS)\n",
    "        \n",
    "    # Extracting data in json format \n",
    "    data = r.json() \n",
    "    \n",
    "    id_nutritionalInfo[key].append(data)\n",
    "        \n",
    "id_nutritionalInfo"
   ],
   "metadata": {
    "collapsed": false,
    "pycharm": {
     "name": "#%%\n",
     "is_executing": false
    }
   }
  },
  {
   "cell_type": "markdown",
   "metadata": {},
   "source": [
    "## Recipes -> Flavour Molecules\n",
    "\n",
    "FlavorDB\n",
    "\n",
    "<br>\n",
    "Data Source:"
   ]
  },
  {
   "cell_type": "code",
   "execution_count": null,
   "metadata": {
    "pycharm": {
     "is_executing": false,
     "name": "#%%\n"
    }
   },
   "outputs": [],
   "source": []
  },
  {
   "cell_type": "markdown",
   "metadata": {},
   "source": [
    "## Benchmark Facebook Recipe Retrieval Algorithm\n",
    "\n",
    "It was created a dictionary object (id_url.json) that matches recipes IDs (layer1.json) with the URLs of images available in layer2.json. While\n",
    "some recipes do not contain images, others contain more than 1. This matching between different files was possible once layer2.json\n",
    "also contain the recipe ID present in layer1.json. \n",
    "\n",
    "Then, by manipulating Facebook's algorithm and its repository, the recipe retrieval algorithm is able to convert the JSON file id_url.json into\n",
    "an array of strings of URLs. Along with this, it creates a parallel array of strings of the IDs of the recipes, so that in each position there is\n",
    "correspondence between ID in this object with an image URL in the previous.\n",
    "\n",
    "Finally, Facebook's algorithm was run and the ingredients list for each image URL was obtained. The number of correct elements over the total\n",
    "number of elements in the ground-truth recipe gives us the accuracy of the algorithm. The ingredients present in each ground-truth recipe \n",
    "were retrieved using the method above - \"Recipe Retrieval w/ Higher Number Anti-Cancer Molecules\"."
   ]
  },
  {
   "cell_type": "markdown",
   "metadata": {
    "jupyter": {
     "outputs_hidden": false
    },
    "pycharm": {
     "is_executing": false,
     "name": "#%% md\n"
    }
   },
   "source": [
    "### Writing Input File w/ Images to Facebook's Algorithm\n",
    "\n",
    "A JSON file (id_url.json) was created to be input in the Facebook's recipe retrieval algorithm, so that it could generate a prediction of the ingredients \n",
    "present in every recipe from the dataset (with, at least, 1 image available). <br>\n",
    "Ground-truth ingredients for each recipe can be found in layer1.json. The respective images are present in the layer2.json.\n",
    "Both files are in the data directory."
   ]
  },
  {
   "cell_type": "code",
   "execution_count": null,
   "metadata": {
    "pycharm": {
     "is_executing": false,
     "name": "#%%\n"
    }
   },
   "outputs": [],
   "source": [
    "ids = []\n",
    "\n",
    "for recipe in recipes_data:\n",
    "                        \n",
    "    ids.append(recipe[\"id\"])\n",
    "\n",
    "f = open('./data/recipe1M+/layer2.json')\n",
    "recipes_images_data = (json.load(f))# [0:100]\n",
    "f.close()\n",
    "\n",
    "id_images = {}\n",
    "\n",
    "for recipe in recipes_data:\n",
    "\n",
    "    id_images[recipe[\"id\"]] = []\n",
    "    \n",
    "    for recipe_image in recipes_images_data:\n",
    "        \n",
    "        for image in recipe_image[\"images\"]:\n",
    "        \n",
    "            if recipe[\"id\"] == recipe_image[\"id\"]:\n",
    "            \n",
    "                id_images[recipe[\"id\"]].append(image[\"url\"])\n",
    "                    \n",
    "# Writing text file with IDs of each recipe and respective URLs for 1 or more online images.\n",
    "with open('./data/id_url.json', 'w') as json_file:\n",
    "    json.dump(id_images, json_file)\n",
    "    "
   ]
  },
  {
   "cell_type": "markdown",
   "metadata": {},
   "source": [
    "### Executing Inverse Cooking Algorithm\n",
    "\n",
    "Recipe Generation from Food Images. </br>\n",
    "https://github.com/facebookresearch/inversecooking"
   ]
  },
  {
   "cell_type": "code",
   "execution_count": null,
   "metadata": {
    "pycharm": {
     "is_executing": false,
     "name": "#%%\n"
    }
   },
   "outputs": [],
   "source": [
    "'''\n",
    "from demo import demo_func\n",
    "import json\n",
    "\n",
    "f = open('./data/recipe1M+/id_url.json')\n",
    "id_url = (json.load(f))# [0:100]\n",
    "f.close()\n",
    "\n",
    "urls_output = []\n",
    "ids_output = []\n",
    "\n",
    "for id, urls in id_url.items():\n",
    "\n",
    "    for url in urls:\n",
    "\n",
    "        urls_output.append(url)\n",
    "\n",
    "        if url:\n",
    "\n",
    "            ids_output.append(id)\n",
    "\n",
    "print(id_url)\n",
    "print(urls_output)\n",
    "print(ids_output)\n",
    "\n",
    "demo_func(urls_output, ids_output)\n",
    "\n",
    "'''"
   ]
  },
  {
   "cell_type": "markdown",
   "metadata": {
    "pycharm": {
     "name": "#%% md\n"
    }
   },
   "source": [
    "### Comparing Ingredient Prediction w/ Ground Truth\n",
    "\n",
    "IoU and F1 scores are used to compare the prediction of the ingredients made by the Facebook's algorithm with the ones present\n",
    "in the dataset. <br>\n",
    "First, a JSON file with the prediction for each recipe is read. Then, the 2 scores are calculated. Finally, a comparison between \n",
    "the benchmark performed by the algorithm's team and ours is made."
   ]
  },
  {
   "cell_type": "code",
   "execution_count": null,
   "metadata": {
    "pycharm": {
     "is_executing": false,
     "name": "#%%\n"
    }
   },
   "outputs": [],
   "source": [
    "f = open('./data/id_predictedIngredients.json')\n",
    "id_predictedIngredients = (json.load(f))# [0:100]\n",
    "f.close()\n",
    "\n",
    "# ---------------------------- Intersection over Union (IoU) Score / Jaccard Index ----------------------------\n",
    "\n",
    "iou_list = []\n",
    "\n",
    "recipe_ids = id_predictedIngredients.keys\n",
    "\n",
    "for key, value in id_predictedIngredients.items():\n",
    "    \n",
    "    iou_list.append(iou_function(new_id_ingredients_tokenized[key], value))\n",
    "\n",
    "iou = sum(iou_list)/len(iou_list)\n",
    "\n",
    "# ---------------------------- F1 Score ----------------------------\n",
    "\n",
    "f1_list = []\n",
    "\n",
    "for key, value in id_predictedIngredients.items():\n",
    "    \n",
    "    y_true = [new_id_ingredients_tokenized[key]]\n",
    "    y_pred = [value]\n",
    "    \n",
    "    binarizer = MultiLabelBinarizer()\n",
    "    \n",
    "    # In this case, I am considering only the given labels.\n",
    "    binarizer.fit(y_true)\n",
    "    \n",
    "    f1_list.append(f1_score(binarizer.transform(y_true), binarizer.transform(y_pred), average='macro'))\n",
    "    \n",
    "f1 = sum(f1_list)/len(f1_list)\n",
    "\n",
    "# Benchmark Tests Comparison\n",
    "\n",
    "benchmark = {'Method': [\"Ours\", \"Facebook Group\"],\n",
    "        'IoU': [iou, 0.3252],\n",
    "        'F1': [f1, 0.4908]\n",
    "        }\n",
    "\n",
    "df = pandas.DataFrame(benchmark, columns = ['Method', 'IoU', 'F1'])\n",
    "print(df)\n",
    "\n",
    "# Data obtained by the Facebook Research group comparing how their algorithm, a retrieval system and a human perform when \n",
    "# predicting the ingredients present in the food. \n",
    "\n",
    "Image(\"img/iou&f1.png\")"
   ]
  },
  {
   "cell_type": "markdown",
   "metadata": {},
   "source": [
    "### Annotations\n",
    "\n",
    "List Jupyter running sessions: \n",
    "```console\n",
    "jupyter notebook list\n",
    "```\n",
    "\n",
    "Exit Jupyter notebooks:\n",
    "```\n",
    "jupyter notebook stop (8889)\n",
    "```\n",
    "\n",
    "Plot using Matplotlib:\n",
    "https://medium.com/incedge/data-visualization-using-matplotlib-50ffc12f6af2"
   ]
  },
  {
   "cell_type": "code",
   "execution_count": null,
   "metadata": {
    "jupyter": {
     "outputs_hidden": false
    },
    "pycharm": {
     "is_executing": false,
     "name": "#%%\n"
    }
   },
   "outputs": [],
   "source": [
    "HTML('<iframe src=http://fperez.org/papers/ipython07_pe-gr_cise.pdf width=700 height=350></iframe>')\n",
    "\n",
    "# embbeddidng projector"
   ]
  }
 ],
 "metadata": {
  "kernelspec": {
   "display_name": "Python 3",
   "language": "python",
   "name": "python3"
  },
  "language_info": {
   "codemirror_mode": {
    "name": "ipython",
    "version": 3
   },
   "file_extension": ".py",
   "mimetype": "text/x-python",
   "name": "python",
   "nbconvert_exporter": "python",
   "pygments_lexer": "ipython3",
   "version": "3.6.8"
  },
  "pycharm": {
   "stem_cell": {
    "cell_type": "raw",
    "source": [],
    "metadata": {
     "collapsed": false
    }
   }
  }
 },
 "nbformat": 4,
 "nbformat_minor": 4
}