{
 "cells": [
  {
   "cell_type": "markdown",
   "metadata": {},
   "source": [
    "## Inverse Cooking: Recipe Generation from Food Images"
   ]
  },
  {
   "cell_type": "code",
   "execution_count": 1,
   "metadata": {
    "pycharm": {
     "is_executing": false,
     "name": "#%%\n"
    }
   },
   "outputs": [
    {
     "name": "stdout",
     "text": [
      "23231 1488\n",
      "loaded model\n",
      "Elapsed time: 2.1813509464263916\n",
      "{'000018c8a5': [], '000033e39b': [], '000035f7ed': [], '00003a70b1': ['http://img.sndimg.com/food/image/upload/w_512,h_512,c_fit,fl_progressive,q_95/v1/img/recipes/47/91/49/picaYYmb9.jpg', 'http://img.sndimg.com/food/image/upload/w_512,h_512,c_fit,fl_progressive,q_95/v1/img/recipes/47/91/49/picpy37SW.jpg', 'http://img.sndimg.com/food/image/upload/w_512,h_512,c_fit,fl_progressive,q_95/v1/img/recipes/47/91/49/picX9CNE2.jpg'], '00004320bb': [], '0000631d90': [], '000075604a': ['https://img-global.cpcdn.com/001_recipes/5806945844854784/0x0/photo.jpg'], '00007bfd16': ['http://img.sndimg.com/food/image/upload/w_512,h_512,c_fit,fl_progressive,q_95/v1/img/recipes/40/86/94/picNQPjbC.jpg', 'http://img.sndimg.com/food/image/upload/w_512,h_512,c_fit,fl_progressive,q_95/v1/img/recipes/40/86/94/picjXIJN8.jpg'], '000095fc1d': ['http://tastykitchen.com/recipes/wp-content/uploads/sites/2/2011/06/IMG_2692-630x420-410x615.jpg'], '0000973574': []}\n",
      "['http://img.sndimg.com/food/image/upload/w_512,h_512,c_fit,fl_progressive,q_95/v1/img/recipes/47/91/49/picaYYmb9.jpg', 'http://img.sndimg.com/food/image/upload/w_512,h_512,c_fit,fl_progressive,q_95/v1/img/recipes/47/91/49/picpy37SW.jpg', 'http://img.sndimg.com/food/image/upload/w_512,h_512,c_fit,fl_progressive,q_95/v1/img/recipes/47/91/49/picX9CNE2.jpg', 'https://img-global.cpcdn.com/001_recipes/5806945844854784/0x0/photo.jpg', 'http://img.sndimg.com/food/image/upload/w_512,h_512,c_fit,fl_progressive,q_95/v1/img/recipes/40/86/94/picNQPjbC.jpg', 'http://img.sndimg.com/food/image/upload/w_512,h_512,c_fit,fl_progressive,q_95/v1/img/recipes/40/86/94/picjXIJN8.jpg', 'http://tastykitchen.com/recipes/wp-content/uploads/sites/2/2011/06/IMG_2692-630x420-410x615.jpg']\n",
      "['00003a70b1', '00003a70b1', '00003a70b1', '000075604a', '00007bfd16', '00007bfd16', '000095fc1d']\n",
      "['cheese', 'onion', 'pepper', 'potato', 'milk', 'salt', 'butter', 'cream']\n",
      "{}\n",
      "['potato', 'cheese', 'butter', 'pepper', 'onion', 'cream', 'milk', 'salt']\n",
      "{'00003a70b1': ['cheese', 'onion', 'pepper', 'potato', 'milk', 'salt', 'butter', 'cream']}\n",
      "['cheese', 'pepper', 'onion', 'egg', 'potato', 'salt', 'milk', 'cream', 'butter']\n",
      "{'00003a70b1': ['potato', 'cheese', 'butter', 'pepper', 'onion', 'cream', 'milk', 'salt']}\n",
      "['chicken', 'pepper', 'salt', 'lemon', 'oil', 'paprika', 'juice']\n",
      "{'00003a70b1': ['cheese', 'pepper', 'onion', 'egg', 'potato', 'salt', 'milk', 'cream', 'butter']}\n",
      "['sugar', 'egg', 'flour', 'rhubarb', 'salt', 'butter', 'cinnamon', 'strawberries', 'water']\n",
      "{'00003a70b1': ['cheese', 'pepper', 'onion', 'egg', 'potato', 'salt', 'milk', 'cream', 'butter'], '000075604a': ['chicken', 'pepper', 'salt', 'lemon', 'oil', 'paprika', 'juice']}\n",
      "['sugar', 'flour', 'butter', 'salt', 'rhubarb', 'cinnamon', 'baking_powder', 'egg', 'milk', 'extract']\n",
      "{'00003a70b1': ['cheese', 'pepper', 'onion', 'egg', 'potato', 'salt', 'milk', 'cream', 'butter'], '000075604a': ['chicken', 'pepper', 'salt', 'lemon', 'oil', 'paprika', 'juice'], '00007bfd16': ['sugar', 'egg', 'flour', 'rhubarb', 'salt', 'butter', 'cinnamon', 'strawberries', 'water']}\n",
      "['strawberries', 'yogurt', 'blueberries', 'banana', 'almonds', 'seeds']\n",
      "{'00003a70b1': ['cheese', 'pepper', 'onion', 'egg', 'potato', 'salt', 'milk', 'cream', 'butter'], '000075604a': ['chicken', 'pepper', 'salt', 'lemon', 'oil', 'paprika', 'juice'], '00007bfd16': ['sugar', 'flour', 'butter', 'salt', 'rhubarb', 'cinnamon', 'baking_powder', 'egg', 'milk', 'extract']}\n",
      "hello\n"
     ],
     "output_type": "stream"
    },
    {
     "name": "stderr",
     "text": [
      "/Users/luisrita/PycharmProjects/inversecooking-master/venv/lib/python3.6/site-packages/torch/nn/functional.py:52: UserWarning: size_average and reduce args will be deprecated, please use reduction='none' instead.\n",
      "  warnings.warn(warning.format(ret))\n"
     ],
     "output_type": "stream"
    },
    {
     "data": {
      "text/plain": "<Figure size 640x480 with 1 Axes>"
     },
     "metadata": {},
     "output_type": "display_data"
    },
    {
     "data": {
      "text/plain": "<Figure size 640x480 with 1 Axes>"
     },
     "metadata": {},
     "output_type": "display_data"
    },
    {
     "data": {
      "text/plain": "<Figure size 640x480 with 1 Axes>"
     },
     "metadata": {},
     "output_type": "display_data"
    },
    {
     "data": {
      "text/plain": "<Figure size 640x480 with 1 Axes>"
     },
     "metadata": {},
     "output_type": "display_data"
    },
    {
     "data": {
      "text/plain": "<Figure size 640x480 with 1 Axes>"
     },
     "metadata": {},
     "output_type": "display_data"
    },
    {
     "data": {
      "text/plain": "<Figure size 640x480 with 1 Axes>"
     },
     "metadata": {},
     "output_type": "display_data"
    },
    {
     "data": {
      "text/plain": "<Figure size 640x480 with 1 Axes>"
     },
     "metadata": {},
     "output_type": "display_data"
    }
   ],
   "source": [
    "import matplotlib.pyplot as plt\n",
    "import torch\n",
    "import torch.nn as nn\n",
    "import numpy as np\n",
    "import os\n",
    "from src.args import get_parser\n",
    "import pickle\n",
    "from src.model import get_model\n",
    "from torchvision import transforms\n",
    "from src.utils.output_utils import prepare_output\n",
    "from PIL import Image\n",
    "import time\n",
    "import json\n",
    "import sys\n",
    "import requests\n",
    "import random\n",
    "from io import BytesIO\n",
    "\n",
    "from src.demo import demo_func\n",
    "\n",
    "demo_func()"
   ]
  }
 ],
 "metadata": {
  "kernelspec": {
   "display_name": "Python 3",
   "language": "python",
   "name": "python3"
  },
  "language_info": {
   "codemirror_mode": {
    "name": "ipython",
    "version": 3
   },
   "file_extension": ".py",
   "mimetype": "text/x-python",
   "name": "python",
   "nbconvert_exporter": "python",
   "pygments_lexer": "ipython3",
   "version": "3.6.8"
  },
  "pycharm": {
   "stem_cell": {
    "cell_type": "raw",
    "source": [],
    "metadata": {
     "collapsed": false
    }
   }
  }
 },
 "nbformat": 4,
 "nbformat_minor": 2
}