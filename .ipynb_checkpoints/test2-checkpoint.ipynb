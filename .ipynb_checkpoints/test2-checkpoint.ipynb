{
 "cells": [
  {
   "cell_type": "code",
   "execution_count": 2,
   "metadata": {
    "pycharm": {
     "is_executing": false,
     "name": "#%%\n"
    }
   },
   "outputs": [
    {
     "name": "stdout",
     "output_type": "stream",
     "text": [
      "Found 1 modules with codelength: 2.374556574703537\n",
      "Result\n",
      "\n",
      "#node module\n",
      "0 0\n",
      "3 0\n",
      "1 0\n",
      "2 0\n",
      "4 0\n",
      "5 0\n"
     ]
    }
   ],
   "source": [
    "import infomap\n",
    "\n",
    "# Command line flags can be added as a string to Infomap\n",
    "from IPython.core.display import display\n",
    "myInfomap = infomap.Infomap(\"--two-level --directed\")\n",
    "\n",
    "# Access the default network to add links programmatically\n",
    "network = myInfomap.network()\n",
    "\n",
    "# Add weight as optional third argument\n",
    "network.addLink(0, 1, 0.1)\n",
    "network.addLink(0, 2, 0.11)\n",
    "network.addLink(0, 3, 0.3)\n",
    "network.addLink(1, 0, 0.3)\n",
    "network.addLink(1, 2, 1)\n",
    "network.addLink(2, 1, 1)\n",
    "network.addLink(2, 0, 5)\n",
    "network.addLink(3, 0, 6)\n",
    "network.addLink(3, 4, 0.6)\n",
    "network.addLink(3, 5, 6)\n",
    "network.addLink(4, 3, 6)\n",
    "network.addLink(4, 5, 6)\n",
    "network.addLink(5, 4, 6)\n",
    "network.addLink(5, 3, 6)\n",
    "\n",
    "# Run the Infomap search algorithm to find optimal modules\n",
    "myInfomap.run()\n",
    "\n",
    "print(\"Found {} modules with codelength: {}\".format(myInfomap.numTopModules(), myInfomap.codelength()))\n",
    "\n",
    "print(\"Result\")\n",
    "print(\"\\n#node module\")\n",
    "for node in myInfomap.iterTree():\n",
    "  if node.isLeaf():\n",
    "    print(\"{} {}\".format(node.physicalId, node.moduleIndex()))\n",
    "    "
   ]
  },
  {
   "cell_type": "code",
   "execution_count": 1,
   "metadata": {
    "pycharm": {
     "is_executing": false,
     "name": "#%%\n"
    }
   },
   "outputs": [
    {
     "data": {
      "application/vnd.jupyter.widget-view+json": {
       "model_id": "e83c2f057cd947a6913f29f1147657c7",
       "version_major": 2,
       "version_minor": 0
      },
      "text/plain": [
       "ToggleButton(value=False, description='click me')"
      ]
     },
     "metadata": {},
     "output_type": "display_data"
    },
    {
     "data": {
      "application/vnd.jupyter.widget-view+json": {
       "model_id": "ca7e09bb6e9f4c3f83dfed1e82d7f67d",
       "version_major": 2,
       "version_minor": 0
      },
      "text/plain": [
       "Output(layout=Layout(border='1px solid black'))"
      ]
     },
     "metadata": {},
     "output_type": "display_data"
    }
   ],
   "source": [
    "import ipywidgets as w\n",
    "\n",
    "toggle = w.ToggleButton(description='click me')\n",
    "\n",
    "out = w.Output(layout=w.Layout(border = '1px solid black'))\n",
    "\n",
    "def fun(obj):\n",
    "    with out:\n",
    "        if obj['new']:  \n",
    "            display('asd')\n",
    "        else:\n",
    "            out.clear_output()\n",
    "\n",
    "toggle.observe(fun, 'value')\n",
    "display(toggle)\n",
    "display(out)"
   ]
  }
 ],
 "metadata": {
  "kernelspec": {
   "display_name": "Python 3",
   "language": "python",
   "name": "python3"
  },
  "language_info": {
   "codemirror_mode": {
    "name": "ipython",
    "version": 3
   },
   "file_extension": ".py",
   "mimetype": "text/x-python",
   "name": "python",
   "nbconvert_exporter": "python",
   "pygments_lexer": "ipython3",
   "version": "3.6.8"
  },
  "pycharm": {
   "stem_cell": {
    "cell_type": "raw",
    "metadata": {
     "collapsed": false
    },
    "source": []
   }
  }
 },
 "nbformat": 4,
 "nbformat_minor": 1
}
